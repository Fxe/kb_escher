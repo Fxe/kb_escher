{
 "cells": [
  {
   "cell_type": "code",
   "execution_count": 5,
   "metadata": {},
   "outputs": [],
   "source": [
    "import json\n",
    "import cobrakbase"
   ]
  },
  {
   "cell_type": "code",
   "execution_count": 24,
   "metadata": {},
   "outputs": [],
   "source": [
    "token = \"64XQ7SABQILQWSEW3CQKZXJA63DXZBGH\"\n",
    "kbase = cobrakbase.KBaseAPI(token)\n",
    "kbase_dev = cobrakbase.KBaseAPI(token, dev=True)"
   ]
  },
  {
   "cell_type": "code",
   "execution_count": 3,
   "metadata": {},
   "outputs": [],
   "source": [
    "model1 = kbase.get_object('iML1515.kb', 'filipeliu:narrative_1504192868437')"
   ]
  },
  {
   "cell_type": "code",
   "execution_count": 4,
   "metadata": {},
   "outputs": [],
   "source": [
    "model2 = kbase.get_object('GCF_000005845.2.mdl', 'filipeliu:narrative_1504192868437')"
   ]
  },
  {
   "cell_type": "code",
   "execution_count": 7,
   "metadata": {},
   "outputs": [],
   "source": [
    "with open('../data/html/data/model1.json', 'w') as fh:\n",
    "    fh.write(json.dumps(model1))\n",
    "with open('../data/html/data/model2.json', 'w') as fh:\n",
    "    fh.write(json.dumps(model2))"
   ]
  },
  {
   "cell_type": "code",
   "execution_count": 8,
   "metadata": {},
   "outputs": [],
   "source": [
    "ws_dev = 'filipeliu:narrative_1580723870549'"
   ]
  },
  {
   "cell_type": "code",
   "execution_count": 10,
   "metadata": {},
   "outputs": [],
   "source": [
    "import escher\n",
    "import modelseed_escher"
   ]
  },
  {
   "cell_type": "code",
   "execution_count": 11,
   "metadata": {},
   "outputs": [],
   "source": [
    "escher_seed = modelseed_escher.EscherManager(escher)"
   ]
  },
  {
   "cell_type": "code",
   "execution_count": 13,
   "metadata": {},
   "outputs": [
    {
     "data": {
      "text/plain": [
       "{'BIOS',\n",
       " 'Bacillus subtilis',\n",
       " 'Escherichia coli',\n",
       " 'Homo sapiens',\n",
       " 'KEGG',\n",
       " 'ModelSEED',\n",
       " 'Neurospora crassa',\n",
       " 'Oscarichia coli',\n",
       " 'Pichia pastoris',\n",
       " 'Pseudomonas putida KT2440',\n",
       " 'Saccharomyces cerevisiae',\n",
       " 'Synechococcus',\n",
       " 'consensus',\n",
       " 'raw'}"
      ]
     },
     "execution_count": 13,
     "metadata": {},
     "output_type": "execute_result"
    }
   ],
   "source": [
    "escher_seed.list_datasets()"
   ]
  },
  {
   "cell_type": "code",
   "execution_count": 62,
   "metadata": {},
   "outputs": [],
   "source": [
    "for m in escher_seed.list_maps('ModelSEED'):\n",
    "    model_id, map_id = m.split('.')\n",
    "    map_data = escher_seed.get_map('ModelSEED', model_id, map_id)\n",
    "    map_data.escher_data['map_name'] = map_id\n",
    "    if not 'authors' in map_data.escher_data:\n",
    "        map_data.escher_data['authors'] = []\n",
    "    for rxn_uid in map_data.escher_graph['reactions']:\n",
    "        rxn_node = map_data.escher_graph['reactions'][rxn_uid]\n",
    "        rxn_node['reversibility'] = 1 if rxn_node['reversibility'] else 0\n",
    "    \n",
    "        #TEMP HACK FIX OBJECT SPEC\n",
    "        for seg_uid in rxn_node['segments']:\n",
    "            seg = rxn_node['segments'][seg_uid]\n",
    "            if seg['b1'] == None:\n",
    "                seg['b1'] = {'x' : 0, 'y' : 0}\n",
    "            if seg['b2'] == None:\n",
    "                seg['b2'] = {'x' : 0, 'y' : 0}\n",
    "    for node_uid in map_data.escher_graph['nodes']:\n",
    "        node = map_data.escher_graph['nodes'][node_uid]\n",
    "        if 'node_is_primary' in node:\n",
    "            node['node_is_primary'] = 1 if node['node_is_primary'] else 0\n",
    "        if not 'node_is_primary' in node:\n",
    "            node['node_is_primary'] = 0\n",
    "        #TEMP HACK FIX OBJECT SPEC\n",
    "        if not 'bigg_id' in node:\n",
    "            node['bigg_id'] = ''\n",
    "        if not 'label_x' in node:\n",
    "            node['label_x'] = 0\n",
    "        if not 'label_y' in node:\n",
    "            node['label_y'] = 0\n",
    "        if not 'name' in node:\n",
    "            node['name'] = ''\n",
    "    kbase_escher = {\n",
    "        \"metadata\" : map_data.escher_data,\n",
    "        \"layout\" : map_data.escher_graph\n",
    "    }\n",
    "    o_id = map_id.replace(',', ' ') \\\n",
    "                 .replace(')', ' ') \\\n",
    "                 .replace('(', ' ') \\\n",
    "                 .replace(' ', '_') \\\n",
    "                 .replace('__', '_')\n",
    "    #print(map_data.escher_data['map_name'], o_id)\n",
    "    kbase_dev.save_object(o_id, ws_dev, \"KBaseFBA.EscherMap\", kbase_escher)"
   ]
  },
  {
   "cell_type": "code",
   "execution_count": null,
   "metadata": {},
   "outputs": [],
   "source": []
  },
  {
   "cell_type": "code",
   "execution_count": null,
   "metadata": {},
   "outputs": [],
   "source": []
  },
  {
   "cell_type": "code",
   "execution_count": null,
   "metadata": {},
   "outputs": [],
   "source": []
  },
  {
   "cell_type": "code",
   "execution_count": null,
   "metadata": {},
   "outputs": [],
   "source": []
  },
  {
   "cell_type": "code",
   "execution_count": null,
   "metadata": {},
   "outputs": [],
   "source": []
  },
  {
   "cell_type": "code",
   "execution_count": null,
   "metadata": {},
   "outputs": [],
   "source": []
  }
 ],
 "metadata": {
  "kernelspec": {
   "display_name": "Python 3",
   "language": "python",
   "name": "python3"
  },
  "language_info": {
   "codemirror_mode": {
    "name": "ipython",
    "version": 3
   },
   "file_extension": ".py",
   "mimetype": "text/x-python",
   "name": "python",
   "nbconvert_exporter": "python",
   "pygments_lexer": "ipython3",
   "version": "3.7.4"
  }
 },
 "nbformat": 4,
 "nbformat_minor": 4
}
