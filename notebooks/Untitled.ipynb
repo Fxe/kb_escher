{
 "cells": [
  {
   "cell_type": "code",
   "execution_count": 560,
   "metadata": {},
   "outputs": [],
   "source": [
    "import json\n",
    "import cobrakbase"
   ]
  },
  {
   "cell_type": "code",
   "execution_count": 24,
   "metadata": {},
   "outputs": [],
   "source": [
    "token = \"64XQ7SABQILQWSEW3CQKZXJA63DXZBGH\"\n",
    "kbase = cobrakbase.KBaseAPI(token)\n",
    "kbase_dev = cobrakbase.KBaseAPI(token, dev=True)"
   ]
  },
  {
   "cell_type": "code",
   "execution_count": 389,
   "metadata": {},
   "outputs": [],
   "source": [
    "#kbase_dev.save_object('iML1515', 'filipeliu:narrative_1580723870549', 'KBaseFBA.FBAModel', model1)\n",
    "#kbase_dev.save_object('ecoli.kbase', 'filipeliu:narrative_1580723870549', 'KBaseFBA.FBAModel', model2)"
   ]
  },
  {
   "cell_type": "code",
   "execution_count": 534,
   "metadata": {},
   "outputs": [],
   "source": [
    "model3 = kbase_dev.get_object('test_propagated_model', 'chenry:narrative_1504151898593')"
   ]
  },
  {
   "cell_type": "code",
   "execution_count": null,
   "metadata": {},
   "outputs": [],
   "source": [
    "with open('../data/html/data/model1.json', 'w') as fh:\n",
    "    fh.write(json.dumps(model1))\n",
    "with open('../data/html/data/model2.json', 'w') as fh:\n",
    "    fh.write(json.dumps(model2))"
   ]
  },
  {
   "cell_type": "code",
   "execution_count": 538,
   "metadata": {},
   "outputs": [],
   "source": [
    "models = {\n",
    "    'iML1515' : fbamodel1,\n",
    "    'KBase' : fbamodel2,\n",
    "    'model3' : fbamodel3,\n",
    "}"
   ]
  },
  {
   "cell_type": "code",
   "execution_count": null,
   "metadata": {},
   "outputs": [],
   "source": []
  },
  {
   "cell_type": "code",
   "execution_count": 535,
   "metadata": {},
   "outputs": [],
   "source": [
    "fbamodel3 = cobrakbase.core.KBaseFBAModel(model3)\n",
    "b = cobrakbase.core.converters.KBaseFBAModelToCobraBuilder(fbamodel3)\n",
    "cobra_model3 = b.build()"
   ]
  },
  {
   "cell_type": "code",
   "execution_count": 561,
   "metadata": {
    "collapsed": true,
    "jupyter": {
     "outputs_hidden": true
    }
   },
   "outputs": [
    {
     "ename": "CobraSBMLError",
     "evalue": "Something went wrong reading the SBML model. Most likely the SBML model is not valid. Please check that your model is valid using the `cobra.io.sbml.validate_sbml_model` function or via the online validator at http://sbml.org/validator .\n\t`(model, errors) = validate_sbml_model(filename)`\nIf the model is valid and cannot be read please open an issue at https://github.com/opencobra/cobrapy/issues .",
     "output_type": "error",
     "traceback": [
      "\u001b[0;31m---------------------------------------------------------------------------\u001b[0m",
      "\u001b[0;31mCobraSBMLError\u001b[0m                            Traceback (most recent call last)",
      "\u001b[0;32m~/opt/anaconda3/lib/python3.7/site-packages/cobra/io/sbml.py\u001b[0m in \u001b[0;36mread_sbml_model\u001b[0;34m(filename, number, f_replace, **kwargs)\u001b[0m\n\u001b[1;32m    254\u001b[0m                               \u001b[0mf_replace\u001b[0m\u001b[0;34m=\u001b[0m\u001b[0mf_replace\u001b[0m\u001b[0;34m,\u001b[0m\u001b[0;34m\u001b[0m\u001b[0;34m\u001b[0m\u001b[0m\n\u001b[0;32m--> 255\u001b[0;31m                               **kwargs)\n\u001b[0m\u001b[1;32m    256\u001b[0m     \u001b[0;32mexcept\u001b[0m \u001b[0mIOError\u001b[0m \u001b[0;32mas\u001b[0m \u001b[0me\u001b[0m\u001b[0;34m:\u001b[0m\u001b[0;34m\u001b[0m\u001b[0;34m\u001b[0m\u001b[0m\n",
      "\u001b[0;32m~/opt/anaconda3/lib/python3.7/site-packages/cobra/io/sbml.py\u001b[0m in \u001b[0;36m_sbml_to_model\u001b[0;34m(doc, number, f_replace, set_missing_bounds, **kwargs)\u001b[0m\n\u001b[1;32m    427\u001b[0m     \u001b[0;32mfor\u001b[0m \u001b[0mspecie\u001b[0m \u001b[0;32min\u001b[0m \u001b[0mmodel\u001b[0m\u001b[0;34m.\u001b[0m\u001b[0mgetListOfSpecies\u001b[0m\u001b[0;34m(\u001b[0m\u001b[0;34m)\u001b[0m\u001b[0;34m:\u001b[0m  \u001b[0;31m# type: libsbml.Species\u001b[0m\u001b[0;34m\u001b[0m\u001b[0;34m\u001b[0m\u001b[0m\n\u001b[0;32m--> 428\u001b[0;31m         \u001b[0msid\u001b[0m \u001b[0;34m=\u001b[0m \u001b[0m_check_required\u001b[0m\u001b[0;34m(\u001b[0m\u001b[0mspecie\u001b[0m\u001b[0;34m,\u001b[0m \u001b[0mspecie\u001b[0m\u001b[0;34m.\u001b[0m\u001b[0mgetIdAttribute\u001b[0m\u001b[0;34m(\u001b[0m\u001b[0;34m)\u001b[0m\u001b[0;34m,\u001b[0m \u001b[0;34m\"id\"\u001b[0m\u001b[0;34m)\u001b[0m\u001b[0;34m\u001b[0m\u001b[0;34m\u001b[0m\u001b[0m\n\u001b[0m\u001b[1;32m    429\u001b[0m         \u001b[0;32mif\u001b[0m \u001b[0mf_replace\u001b[0m \u001b[0;32mand\u001b[0m \u001b[0mF_SPECIE\u001b[0m \u001b[0;32min\u001b[0m \u001b[0mf_replace\u001b[0m\u001b[0;34m:\u001b[0m\u001b[0;34m\u001b[0m\u001b[0;34m\u001b[0m\u001b[0m\n",
      "\u001b[0;32m~/opt/anaconda3/lib/python3.7/site-packages/cobra/io/sbml.py\u001b[0m in \u001b[0;36m_check_required\u001b[0;34m(sbase, value, attribute)\u001b[0m\n\u001b[1;32m   1255\u001b[0m             \u001b[0mmsg\u001b[0m \u001b[0;34m+=\u001b[0m \u001b[0;34m\" with metaId '%s'\"\u001b[0m \u001b[0;34m%\u001b[0m \u001b[0msbase\u001b[0m\u001b[0;34m.\u001b[0m\u001b[0mgetName\u001b[0m\u001b[0;34m(\u001b[0m\u001b[0;34m)\u001b[0m\u001b[0;34m\u001b[0m\u001b[0;34m\u001b[0m\u001b[0m\n\u001b[0;32m-> 1256\u001b[0;31m         \u001b[0;32mraise\u001b[0m \u001b[0mCobraSBMLError\u001b[0m\u001b[0;34m(\u001b[0m\u001b[0mmsg\u001b[0m\u001b[0;34m)\u001b[0m\u001b[0;34m\u001b[0m\u001b[0;34m\u001b[0m\u001b[0m\n\u001b[0m\u001b[1;32m   1257\u001b[0m     \u001b[0;32mif\u001b[0m \u001b[0mattribute\u001b[0m \u001b[0;34m==\u001b[0m \u001b[0;34m\"id\"\u001b[0m\u001b[0;34m:\u001b[0m\u001b[0;34m\u001b[0m\u001b[0;34m\u001b[0m\u001b[0m\n",
      "\u001b[0;31mCobraSBMLError\u001b[0m: Required attribute 'id' cannot be found or parsed in '<Species \"N-monoacetylchitobiose 6'-phosphate\">'. with name 'N-monoacetylchitobiose 6'-phosphate'",
      "\nThe above exception was the direct cause of the following exception:\n",
      "\u001b[0;31mCobraSBMLError\u001b[0m                            Traceback (most recent call last)",
      "\u001b[0;32m<ipython-input-561-27decea6a417>\u001b[0m in \u001b[0;36m<module>\u001b[0;34m\u001b[0m\n\u001b[0;32m----> 1\u001b[0;31m \u001b[0mcobra\u001b[0m\u001b[0;34m.\u001b[0m\u001b[0mio\u001b[0m\u001b[0;34m.\u001b[0m\u001b[0mread_sbml_model\u001b[0m\u001b[0;34m(\u001b[0m\u001b[0;34m'/Users/fliu/Downloads/iML1515.kb.xml'\u001b[0m\u001b[0;34m)\u001b[0m\u001b[0;34m\u001b[0m\u001b[0;34m\u001b[0m\u001b[0m\n\u001b[0m",
      "\u001b[0;32m~/opt/anaconda3/lib/python3.7/site-packages/cobra/io/sbml.py\u001b[0m in \u001b[0;36mread_sbml_model\u001b[0;34m(filename, number, f_replace, **kwargs)\u001b[0m\n\u001b[1;32m    266\u001b[0m             \u001b[0;34m\"\\nIf the model is valid and cannot be read please open an issue \"\u001b[0m\u001b[0;34m\u001b[0m\u001b[0;34m\u001b[0m\u001b[0m\n\u001b[1;32m    267\u001b[0m             \"at https://github.com/opencobra/cobrapy/issues .\")\n\u001b[0;32m--> 268\u001b[0;31m         \u001b[0mraise_from\u001b[0m\u001b[0;34m(\u001b[0m\u001b[0mcobra_error\u001b[0m\u001b[0;34m,\u001b[0m \u001b[0moriginal_error\u001b[0m\u001b[0;34m)\u001b[0m\u001b[0;34m\u001b[0m\u001b[0;34m\u001b[0m\u001b[0m\n\u001b[0m\u001b[1;32m    269\u001b[0m \u001b[0;34m\u001b[0m\u001b[0m\n\u001b[1;32m    270\u001b[0m \u001b[0;34m\u001b[0m\u001b[0m\n",
      "\u001b[0;32m~/opt/anaconda3/lib/python3.7/site-packages/six.py\u001b[0m in \u001b[0;36mraise_from\u001b[0;34m(value, from_value)\u001b[0m\n",
      "\u001b[0;31mCobraSBMLError\u001b[0m: Something went wrong reading the SBML model. Most likely the SBML model is not valid. Please check that your model is valid using the `cobra.io.sbml.validate_sbml_model` function or via the online validator at http://sbml.org/validator .\n\t`(model, errors) = validate_sbml_model(filename)`\nIf the model is valid and cannot be read please open an issue at https://github.com/opencobra/cobrapy/issues ."
     ]
    }
   ],
   "source": [
    "cobra.io.read_sbml_model('/Users/fliu/Downloads/iML1515.kb.xml')"
   ]
  },
  {
   "cell_type": "code",
   "execution_count": 413,
   "metadata": {},
   "outputs": [
    {
     "data": {
      "text/plain": [
       "[8248,\n",
       " 'chenry:narrative_1504151898593',\n",
       " 'chenry',\n",
       " '2020-02-10T20:01:50+0000',\n",
       " 253,\n",
       " 'a',\n",
       " 'r',\n",
       " 'unlocked',\n",
       " {'narrative_nice_name': 'fba_tools_test_narrative',\n",
       "  'is_temporary': 'false',\n",
       "  'narrative': '1'}]"
      ]
     },
     "execution_count": 413,
     "metadata": {},
     "output_type": "execute_result"
    }
   ],
   "source": [
    "kbase_dev.ws_client.get_workspace_info({'id' :8248 })"
   ]
  },
  {
   "cell_type": "code",
   "execution_count": 416,
   "metadata": {},
   "outputs": [
    {
     "data": {
      "text/plain": [
       "[170,\n",
       " 'test_expression_matrix',\n",
       " 'KBaseFeatureValues.ExpressionMatrix-1.0',\n",
       " '2017-09-08T16:30:31+0000',\n",
       " 2,\n",
       " 'jjeffryes',\n",
       " 8248,\n",
       " 'chenry:narrative_1504151898593',\n",
       " '5a100ee2b834c6d17ad83902451382c6',\n",
       " 1095819,\n",
       " None]"
      ]
     },
     "execution_count": 416,
     "metadata": {},
     "output_type": "execute_result"
    }
   ],
   "source": [
    "os = kbase_dev.list_objects('chenry:narrative_1504151898593')\n",
    "for o in os:\n",
    "    oid = o[1]\n",
    "    if oid == 'test_expression_matrix':\n",
    "        break\n",
    "o"
   ]
  },
  {
   "cell_type": "code",
   "execution_count": 447,
   "metadata": {},
   "outputs": [],
   "source": [
    "ref = kbase_dev.get_object_info_from_ref('8248/232/1')"
   ]
  },
  {
   "cell_type": "code",
   "execution_count": 448,
   "metadata": {},
   "outputs": [
    {
     "data": {
      "text/plain": [
       "'chenry:narrative_1504151898593'"
      ]
     },
     "execution_count": 448,
     "metadata": {},
     "output_type": "execute_result"
    }
   ],
   "source": [
    "ref.workspace_id"
   ]
  },
  {
   "cell_type": "code",
   "execution_count": 449,
   "metadata": {},
   "outputs": [],
   "source": [
    "attribute_mapping = kbase_dev.get_object(ref.id, ref.workspace_id)"
   ]
  },
  {
   "cell_type": "code",
   "execution_count": 456,
   "metadata": {},
   "outputs": [
    {
     "data": {
      "text/plain": [
       "{'attribute': 'seed_id',\n",
       " 'attribute_ont_id': 'Custom:Term',\n",
       " 'attribute_ont_ref': 'KbaseOntologies/Custom',\n",
       " 'source': ''}"
      ]
     },
     "execution_count": 456,
     "metadata": {},
     "output_type": "execute_result"
    }
   ],
   "source": [
    "attribute_mapping['attributes'][-1]"
   ]
  },
  {
   "cell_type": "code",
   "execution_count": 460,
   "metadata": {},
   "outputs": [
    {
     "data": {
      "text/plain": [
       "['', '564', 'C5H6O4', '130.0266087', 'HNEGQIOMVPPMNR-IHWYPQMZSA-N', 'cpd01502']"
      ]
     },
     "execution_count": 460,
     "metadata": {},
     "output_type": "execute_result"
    }
   ],
   "source": [
    "attribute_mapping['instances']['2-methylmaleate']"
   ]
  },
  {
   "cell_type": "code",
   "execution_count": 429,
   "metadata": {},
   "outputs": [],
   "source": [
    "exodata = kbase_dev.get_object('exodata', 'chenry:narrative_1504151898593')"
   ]
  },
  {
   "cell_type": "code",
   "execution_count": 440,
   "metadata": {},
   "outputs": [
    {
     "data": {
      "text/plain": [
       "dict_keys(['biochemistry_ref', 'col_attributemapping_ref', 'col_mapping', 'data', 'description', 'row_attributemapping_ref', 'row_mapping', 'scale'])"
      ]
     },
     "execution_count": 440,
     "metadata": {},
     "output_type": "execute_result"
    }
   ],
   "source": [
    "exodata.keys()"
   ]
  },
  {
   "cell_type": "code",
   "execution_count": 446,
   "metadata": {},
   "outputs": [
    {
     "data": {
      "text/plain": [
       "'8248/232/1'"
      ]
     },
     "execution_count": 446,
     "metadata": {},
     "output_type": "execute_result"
    }
   ],
   "source": [
    "exodata['row_attributemapping_ref']"
   ]
  },
  {
   "cell_type": "code",
   "execution_count": 514,
   "metadata": {},
   "outputs": [],
   "source": [
    "#exodata['data']['col_ids']"
   ]
  },
  {
   "cell_type": "code",
   "execution_count": 510,
   "metadata": {},
   "outputs": [],
   "source": [
    "#exodata['data']['row_ids']\n",
    "#ChemicalAbundanceMatrix"
   ]
  },
  {
   "cell_type": "code",
   "execution_count": 546,
   "metadata": {},
   "outputs": [],
   "source": [
    "ref_id = test_expression_matrix['genome_ref'] #'8248/9/1'\n",
    "ref = kbase_dev.get_object_info_from_ref(ref_id)\n"
   ]
  },
  {
   "cell_type": "code",
   "execution_count": 551,
   "metadata": {},
   "outputs": [
    {
     "data": {
      "text/plain": [
       "[{'complex_ref': '~/template/complexes/name/cpx01779',\n",
       "  'modelReactionProteinSubunits': [{'feature_refs': ['~/genome/features/id/SAMA_RS00835'],\n",
       "    'note': '',\n",
       "    'optionalSubunit': 0,\n",
       "    'role': 'ftr00745',\n",
       "    'triggering': 1}],\n",
       "  'note': '',\n",
       "  'source': ''}]"
      ]
     },
     "execution_count": 551,
     "metadata": {},
     "output_type": "execute_result"
    }
   ],
   "source": [
    "model3['modelreactions'][0]['modelReactionProteins']"
   ]
  },
  {
   "cell_type": "code",
   "execution_count": 417,
   "metadata": {},
   "outputs": [],
   "source": [
    "test_expression_matrix = kbase_dev.get_object('test_expression_matrix', 'chenry:narrative_1504151898593')"
   ]
  },
  {
   "cell_type": "code",
   "execution_count": 485,
   "metadata": {},
   "outputs": [
    {
     "data": {
      "text/plain": [
       "dict_keys(['data', 'feature_mapping', 'genome_ref', 'scale', 'type'])"
      ]
     },
     "execution_count": 485,
     "metadata": {},
     "output_type": "execute_result"
    }
   ],
   "source": [
    "test_expression_matrix.keys()"
   ]
  },
  {
   "cell_type": "code",
   "execution_count": 487,
   "metadata": {},
   "outputs": [
    {
     "data": {
      "text/plain": [
       "'1.0'"
      ]
     },
     "execution_count": 487,
     "metadata": {},
     "output_type": "execute_result"
    }
   ],
   "source": [
    "test_expression_matrix['scale']"
   ]
  },
  {
   "cell_type": "code",
   "execution_count": 532,
   "metadata": {},
   "outputs": [],
   "source": [
    "exo_data = get_chemical_abundance_data(exodata, \n",
    "                                       'ZMMG_Z_mobilis_ZMO0748_cysK', \n",
    "                                       attribute_mapping)\n",
    "exo_data = get_all_chemical_abundance_data(exodata, attribute_mapping)\n",
    "\n",
    "map_decorators = dump_chemical_abundance_datasets('model3', exo_data, map_decorators)"
   ]
  },
  {
   "cell_type": "code",
   "execution_count": null,
   "metadata": {},
   "outputs": [],
   "source": []
  },
  {
   "cell_type": "code",
   "execution_count": null,
   "metadata": {},
   "outputs": [],
   "source": [
    "params = {\n",
    "    'workspace_id': 37534, \n",
    "    'map_ids': ['dfsdfsdf'], \n",
    "    'grid_x': '1', 'grid_y': '1', \n",
    "    'model_objects': [\n",
    "        {'object_ids': ['37534/91/1'], 'model_id': '37534/90/3'}, \n",
    "        {'object_ids': ['37534/92/1'], 'model_id': '37534/89/1'}], \n",
    "    'report_height': '800', \n",
    "    'workspace_name': 'filipeliu:narrative_1580723870549', \n",
    "    'model_ids': ['37534/90/3', '37534/89/1']\n",
    "}"
   ]
  },
  {
   "cell_type": "code",
   "execution_count": 509,
   "metadata": {},
   "outputs": [],
   "source": [
    "expr_data = get_all_expression_data(test_expression_matrix)\n",
    "\n",
    "\n",
    "map_decorators = dump_expression_datasets('model3', expr_data, map_decorators)\n",
    "with open('../data/html/data/map_decorators.json', 'w') as fh:\n",
    "    fh.write(json.dumps(map_decorators))"
   ]
  },
  {
   "cell_type": "code",
   "execution_count": 562,
   "metadata": {},
   "outputs": [],
   "source": [
    "#expr_data"
   ]
  },
  {
   "cell_type": "code",
   "execution_count": 409,
   "metadata": {},
   "outputs": [],
   "source": [
    "metabolite_conc = {\n",
    "    'cpd01775_c0' : 23.0,\n",
    "    'cpd01777_c0' : 20.0\n",
    "}\n",
    "\n",
    "with open('../data/html/data/model1_cpd_conc.json', 'w') as fh:\n",
    "    fh.write(json.dumps(metabolite_conc))\n",
    "\n",
    "metabolite_conc = {\n",
    "    'cpd01775_c0' : 20.0,\n",
    "    'cpd01777_c0' : 19\n",
    "}\n",
    "\n",
    "with open('../data/html/data/model2_cpd_conc.json', 'w') as fh:\n",
    "    fh.write(json.dumps(metabolite_conc))"
   ]
  },
  {
   "cell_type": "code",
   "execution_count": 3,
   "metadata": {},
   "outputs": [],
   "source": [
    "model1 = kbase.get_object('iML1515.kb', 'filipeliu:narrative_1504192868437')"
   ]
  },
  {
   "cell_type": "code",
   "execution_count": 4,
   "metadata": {},
   "outputs": [],
   "source": [
    "model2 = kbase.get_object('GCF_000005845.2.mdl', 'filipeliu:narrative_1504192868437')"
   ]
  },
  {
   "cell_type": "code",
   "execution_count": 120,
   "metadata": {},
   "outputs": [],
   "source": [
    "fbamodel1 = cobrakbase.core.KBaseFBAModel(model1)\n",
    "fbamodel2 = cobrakbase.core.KBaseFBAModel(model2)"
   ]
  },
  {
   "cell_type": "code",
   "execution_count": null,
   "metadata": {},
   "outputs": [],
   "source": []
  },
  {
   "cell_type": "code",
   "execution_count": null,
   "metadata": {},
   "outputs": [],
   "source": []
  },
  {
   "cell_type": "code",
   "execution_count": 508,
   "metadata": {},
   "outputs": [],
   "source": [
    "map_decorators = {\n",
    "    \"iML1515\": {\n",
    "        \"reaction\": {\n",
    "            \"FBA\" : [\n",
    "                {\"id\" : \"Glucose\", \"path\" : \"model1_flux_glucose.json\"},\n",
    "                {\"id\" : \"Etho\", \"path\" : \"model1_flux_etho.json\"},\n",
    "                {\"id\" : \"Ac\", \"path\" : \"model1_flux_ac.json\"}\n",
    "            ]\n",
    "        },\n",
    "        \"compound\": {\n",
    "            \"concentation\" : [\n",
    "                {\"id\" : \"cpd_conc\", \"path\" : \"model1_cpd_conc.json\"},\n",
    "            ]\n",
    "        },\n",
    "        \"gene\": {\n",
    "            \"expression\" : [\n",
    "                {\"id\" : \"gene_exp\", \"path\" : \"model1_expre.json\"},\n",
    "            ]\n",
    "        }\n",
    "    }, \n",
    "    \"KBase\": {\n",
    "        \"reaction\" : {\n",
    "            \"FBA\" : [\n",
    "                {\"id\" : \"Glucose\", \"path\" : \"model2_flux_glucose.json\"}\n",
    "            ]\n",
    "        },\n",
    "        \"compound\": {\n",
    "            \"concentation\" : [\n",
    "                {\"id\" : \"cpd_conc\", \"path\" : \"model2_cpd_conc.json\"},\n",
    "            ]\n",
    "        },\n",
    "        \"gene\": {\n",
    "            \"expression\" : [\n",
    "                {\"id\" : \"gene_exp\", \"path\" : \"model2_expre.json\"},\n",
    "            ]\n",
    "        }\n",
    "    }\n",
    "}\n",
    "with open('../data/html/data/map_decorators.json', 'w') as fh:\n",
    "    fh.write(json.dumps(map_decorators))"
   ]
  },
  {
   "cell_type": "code",
   "execution_count": 543,
   "metadata": {},
   "outputs": [],
   "source": [
    "with open('../data/html/data/map_decorators.json', 'w') as fh:\n",
    "    fh.write(json.dumps(map_decorators))"
   ]
  },
  {
   "cell_type": "code",
   "execution_count": 539,
   "metadata": {},
   "outputs": [
    {
     "name": "stderr",
     "output_type": "stream",
     "text": [
      "WARNING:cobrakbase.core.converters:duplicate reaction: DM_cpd02701_c0\n",
      "WARNING:cobrakbase.core.converters:copy reaction: [DM_cpd02701_c0] -> [DM_cpd02701_c0_copy1]\n"
     ]
    }
   ],
   "source": [
    "for model_id in models:\n",
    "    b = cobrakbase.core.converters.KBaseFBAModelToCobraBuilder(models[model_id])\n",
    "    cobra_model = b.build()\n",
    "    cobra_json = json.loads(cobra.io.to_json(cobra_model))\n",
    "    for m in cobra_json['metabolites']:\n",
    "        m['id'] += '@' + model_id\n",
    "    for r in cobra_json['reactions']:\n",
    "        r['id'] += '@' + model_id\n",
    "        r['metabolites'] = dict(map(lambda x : (x + '@' + model_id, r['metabolites'][x]), r['metabolites']))\n",
    "    with open('../data/html/data/models/' + model_id + '.json', 'w') as fh:\n",
    "        fh.write(json.dumps(cobra_json))"
   ]
  },
  {
   "cell_type": "code",
   "execution_count": 183,
   "metadata": {},
   "outputs": [
    {
     "name": "stderr",
     "output_type": "stream",
     "text": [
      "WARNING:cobrakbase.core.converters:duplicate reaction: DM_cpd02701_c0\n",
      "WARNING:cobrakbase.core.converters:copy reaction: [DM_cpd02701_c0] -> [DM_cpd02701_c0_copy1]\n"
     ]
    }
   ],
   "source": [
    "b = cobrakbase.core.converters.KBaseFBAModelToCobraBuilder(fbamodel1)\n",
    "cobra_model1 = b.build()"
   ]
  },
  {
   "cell_type": "code",
   "execution_count": 190,
   "metadata": {},
   "outputs": [],
   "source": [
    "media = cobrakbase.core.KBaseBiochemMedia(kbase.get_object('Carbon-D-Glucose', 'filipeliu:narrative_1504192868437'))"
   ]
  },
  {
   "cell_type": "code",
   "execution_count": 191,
   "metadata": {},
   "outputs": [],
   "source": [
    "b = cobrakbase.core.converters.KBaseFBAModelToCobraBuilder(fbamodel2)\n",
    "cobra_model2 = b.with_media(media).build()"
   ]
  },
  {
   "cell_type": "code",
   "execution_count": 203,
   "metadata": {},
   "outputs": [],
   "source": [
    "solution = cobra_model2.optimize()\n",
    "flux_map = dict(map(lambda x : (x.id, x.flux), cobra_model2.reactions))\n",
    "with open('../data/html/data/model2_flux_glucose.json', 'w') as fh:\n",
    "    fh.write(json.dumps(flux_map))"
   ]
  },
  {
   "cell_type": "code",
   "execution_count": 397,
   "metadata": {},
   "outputs": [
    {
     "data": {
      "text/plain": [
       "1"
      ]
     },
     "execution_count": 397,
     "metadata": {},
     "output_type": "execute_result"
    }
   ],
   "source": []
  },
  {
   "cell_type": "code",
   "execution_count": 384,
   "metadata": {},
   "outputs": [
    {
     "name": "stdout",
     "output_type": "stream",
     "text": [
      "DM_cpd02701_c0\n",
      "DM_cpd01027_c0\n",
      "DM_cpd15380_c0\n",
      "DM_cpd04122_c0\n",
      "DM_cpd01042_c0\n",
      "DM_cpd15127_c0\n"
     ]
    }
   ],
   "source": [
    "flux_map2 = {}\n",
    "for r in fbamodel1.reactions:\n",
    "    oid = r.get_original_id()\n",
    "    if oid == None:\n",
    "        print(r.id)\n",
    "    else:\n",
    "        oid = oid[2:]\n",
    "        if oid in flux_map:\n",
    "            flux_map2[r.id] = flux_map[oid]\n",
    "with open('../data/html/data/model1_flux_etho.json', 'w') as fh:\n",
    "    fh.write(json.dumps(flux_map2))"
   ]
  },
  {
   "cell_type": "code",
   "execution_count": null,
   "metadata": {},
   "outputs": [],
   "source": []
  },
  {
   "cell_type": "code",
   "execution_count": 383,
   "metadata": {},
   "outputs": [
    {
     "name": "stdout",
     "output_type": "stream",
     "text": [
      "<Solution 1.165 at 0x7f9a3e51ea50>\n"
     ]
    }
   ],
   "source": [
    "cobra_model0 = cobra.io.read_sbml_model('../../../../data/sbml/iML1515/source.xml')\n",
    "#cobra_model0.summary()\n",
    "#cobra_model0.objective = cobra_model0.reactions.BIOMASS_Ec_iML1515_WT_75p37M\n",
    "cobra_model0.objective = cobra_model0.reactions.BIOMASS_Ec_iML1515_core_75p37M\n",
    "#cobra_model0.reactions.EX_ac_e.lower_bound = -30\n",
    "cobra_model0.reactions.EX_glc__D_e.lower_bound = 0\n",
    "cobra_model0.reactions.EX_etoh_e.lower_bound = -30\n",
    "solution = cobra_model0.optimize()\n",
    "print(solution)\n",
    "flux_map = dict(map(lambda x : (x.id, x.flux), cobra_model0.reactions))\n",
    "#cobra_model0.medium"
   ]
  },
  {
   "cell_type": "code",
   "execution_count": 7,
   "metadata": {},
   "outputs": [],
   "source": []
  },
  {
   "cell_type": "code",
   "execution_count": 8,
   "metadata": {},
   "outputs": [],
   "source": [
    "ws_dev = 'filipeliu:narrative_1580723870549'"
   ]
  },
  {
   "cell_type": "code",
   "execution_count": 10,
   "metadata": {},
   "outputs": [],
   "source": [
    "import escher\n",
    "import modelseed_escher"
   ]
  },
  {
   "cell_type": "code",
   "execution_count": 11,
   "metadata": {},
   "outputs": [],
   "source": [
    "escher_seed = modelseed_escher.EscherManager(escher)"
   ]
  },
  {
   "cell_type": "code",
   "execution_count": 13,
   "metadata": {},
   "outputs": [
    {
     "data": {
      "text/plain": [
       "{'BIOS',\n",
       " 'Bacillus subtilis',\n",
       " 'Escherichia coli',\n",
       " 'Homo sapiens',\n",
       " 'KEGG',\n",
       " 'ModelSEED',\n",
       " 'Neurospora crassa',\n",
       " 'Oscarichia coli',\n",
       " 'Pichia pastoris',\n",
       " 'Pseudomonas putida KT2440',\n",
       " 'Saccharomyces cerevisiae',\n",
       " 'Synechococcus',\n",
       " 'consensus',\n",
       " 'raw'}"
      ]
     },
     "execution_count": 13,
     "metadata": {},
     "output_type": "execute_result"
    }
   ],
   "source": [
    "escher_seed.list_datasets()"
   ]
  },
  {
   "cell_type": "code",
   "execution_count": 590,
   "metadata": {},
   "outputs": [
    {
     "data": {
      "text/plain": [
       "[[107,\n",
       "  'example_map',\n",
       "  'KBaseFBA.EscherMap-3.0',\n",
       "  '2020-02-19T21:46:12+0000',\n",
       "  7,\n",
       "  'filipeliu',\n",
       "  37534,\n",
       "  'filipeliu:narrative_1580723870549',\n",
       "  '8def3d0b4c96ef9d5a2bc55ea7622b32',\n",
       "  9311,\n",
       "  {}]]"
      ]
     },
     "execution_count": 590,
     "metadata": {},
     "output_type": "execute_result"
    }
   ],
   "source": [
    "map_data= None\n",
    "with open('/Users/fliu/Downloads/new_map (4).json', 'r') as fh:\n",
    "    map_data = json.loads(fh.read())\n",
    "    \n",
    "odata = adapt_map_to_kbase(map_data, \"example_map\")\n",
    "kbase_dev.save_object(\"example_map\", ws_dev, \"KBaseFBA.EscherMap\", odata)"
   ]
  },
  {
   "cell_type": "code",
   "execution_count": 591,
   "metadata": {},
   "outputs": [],
   "source": [
    "def adapt_map_to_kbase(refactored_escher_data, map_id):\n",
    "    refactored_escher_data[0]['map_name'] = map_id\n",
    "    if not 'authors' in refactored_escher_data[0]:\n",
    "        refactored_escher_data[0]['authors'] = []\n",
    "        \n",
    "    for rxn_uid in refactored_escher_data[1]['reactions']:\n",
    "        rxn_node = refactored_escher_data[1]['reactions'][rxn_uid]\n",
    "        rxn_node['reversibility'] = 1 if rxn_node['reversibility'] else 0\n",
    "    \n",
    "        for seg_uid in rxn_node['segments']:\n",
    "            seg = rxn_node['segments'][seg_uid]\n",
    "            if seg['b1'] == None:\n",
    "                del seg['b1']\n",
    "            if seg['b2'] == None:\n",
    "                del seg['b2']\n",
    "                \n",
    "    for node_uid in refactored_escher_data[1]['nodes']:\n",
    "        node = refactored_escher_data[1]['nodes'][node_uid]\n",
    "        if 'node_is_primary' in node:\n",
    "            node['node_is_primary'] = 1 if node['node_is_primary'] else 0\n",
    "            \n",
    "    kbase_escher = {\n",
    "        \"metadata\" : refactored_escher_data[0],\n",
    "        \"layout\" : refactored_escher_data[1]\n",
    "    }\n",
    "    \n",
    "    return kbase_escher"
   ]
  },
  {
   "cell_type": "code",
   "execution_count": 588,
   "metadata": {},
   "outputs": [],
   "source": [
    "for m in escher_seed.list_maps('ModelSEED'):\n",
    "    model_id, map_id = m.split('.')\n",
    "    map_data = escher_seed.get_map('ModelSEED', model_id, map_id)\n",
    "    map_data.escher_data['map_name'] = map_id\n",
    "    if not 'authors' in map_data.escher_data:\n",
    "        map_data.escher_data['authors'] = []\n",
    "    for rxn_uid in map_data.escher_graph['reactions']:\n",
    "        rxn_node = map_data.escher_graph['reactions'][rxn_uid]\n",
    "        rxn_node['reversibility'] = 1 if rxn_node['reversibility'] else 0\n",
    "    \n",
    "        for seg_uid in rxn_node['segments']:\n",
    "            seg = rxn_node['segments'][seg_uid]\n",
    "            if seg['b1'] == None:\n",
    "                del seg['b1']\n",
    "            if seg['b2'] == None:\n",
    "                del seg['b2']\n",
    "    for node_uid in map_data.escher_graph['nodes']:\n",
    "        node = map_data.escher_graph['nodes'][node_uid]\n",
    "        if 'node_is_primary' in node:\n",
    "            node['node_is_primary'] = 1 if node['node_is_primary'] else 0\n",
    "        if not 'node_is_primary' in node:\n",
    "            node['node_is_primary'] = 0\n",
    "    kbase_escher = {\n",
    "        \"metadata\" : map_data.escher_data,\n",
    "        \"layout\" : map_data.escher_graph\n",
    "    }\n",
    "    o_id = map_id.replace(',', ' ') \\\n",
    "                 .replace(')', ' ') \\\n",
    "                 .replace('(', ' ') \\\n",
    "                 .replace(' ', '_') \\\n",
    "                 .replace('__', '_')\n",
    "    #print(map_data.escher_data['map_name'], o_id)\n",
    "    kbase_dev.save_object(o_id, ws_dev, \"KBaseFBA.EscherMap\", kbase_escher)"
   ]
  },
  {
   "cell_type": "code",
   "execution_count": 79,
   "metadata": {},
   "outputs": [
    {
     "name": "stdout",
     "output_type": "stream",
     "text": [
      "Xyloglucan Metabolism\n"
     ]
    }
   ],
   "source": [
    "for m in escher_seed.list_maps('ModelSEED'):\n",
    "    model_id, map_id = m.split('.')\n",
    "    map_data = escher_seed.get_map('ModelSEED', model_id, map_id)\n",
    "    print(map_id)\n",
    "    break"
   ]
  },
  {
   "cell_type": "code",
   "execution_count": 81,
   "metadata": {},
   "outputs": [],
   "source": [
    "map_data = escher_seed.get_map('ModelSEED', model_id, 'FBA Checked TCA Cycle')"
   ]
  },
  {
   "cell_type": "code",
   "execution_count": 127,
   "metadata": {},
   "outputs": [
    {
     "data": {
      "text/plain": [
       "{'map_cpd': 33, 'cpd_in_map_count': 33, 'map_rxn': 19, 'rxn_in_map_count': 16}"
      ]
     },
     "execution_count": 127,
     "metadata": {},
     "output_type": "execute_result"
    }
   ],
   "source": [
    "\n",
    "scan_content(map_data, fbamodel2, None)"
   ]
  },
  {
   "cell_type": "code",
   "execution_count": 103,
   "metadata": {},
   "outputs": [],
   "source": [
    "m = fbamodel1.reactions[0]"
   ]
  },
  {
   "cell_type": "code",
   "execution_count": 107,
   "metadata": {},
   "outputs": [
    {
     "data": {
      "text/plain": [
       "[{'b0241', 'b0929', 'b1377', 'b2215'}]"
      ]
     },
     "execution_count": 107,
     "metadata": {},
     "output_type": "execute_result"
    }
   ],
   "source": [
    "m.get_gpr()"
   ]
  },
  {
   "cell_type": "code",
   "execution_count": 115,
   "metadata": {},
   "outputs": [
    {
     "data": {
      "text/plain": [
       "'rxn00000'"
      ]
     },
     "execution_count": 115,
     "metadata": {},
     "output_type": "execute_result"
    }
   ],
   "source": [
    "m.data['reaction_ref'].split('/')[-1].split('_')[0]"
   ]
  },
  {
   "cell_type": "code",
   "execution_count": 304,
   "metadata": {},
   "outputs": [],
   "source": [
    "map_list = {}\n",
    "for m in escher_seed.list_maps('ModelSEED'):\n",
    "    model_id, map_id = m.split('.')\n",
    "    map_data = escher_seed.get_map('ModelSEED', model_id, map_id)\n",
    "    map_list[map_id] = {}\n",
    "    for model_id in models:\n",
    "        map_list[map_id][model_id] = {}\n",
    "        map_list[map_id][model_id] = scan_content(map_data, models[model_id], None)\n",
    "with open('../data/html/data/map_list.json', 'w') as fh:\n",
    "    fh.write(json.dumps(map_list))"
   ]
  },
  {
   "cell_type": "code",
   "execution_count": 305,
   "metadata": {},
   "outputs": [],
   "source": []
  },
  {
   "cell_type": "code",
   "execution_count": 163,
   "metadata": {},
   "outputs": [],
   "source": [
    "grid = modelseed_escher.EscherGrid()"
   ]
  },
  {
   "cell_type": "code",
   "execution_count": 565,
   "metadata": {},
   "outputs": [],
   "source": [
    "em_list = []\n",
    "map_assembly = [\n",
    "    {'map_id' : 'FBA Checked TCA Cycle', 'cmp_id' : 'c0', 'model_id' : 'iML1515'},\n",
    "    {'map_id' : 'FBA Checked TCA Cycle', 'cmp_id' : 'c0', 'model_id' : 'KBase'},\n",
    "    {'map_id' : 'FBA Checked TCA Cycle', 'cmp_id' : 'c0', 'model_id' : 'model3'},\n",
    "    {'map_id' : 'Histidine Biosynthesis', 'cmp_id' : 'c0', 'model_id' : 'iML1515'},\n",
    "    {'map_id' : 'Histidine Biosynthesis', 'cmp_id' : 'c0', 'model_id' : 'KBase'},\n",
    "    {'map_id' : 'Histidine Biosynthesis', 'cmp_id' : 'c0', 'model_id' : 'model3'},\n",
    "]\n",
    "for grid_block_data in map_assembly:\n",
    "    map_id = grid_block_data['map_id']\n",
    "    cmp_id = grid_block_data['cmp_id']\n",
    "    model_id = grid_block_data['model_id']\n",
    "    fbamodel = models[model_id]\n",
    "    em = escher_seed.get_map('ModelSEED', 'ModelSEED', map_id)\n",
    "    em = adapt_map_to_model(em, cmp_id, model_id, fbamodel)\n",
    "    \n",
    "    em_list.append(em)\n",
    "grid_map = grid.build(em_list, (3, 2))"
   ]
  },
  {
   "cell_type": "code",
   "execution_count": 402,
   "metadata": {},
   "outputs": [],
   "source": [
    "def adapt_map_to_model(em, cmp_id, suffix, fbamodel):\n",
    "    em = em.clone()\n",
    "    #adapt map to compartment\n",
    "    move_to_compartment(cmp_id, em)\n",
    "    \n",
    "    map_cpd_set = set()\n",
    "    map_rxn_set = set()\n",
    "    for node_uid in em.nodes:\n",
    "        node = em.escher_graph['nodes'][node_uid]\n",
    "        if node['node_type'] == 'metabolite':\n",
    "            map_cpd_set.add(node['bigg_id'])\n",
    "    for rxn_uid in em.escher_graph['reactions']:\n",
    "        rxn_node = em.escher_graph['reactions'][rxn_uid]\n",
    "        map_rxn_set.add(rxn_node['bigg_id'])\n",
    "    \n",
    "    model_cpds = set(map(lambda x : x.id, fbamodel.metabolites))\n",
    "    model_rxns = set(map(lambda x : x.id, fbamodel.reactions))\n",
    "    \n",
    "    map_cpd_delete = map_cpd_set - model_cpds\n",
    "    map_rxn_delete = map_rxn_set - model_rxns\n",
    "    \n",
    "    #remove metabolites / reactions\n",
    "    em.delete_reactions(map_rxn_delete)\n",
    "    em.delete_metabolites(map_cpd_delete)\n",
    "    \n",
    "    #add suffix\n",
    "    cpd_remap = dict(map(lambda x : (x, x + '@' + suffix), map_cpd_set))\n",
    "    rxn_remap = dict(map(lambda x : (x, x + '@' + suffix), map_rxn_set))\n",
    "    em.swap_ids(cpd_remap, rxn_remap)\n",
    "    #update rev\n",
    "    return em"
   ]
  },
  {
   "cell_type": "code",
   "execution_count": null,
   "metadata": {},
   "outputs": [],
   "source": []
  },
  {
   "cell_type": "code",
   "execution_count": null,
   "metadata": {},
   "outputs": [],
   "source": []
  },
  {
   "cell_type": "code",
   "execution_count": 300,
   "metadata": {},
   "outputs": [
    {
     "data": {
      "text/plain": [
       "<modelseed_escher.core.escher_map.EscherMap at 0x7f9a56a39790>"
      ]
     },
     "execution_count": 300,
     "metadata": {},
     "output_type": "execute_result"
    }
   ],
   "source": [
    "em = escher_seed.get_map('ModelSEED', 'ModelSEED', map_id)\n",
    "adapt_map_to_model(em, cmp_id, model_id, fbamodel)"
   ]
  },
  {
   "cell_type": "code",
   "execution_count": null,
   "metadata": {},
   "outputs": [],
   "source": []
  },
  {
   "cell_type": "code",
   "execution_count": 176,
   "metadata": {},
   "outputs": [],
   "source": []
  },
  {
   "cell_type": "code",
   "execution_count": null,
   "metadata": {},
   "outputs": [],
   "source": [
    "    def translate_to_model(self, escher_model_id, escher_map_id, sbml_id, target_cmp, cpd_mapping, rxn_mapping):\n",
    "        em = self.escher_manager.get_map('ModelSEED', escher_model_id, escher_map_id)\n",
    "        em.add_uid_to_reaction_metabolites()\n",
    "\n",
    "        move_to_compartment(target_cmp, em)\n",
    "\n",
    "        map_compound_remap, unmaped_cpd, node_uid_cmp = remap_map_compounds(em, \n",
    "                                                                            cpd_mapping, lambda x : x.split('_'))\n",
    "\n",
    "        logger.warning('unmaped_cpd: %d', len(unmaped_cpd))\n",
    "\n",
    "        map_reaction_remap, unmaped_rxn = remap_map_reactions(em, rxn_mapping, map_compound_remap, self.cpd_match_exclude,\n",
    "                                                              self.lambda_get_model_reaction(sbml_id),\n",
    "                                                              lambda x : x, lambda x : x[:-2])\n",
    "\n",
    "        logger.warning('unmaped_rxn: %d', len(unmaped_rxn))\n",
    "\n",
    "        print(sbml_id, map_reaction_remap)\n",
    "        \n",
    "        cpd_remap = {}\n",
    "        rxn_remap = {}\n",
    "        for k in map_compound_remap:\n",
    "            cpd_remap[k] = list(map_compound_remap[k])[0] + '@' + sbml_id\n",
    "        for k in map_reaction_remap:\n",
    "            rxn_remap[k] = list(map_reaction_remap[k])[0] + '@' + sbml_id\n",
    "        #print(sbml_id, rxn_remap)\n",
    "        em.swap_ids(cpd_remap, rxn_remap)\n",
    "        em.delete_reactions(unmaped_rxn)\n",
    "        em.delete_metabolites(unmaped_cpd)\n",
    "        return em"
   ]
  },
  {
   "cell_type": "code",
   "execution_count": null,
   "metadata": {},
   "outputs": [],
   "source": []
  },
  {
   "cell_type": "code",
   "execution_count": 566,
   "metadata": {},
   "outputs": [],
   "source": [
    "with open('../data/html/data/escher_map.json', 'w') as fh:\n",
    "    fh.write(json.dumps(grid_map.escher_map))"
   ]
  },
  {
   "cell_type": "code",
   "execution_count": null,
   "metadata": {},
   "outputs": [],
   "source": []
  },
  {
   "cell_type": "code",
   "execution_count": null,
   "metadata": {},
   "outputs": [],
   "source": []
  },
  {
   "cell_type": "code",
   "execution_count": 557,
   "metadata": {},
   "outputs": [],
   "source": [
    "option_list = []\n",
    "for m in escher_seed.list_maps('ModelSEED'):\n",
    "    model_id, map_id = m.split('.')\n",
    "    #print(map_id)\n",
    "    option_list.append({\n",
    "        'id' : map_id,\n",
    "        'display' : map_id,\n",
    "        'ui_name' : map_id,\n",
    "        'value' : map_id\n",
    "    })"
   ]
  },
  {
   "cell_type": "code",
   "execution_count": null,
   "metadata": {},
   "outputs": [],
   "source": []
  },
  {
   "cell_type": "code",
   "execution_count": null,
   "metadata": {},
   "outputs": [],
   "source": [
    "escher_seed.list_maps()"
   ]
  },
  {
   "cell_type": "code",
   "execution_count": null,
   "metadata": {},
   "outputs": [],
   "source": []
  }
 ],
 "metadata": {
  "kernelspec": {
   "display_name": "Python 3",
   "language": "python",
   "name": "python3"
  },
  "language_info": {
   "codemirror_mode": {
    "name": "ipython",
    "version": 3
   },
   "file_extension": ".py",
   "mimetype": "text/x-python",
   "name": "python",
   "nbconvert_exporter": "python",
   "pygments_lexer": "ipython3",
   "version": "3.7.4"
  }
 },
 "nbformat": 4,
 "nbformat_minor": 4
}
