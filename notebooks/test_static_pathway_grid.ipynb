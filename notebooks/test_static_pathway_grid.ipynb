{
 "cells": [
  {
   "cell_type": "code",
   "execution_count": 45,
   "metadata": {},
   "outputs": [],
   "source": [
    "import json\n",
    "import math\n",
    "import escher\n",
    "import cobra\n",
    "import cobrakbase\n",
    "import modelseed_escher\n",
    "from cobrakbase.core import KBaseFBAModel\n",
    "from modelseed_escher.core import EscherMap"
   ]
  },
  {
   "cell_type": "code",
   "execution_count": 7,
   "metadata": {},
   "outputs": [],
   "source": [
    "%run ../lib/kb_escher/kb_escher_utils.py"
   ]
  },
  {
   "cell_type": "code",
   "execution_count": 1,
   "metadata": {},
   "outputs": [],
   "source": [
    "params = {\n",
    "    'workspace_id': 37534, \n",
    "    'column_size': '4', \n",
    "    'report_height': '800', \n",
    "    'workspace_name': 'filipeliu:narrative_1580723870549', \n",
    "    'grid_maps': [\n",
    "        {\n",
    "            'object_ids': ['37534/91/1'], \n",
    "            'map_id': 'custom', \n",
    "            'user_map_id': '37534/38/1', \n",
    "            'model_id': '37534/90/3'\n",
    "        }, \n",
    "        {\n",
    "            'object_ids': ['37534/92/1'], \n",
    "            'map_id': 'FBA Checked TCA Cycle', \n",
    "            'user_map_id': '37534/88/1', \n",
    "            'model_id': '37534/89/1'\n",
    "        }\n",
    "    ]\n",
    "}"
   ]
  },
  {
   "cell_type": "code",
   "execution_count": 35,
   "metadata": {},
   "outputs": [],
   "source": [
    "token = \"64XQ7SABQILQWSEW3CQKZXJA63DXZBGH\"\n",
    "api = cobrakbase.KBaseAPI(token, dev=True)"
   ]
  },
  {
   "cell_type": "code",
   "execution_count": 10,
   "metadata": {},
   "outputs": [],
   "source": []
  },
  {
   "cell_type": "code",
   "execution_count": 21,
   "metadata": {},
   "outputs": [],
   "source": [
    "escher_seed = modelseed_escher.EscherManager(escher)"
   ]
  },
  {
   "cell_type": "code",
   "execution_count": 57,
   "metadata": {},
   "outputs": [
    {
     "data": {
      "text/plain": [
       "(4, 1)"
      ]
     },
     "execution_count": 57,
     "metadata": {},
     "output_type": "execute_result"
    }
   ],
   "source": [
    "column_size = int(params['column_size'])\n",
    "grid_cells = len(params['grid_maps'])\n",
    "grid_size = (column_size, math.ceil(grid_cells / column_size))\n",
    "grid_size"
   ]
  },
  {
   "cell_type": "code",
   "execution_count": 56,
   "metadata": {},
   "outputs": [],
   "source": []
  },
  {
   "cell_type": "code",
   "execution_count": 66,
   "metadata": {},
   "outputs": [],
   "source": [
    "em_list = []\n",
    "alias_index = 1\n",
    "maps_loaded = set()\n",
    "for grid_cell in params['grid_maps']:\n",
    "    maps_loaded.add(grid_cell['map_id'])\n",
    "    em = build_grid_cell(grid_cell, escher_seed, api, str(alias_index))\n",
    "    alias_index += 1\n",
    "    em_list.append(em)"
   ]
  },
  {
   "cell_type": "code",
   "execution_count": 68,
   "metadata": {},
   "outputs": [],
   "source": [
    "for em in em_list:\n",
    "    em"
   ]
  },
  {
   "cell_type": "code",
   "execution_count": 71,
   "metadata": {},
   "outputs": [
    {
     "data": {
      "text/plain": [
       "{'maps': [], 'x': 4, 'y': 1}"
      ]
     },
     "execution_count": 71,
     "metadata": {},
     "output_type": "execute_result"
    }
   ],
   "source": [
    "#current_grid_layout =  get_shadow_grid_layout(map_data[1].canvas, build_config);\n",
    "#draw_show_grid_layout(shadow_grid_layout, api);\n",
    "#\"iMM904;c;c;ModelSEED.Poly-beta-hydroxybutyrate Metabolism\"\n",
    "build_config = {\n",
    "    'maps' : [\n",
    "        'model;c;c;FBA Checked TCA Cycle.json'\n",
    "    ],\n",
    "    'x' : grid_size[0],\n",
    "    'y' : grid_size[1],\n",
    "}\n",
    "build_config"
   ]
  },
  {
   "cell_type": "code",
   "execution_count": null,
   "metadata": {},
   "outputs": [],
   "source": [
    "#build grid map\n",
    "#cached maps\n",
    "#cache shadow config\n",
    "#cache structures"
   ]
  },
  {
   "cell_type": "code",
   "execution_count": 63,
   "metadata": {},
   "outputs": [],
   "source": [
    "grid = modelseed_escher.EscherGrid()\n",
    "grid_map = grid.build(em_list, grid_size)"
   ]
  },
  {
   "cell_type": "code",
   "execution_count": null,
   "metadata": {},
   "outputs": [],
   "source": []
  },
  {
   "cell_type": "code",
   "execution_count": null,
   "metadata": {},
   "outputs": [],
   "source": [
    "model_id = grid_block_data['model_id']"
   ]
  },
  {
   "cell_type": "code",
   "execution_count": 34,
   "metadata": {},
   "outputs": [
    {
     "data": {
      "text/plain": [
       "'37534/89/1'"
      ]
     },
     "execution_count": 34,
     "metadata": {},
     "output_type": "execute_result"
    }
   ],
   "source": [
    "grid_cell['model_id']"
   ]
  },
  {
   "cell_type": "code",
   "execution_count": 41,
   "metadata": {},
   "outputs": [],
   "source": []
  },
  {
   "cell_type": "code",
   "execution_count": 43,
   "metadata": {},
   "outputs": [
    {
     "data": {
      "text/plain": [
       "dict_keys(['layout', 'metadata'])"
      ]
     },
     "execution_count": 43,
     "metadata": {},
     "output_type": "execute_result"
    }
   ],
   "source": [
    "map_data.keys()"
   ]
  },
  {
   "cell_type": "code",
   "execution_count": 72,
   "metadata": {},
   "outputs": [],
   "source": [
    "map_data = escher_seed.get_map('ModelSEED', 'ModelSEED', 'FBA Checked TCA Cycle')"
   ]
  },
  {
   "cell_type": "code",
   "execution_count": 74,
   "metadata": {},
   "outputs": [],
   "source": [
    "with open('../data/html/data/map_model/base_map.json', 'w') as fh:\n",
    "    fh.write(json.dumps(map_data.escher_map))"
   ]
  },
  {
   "cell_type": "code",
   "execution_count": 145,
   "metadata": {},
   "outputs": [],
   "source": [
    "params = {\n",
    "    'workspace_id': 37534, \n",
    "    'column_size': 1, \n",
    "    'report_height': 800, \n",
    "    'workspace_name': 'filipeliu:narrative_1580723870549', \n",
    "    'grid_maps': [\n",
    "        {\n",
    "            'object_ids': '37534/92/1', \n",
    "            'map_id': 'Pyrimidine Utilization', \n",
    "            'user_map_id': '37534/88/1', \n",
    "            'cpd_abundance_dataset': '', \n",
    "            'gene_expression': '37534/98/2', \n",
    "            'cpd_abundance': '37534/99/1', \n",
    "            'model_id': '37534/90/3', \n",
    "            'model_alias': 'BiGG', \n",
    "            'gene_expression_dataset': ''\n",
    "        }\n",
    "    ]\n",
    "}"
   ]
  },
  {
   "cell_type": "code",
   "execution_count": 283,
   "metadata": {},
   "outputs": [],
   "source": [
    "%run ../lib/kb_escher/kb_escher_app.py"
   ]
  },
  {
   "cell_type": "code",
   "execution_count": 215,
   "metadata": {},
   "outputs": [
    {
     "data": {
      "text/plain": [
       "dict_keys(['37534/91/1', '37534/92/1'])"
      ]
     },
     "execution_count": 215,
     "metadata": {},
     "output_type": "execute_result"
    }
   ],
   "source": [
    "kb_escher.object_cache.keys()"
   ]
  },
  {
   "cell_type": "code",
   "execution_count": 216,
   "metadata": {},
   "outputs": [
    {
     "data": {
      "text/plain": [
       "{'map_list': False,\n",
       " 'menu': 'zoom',\n",
       " 'tooltip_component': None,\n",
       " 'default_rxn_data': None,\n",
       " 'default_cpd_data': None,\n",
       " 'default_gene_data': None}"
      ]
     },
     "execution_count": 216,
     "metadata": {},
     "output_type": "execute_result"
    }
   ],
   "source": [
    "kb_escher.viewer_config"
   ]
  },
  {
   "cell_type": "code",
   "execution_count": 282,
   "metadata": {},
   "outputs": [
    {
     "ename": "NameError",
     "evalue": "name 'em' is not defined",
     "output_type": "error",
     "traceback": [
      "\u001b[0;31m---------------------------------------------------------------------------\u001b[0m",
      "\u001b[0;31mNameError\u001b[0m                                 Traceback (most recent call last)",
      "\u001b[0;32m<ipython-input-282-0fcc5601f698>\u001b[0m in \u001b[0;36m<module>\u001b[0;34m\u001b[0m\n\u001b[0;32m----> 1\u001b[0;31m \u001b[0mkb_escher\u001b[0m\u001b[0;34m.\u001b[0m\u001b[0mbuild\u001b[0m\u001b[0;34m(\u001b[0m\u001b[0;34m)\u001b[0m\u001b[0;34m\u001b[0m\u001b[0;34m\u001b[0m\u001b[0m\n\u001b[0m",
      "\u001b[0;32m~/workspace/jupyter/python3/kbase/kb_escher/lib/kb_escher/kb_escher_app.py\u001b[0m in \u001b[0;36mbuild\u001b[0;34m(self)\u001b[0m\n\u001b[1;32m    124\u001b[0m                 \u001b[0mrxn_id\u001b[0m \u001b[0;34m=\u001b[0m \u001b[0mo\u001b[0m\u001b[0;34m[\u001b[0m\u001b[0;34m'modelreaction_ref'\u001b[0m\u001b[0;34m]\u001b[0m\u001b[0;34m.\u001b[0m\u001b[0msplit\u001b[0m\u001b[0;34m(\u001b[0m\u001b[0;34m'/'\u001b[0m\u001b[0;34m)\u001b[0m\u001b[0;34m[\u001b[0m\u001b[0;34m-\u001b[0m\u001b[0;36m1\u001b[0m\u001b[0;34m]\u001b[0m\u001b[0;34m\u001b[0m\u001b[0;34m\u001b[0m\u001b[0m\n\u001b[1;32m    125\u001b[0m                 \u001b[0mflux_dist\u001b[0m\u001b[0;34m[\u001b[0m\u001b[0mrxn_id\u001b[0m \u001b[0;34m+\u001b[0m \u001b[0;34m'@'\u001b[0m \u001b[0;34m+\u001b[0m \u001b[0mgrid_cell\u001b[0m\u001b[0;34m[\u001b[0m\u001b[0;34m'alias'\u001b[0m\u001b[0;34m]\u001b[0m\u001b[0;34m]\u001b[0m \u001b[0;34m=\u001b[0m \u001b[0mo\u001b[0m\u001b[0;34m[\u001b[0m\u001b[0;34m'value'\u001b[0m\u001b[0;34m]\u001b[0m\u001b[0;34m\u001b[0m\u001b[0;34m\u001b[0m\u001b[0m\n\u001b[0;32m--> 126\u001b[0;31m             \u001b[0mmap_rxn_ids\u001b[0m \u001b[0;34m=\u001b[0m \u001b[0mset\u001b[0m\u001b[0;34m(\u001b[0m\u001b[0mmap\u001b[0m\u001b[0;34m(\u001b[0m\u001b[0;32mlambda\u001b[0m \u001b[0mx\u001b[0m \u001b[0;34m:\u001b[0m \u001b[0mx\u001b[0m\u001b[0;34m[\u001b[0m\u001b[0;36m1\u001b[0m\u001b[0;34m]\u001b[0m\u001b[0;34m[\u001b[0m\u001b[0;34m'bigg_id'\u001b[0m\u001b[0;34m]\u001b[0m\u001b[0;34m,\u001b[0m \u001b[0mem_cell\u001b[0m\u001b[0;34m.\u001b[0m\u001b[0mescher_graph\u001b[0m\u001b[0;34m[\u001b[0m\u001b[0;34m'reactions'\u001b[0m\u001b[0;34m]\u001b[0m\u001b[0;34m.\u001b[0m\u001b[0mitems\u001b[0m\u001b[0;34m(\u001b[0m\u001b[0;34m)\u001b[0m\u001b[0;34m)\u001b[0m\u001b[0;34m)\u001b[0m\u001b[0;34m\u001b[0m\u001b[0;34m\u001b[0m\u001b[0m\n\u001b[0m\u001b[1;32m    127\u001b[0m             \u001b[0mf_dict\u001b[0m \u001b[0;34m=\u001b[0m \u001b[0mdict\u001b[0m\u001b[0;34m(\u001b[0m\u001b[0mfilter\u001b[0m\u001b[0;34m(\u001b[0m\u001b[0;32mlambda\u001b[0m \u001b[0mx\u001b[0m \u001b[0;34m:\u001b[0m \u001b[0mx\u001b[0m\u001b[0;34m[\u001b[0m\u001b[0;36m0\u001b[0m\u001b[0;34m]\u001b[0m \u001b[0;32min\u001b[0m \u001b[0mmap_rxn_ids\u001b[0m\u001b[0;34m,\u001b[0m \u001b[0mflux_dist\u001b[0m\u001b[0;34m.\u001b[0m\u001b[0mitems\u001b[0m\u001b[0;34m(\u001b[0m\u001b[0;34m)\u001b[0m\u001b[0;34m)\u001b[0m\u001b[0;34m)\u001b[0m\u001b[0;34m\u001b[0m\u001b[0;34m\u001b[0m\u001b[0m\n\u001b[1;32m    128\u001b[0m             \u001b[0;32mfor\u001b[0m \u001b[0mk\u001b[0m \u001b[0;32min\u001b[0m \u001b[0mf_dict\u001b[0m\u001b[0;34m:\u001b[0m\u001b[0;34m\u001b[0m\u001b[0;34m\u001b[0m\u001b[0m\n",
      "\u001b[0;31mNameError\u001b[0m: name 'em' is not defined"
     ]
    }
   ],
   "source": [
    "kb_escher.build()"
   ]
  },
  {
   "cell_type": "code",
   "execution_count": null,
   "metadata": {},
   "outputs": [],
   "source": []
  },
  {
   "cell_type": "code",
   "execution_count": null,
   "metadata": {},
   "outputs": [],
   "source": []
  },
  {
   "cell_type": "code",
   "execution_count": null,
   "metadata": {},
   "outputs": [],
   "source": []
  },
  {
   "cell_type": "code",
   "execution_count": null,
   "metadata": {},
   "outputs": [],
   "source": []
  },
  {
   "cell_type": "code",
   "execution_count": null,
   "metadata": {},
   "outputs": [],
   "source": []
  },
  {
   "cell_type": "code",
   "execution_count": 234,
   "metadata": {},
   "outputs": [
    {
     "name": "stdout",
     "output_type": "stream",
     "text": [
      "{'map_id': 'Pyrimidine Utilization', 'model_id': '37534/90/3', 'cmp': 'c0', 'alias': '0', 'rxn_data': '37534/91/1'}\n",
      "{'map_id': 'Serine Biosynthesis', 'model_id': '37534/90/3', 'cmp': 'c0', 'alias': 'I_have_alias', 'rxn_data': '37534/91/1'}\n",
      "{'map_id': 'Serine Biosynthesis', 'model_id': '37534/89/1', 'cmp': 'c0', 'alias': '2', 'rxn_data': '37534/92/1'}\n",
      "{'map_id': 'Pyrimidine Utilization', 'model_id': '37534/89/1', 'cmp': 'c0', 'alias': '3', 'rxn_data': '37534/92/1'}\n"
     ]
    }
   ],
   "source": [
    "for grid_cell in kb_escher.em_data:\n",
    "    if not grid_cell['rxn_data'] == None:\n",
    "        odata = kb_escher.object_cache[grid_cell['rxn_data']]\n",
    "        fba = cobrakbase.core.KBaseFBA(odata)\n",
    "        print(grid_cell)\n",
    "        #data[grid_cell['object_ids']] = cobrakbase.core.KBaseFBA(object_data)\n",
    "        \n",
    "\n",
    "        \n",
    "\n",
    "        for k in f_dict:\n",
    "            "
   ]
  },
  {
   "cell_type": "code",
   "execution_count": 220,
   "metadata": {},
   "outputs": [
    {
     "name": "stdout",
     "output_type": "stream",
     "text": [
      "{'object_ids': '37534/91/1', 'map_id': 'Pyrimidine Utilization', 'user_map_id': '37534/88/1', 'cpd_abundance_dataset': '', 'gene_expression': '37534/98/2', 'cpd_abundance': '37534/99/1', 'model_id': '37534/90/3', 'model_alias': '', 'gene_expression_dataset': ''}\n",
      "{'object_ids': '37534/91/1', 'map_id': 'Serine Biosynthesis', 'user_map_id': '37534/88/1', 'cpd_abundance_dataset': '', 'gene_expression': '37534/98/2', 'cpd_abundance': '37534/99/1', 'model_id': '37534/90/3', 'model_alias': 'I_have_alias', 'gene_expression_dataset': ''}\n",
      "{'object_ids': '37534/92/1', 'map_id': 'Serine Biosynthesis', 'user_map_id': '37534/88/1', 'cpd_abundance_dataset': '', 'gene_expression': '37534/98/2', 'cpd_abundance': '37534/99/1', 'model_id': '37534/89/1', 'model_alias': '', 'gene_expression_dataset': ''}\n",
      "{'object_ids': '37534/92/1', 'map_id': 'Pyrimidine Utilization', 'user_map_id': '37534/88/1', 'cpd_abundance_dataset': '', 'gene_expression': '37534/98/2', 'cpd_abundance': '37534/99/1', 'model_id': '37534/89/1', 'model_alias': '', 'gene_expression_dataset': ''}\n"
     ]
    }
   ],
   "source": [
    "kb_escher = KBaseEscher(params, api, escher_seed)"
   ]
  },
  {
   "cell_type": "code",
   "execution_count": 208,
   "metadata": {},
   "outputs": [],
   "source": [
    "kb_escher.build()\n",
    "kb_escher.export('/Users/fliu/workspace/jupyter/python3/kbase/kb_escher/data/html/data/')"
   ]
  },
  {
   "cell_type": "code",
   "execution_count": 79,
   "metadata": {},
   "outputs": [],
   "source": [
    "em_list = []\n",
    "for grid_cell in params['grid_maps']:\n",
    "    em = build_grid_cell(grid_cell, escher_seed, api)\n",
    "    em_list.append(em)\n",
    "grid = modelseed_escher.EscherGrid()\n",
    "grid_map = grid.build(em_list, grid_size)"
   ]
  },
  {
   "cell_type": "code",
   "execution_count": 84,
   "metadata": {},
   "outputs": [],
   "source": [
    "def get_grid_cell_cpd_paint(grid_cell):\n",
    "    pass\n",
    "def get_grid_cell_rxn_paint(grid_cell):\n",
    "    pass\n",
    "def get_grid_cell_gene_paint(grid_cell):\n",
    "    pass"
   ]
  },
  {
   "cell_type": "code",
   "execution_count": null,
   "metadata": {},
   "outputs": [],
   "source": []
  },
  {
   "cell_type": "code",
   "execution_count": 139,
   "metadata": {},
   "outputs": [
    {
     "name": "stdout",
     "output_type": "stream",
     "text": [
      "{'object_ids': '37534/92/1', 'map_id': 'Pyrimidine Utilization', 'user_map_id': '37534/88/1', 'cpd_abundance_dataset': '', 'gene_expression': '37534/98/2', 'cpd_abundance': '37534/99/1', 'model_id': '37534/90/3', 'model_alias': 'BiGG', 'gene_expression_dataset': ''}\n"
     ]
    },
    {
     "data": {
      "text/plain": [
       "(1, 1)"
      ]
     },
     "execution_count": 139,
     "metadata": {},
     "output_type": "execute_result"
    }
   ],
   "source": [
    "\n",
    "        \n",
    "\n",
    "kb_escher.grid_size"
   ]
  },
  {
   "cell_type": "code",
   "execution_count": null,
   "metadata": {},
   "outputs": [],
   "source": []
  },
  {
   "cell_type": "code",
   "execution_count": 85,
   "metadata": {},
   "outputs": [],
   "source": [
    "get_grid_cell_cpd_paint(grid_cell)"
   ]
  },
  {
   "cell_type": "code",
   "execution_count": 211,
   "metadata": {},
   "outputs": [
    {
     "name": "stdout",
     "output_type": "stream",
     "text": [
      "{'object_ids': '37534/91/1', 'map_id': 'Pyrimidine Utilization', 'user_map_id': '37534/88/1', 'cpd_abundance_dataset': '', 'gene_expression': '37534/98/2', 'cpd_abundance': '37534/99/1', 'model_id': '37534/90/3', 'model_alias': '', 'gene_expression_dataset': ''}\n",
      "{'object_ids': '37534/91/1', 'map_id': 'Serine Biosynthesis', 'user_map_id': '37534/88/1', 'cpd_abundance_dataset': '', 'gene_expression': '37534/98/2', 'cpd_abundance': '37534/99/1', 'model_id': '37534/90/3', 'model_alias': 'I_have_alias', 'gene_expression_dataset': ''}\n",
      "{'object_ids': '37534/92/1', 'map_id': 'Serine Biosynthesis', 'user_map_id': '37534/88/1', 'cpd_abundance_dataset': '', 'gene_expression': '37534/98/2', 'cpd_abundance': '37534/99/1', 'model_id': '37534/89/1', 'model_alias': '', 'gene_expression_dataset': ''}\n",
      "{'object_ids': '37534/92/1', 'map_id': 'Pyrimidine Utilization', 'user_map_id': '37534/88/1', 'cpd_abundance_dataset': '', 'gene_expression': '37534/98/2', 'cpd_abundance': '37534/99/1', 'model_id': '37534/89/1', 'model_alias': '', 'gene_expression_dataset': ''}\n"
     ]
    }
   ],
   "source": [
    "for grid_cell in params['grid_maps']:\n",
    "    if 'object_ids' in grid_cell:\n",
    "        \n",
    "        print(grid_cell)"
   ]
  },
  {
   "cell_type": "code",
   "execution_count": 109,
   "metadata": {},
   "outputs": [],
   "source": [
    "data = {}\n",
    "grid_map_rxn_paint = {}\n",
    "grid_map_gene_paint = {}\n",
    "grid_map_cpd_paint = {}\n",
    "for grid_cell in params['grid_maps']:\n",
    "    alias = None\n",
    "    if 'object_ids' in grid_cell:\n",
    "        ref = api.get_object_info_from_ref(grid_cell['object_ids'])\n",
    "        object_data = api.get_object(ref.id, ref.workspace_id)\n",
    "        #data[grid_cell['object_ids']] = cobrakbase.core.KBaseFBA(object_data)\n",
    "        flux_dist = {}\n",
    "        for o in fba.data['FBAReactionVariables']:\n",
    "            rxn_id = o['modelreaction_ref'].split('/')[-1]\n",
    "            flux_dist[rxn_id] = o['value']\n",
    "        data[grid_cell['object_ids']] = flux_dist\n",
    "        #add alias\n",
    "        #merge with map\n",
    "        in_map = set()\n",
    "        print(len(in_map))\n",
    "        #save to "
   ]
  },
  {
   "cell_type": "code",
   "execution_count": 276,
   "metadata": {},
   "outputs": [],
   "source": [
    "params = {\n",
    "    'workspace_id': 37534, \n",
    "    'column_size': 2, \n",
    "    'report_height': 800, \n",
    "    'workspace_name': 'filipeliu:narrative_1580723870549', \n",
    "    'grid_maps': [\n",
    "        {\n",
    "            'object_ids': '37534/91/1', \n",
    "            'map_id': 'Pyrimidine Utilization', \n",
    "            'user_map_id': '37534/88/1', \n",
    "            'cpd_abundance_dataset': '', \n",
    "            'gene_expression': '37534/98/2', \n",
    "            'cpd_abundance': '37534/99/1', \n",
    "            'model_id': '37534/90/3', \n",
    "            'model_alias': '', \n",
    "            'gene_expression_dataset': ''\n",
    "        }, \n",
    "        {\n",
    "            'object_ids': '37534/91/1', \n",
    "            'map_id': 'Serine Biosynthesis', \n",
    "            'user_map_id': '37534/88/1', \n",
    "            'cpd_abundance_dataset': '', \n",
    "            'gene_expression': '37534/98/2', \n",
    "            'cpd_abundance': '37534/99/1', \n",
    "            'model_id': '37534/90/3', \n",
    "            'model_alias': 'I_have_alias', \n",
    "            'gene_expression_dataset': ''\n",
    "        }, \n",
    "        {\n",
    "            'object_ids': '37534/92/1', \n",
    "            'map_id': 'Serine Biosynthesis', \n",
    "            'user_map_id': '37534/88/1', \n",
    "            'cpd_abundance_dataset': '', \n",
    "            'gene_expression': '37534/98/2',\n",
    "            'cpd_abundance': '37534/99/1', \n",
    "            'model_id': '37534/89/1', \n",
    "            'model_alias': '', \n",
    "            'gene_expression_dataset': ''\n",
    "        }, \n",
    "        {\n",
    "            'object_ids': '37534/92/1', \n",
    "            'map_id': \n",
    "            'Pyrimidine Utilization', \n",
    "            'user_map_id': '37534/88/1', \n",
    "            'cpd_abundance_dataset': '', \n",
    "            'gene_expression': '37534/98/2', \n",
    "            'cpd_abundance': '37534/99/1', \n",
    "            'model_id': '37534/89/1', \n",
    "            'model_alias': '', \n",
    "            'gene_expression_dataset': ''\n",
    "        }\n",
    "    ]\n",
    "}"
   ]
  },
  {
   "cell_type": "code",
   "execution_count": 284,
   "metadata": {},
   "outputs": [
    {
     "name": "stdout",
     "output_type": "stream",
     "text": [
      "{'object_ids': '37534/91/1', 'map_id': 'Pyrimidine Utilization', 'user_map_id': '37534/88/1', 'cpd_abundance_dataset': '', 'gene_expression': '37534/98/2', 'cpd_abundance': '37534/99/1', 'model_id': '37534/90/3', 'model_alias': '', 'gene_expression_dataset': ''}\n",
      "{'object_ids': '37534/91/1', 'map_id': 'Serine Biosynthesis', 'user_map_id': '37534/88/1', 'cpd_abundance_dataset': '', 'gene_expression': '37534/98/2', 'cpd_abundance': '37534/99/1', 'model_id': '37534/90/3', 'model_alias': 'I_have_alias', 'gene_expression_dataset': ''}\n",
      "{'object_ids': '37534/92/1', 'map_id': 'Serine Biosynthesis', 'user_map_id': '37534/88/1', 'cpd_abundance_dataset': '', 'gene_expression': '37534/98/2', 'cpd_abundance': '37534/99/1', 'model_id': '37534/89/1', 'model_alias': '', 'gene_expression_dataset': ''}\n",
      "{'object_ids': '37534/92/1', 'map_id': 'Pyrimidine Utilization', 'user_map_id': '37534/88/1', 'cpd_abundance_dataset': '', 'gene_expression': '37534/98/2', 'cpd_abundance': '37534/99/1', 'model_id': '37534/89/1', 'model_alias': '', 'gene_expression_dataset': ''}\n"
     ]
    }
   ],
   "source": [
    "kb_escher = KBaseEscher(params, api, escher_seed)"
   ]
  },
  {
   "cell_type": "code",
   "execution_count": 285,
   "metadata": {},
   "outputs": [],
   "source": [
    "kb_escher.build()\n",
    "kb_escher.export('/Users/fliu/workspace/jupyter/python3/kbase/kb_escher/data/html/data/')"
   ]
  },
  {
   "cell_type": "code",
   "execution_count": 292,
   "metadata": {},
   "outputs": [],
   "source": [
    "def export(kb_escherrrrrrrr, folder = '/kb/module/data/html/data/'):\n",
    "    if not kb_escherrrrrrrr.global_rxn_data == None and not len(kb_escherrrrrrrr.global_rxn_data) == 0:\n",
    "        kb_escherrrrrrrr.viewer_config['default_rxn_data'] = 'global_rxn_data.json'\n",
    "        with open(folder + '/global_rxn_data.json', 'w') as fh:\n",
    "            fh.write(json.dumps(kb_escherrrrrrrr.global_rxn_data))\n",
    "    \n",
    "    kb_escherrrrrrrr.viewer_config['grid_config'] = {\n",
    "            'x' : kb_escherrrrrrrr.grid_size[0],\n",
    "            'y' : kb_escherrrrrrrr.grid_size[1],\n",
    "            'maps' : list(map(lambda x : ';'.join([\n",
    "                kb_escherrrrrrrr.model_names[x['model_id']], \n",
    "                x['cmp'], 'z', \n",
    "                x['map_id']]\n",
    "            ), kb_escherrrrrrrr.em_data))\n",
    "        }\n",
    "    \n",
    "    \n",
    "    with open(folder + '/viewer_config.json', 'w') as fh:\n",
    "        fh.write(json.dumps(kb_escherrrrrrrr.viewer_config))\n",
    "\n",
    "\n",
    "    for map_id in kb_escherrrrrrrr.base_maps:\n",
    "        with open(folder + '/map_base/' + map_id + '.json', 'w') as fh:\n",
    "            fh.write(json.dumps(kb_escherrrrrrrr.base_maps[map_id].escher_map))\n",
    "    if not kb_escherrrrrrrr.grid_map == None:\n",
    "        with open(folder + '/escher_map.json', 'w') as fh:\n",
    "            fh.write(json.dumps(kb_escherrrrrrrr.grid_map.escher_map))\n",
    "\n",
    "export(kb_escher, '/Users/fliu/workspace/jupyter/python3/kbase/kb_escher/data/html/data/')"
   ]
  },
  {
   "cell_type": "code",
   "execution_count": 288,
   "metadata": {},
   "outputs": [
    {
     "data": {
      "text/plain": [
       "[{'map_id': 'Pyrimidine Utilization',\n",
       "  'model_id': '37534/90/3',\n",
       "  'cmp': 'c0',\n",
       "  'alias': '0',\n",
       "  'rxn_data': '37534/91/1'},\n",
       " {'map_id': 'Serine Biosynthesis',\n",
       "  'model_id': '37534/90/3',\n",
       "  'cmp': 'c0',\n",
       "  'alias': 'I_have_alias',\n",
       "  'rxn_data': '37534/91/1'},\n",
       " {'map_id': 'Serine Biosynthesis',\n",
       "  'model_id': '37534/89/1',\n",
       "  'cmp': 'c0',\n",
       "  'alias': '2',\n",
       "  'rxn_data': '37534/92/1'},\n",
       " {'map_id': 'Pyrimidine Utilization',\n",
       "  'model_id': '37534/89/1',\n",
       "  'cmp': 'c0',\n",
       "  'alias': '3',\n",
       "  'rxn_data': '37534/92/1'}]"
      ]
     },
     "execution_count": 288,
     "metadata": {},
     "output_type": "execute_result"
    }
   ],
   "source": [
    "kb_escher.em_data"
   ]
  },
  {
   "cell_type": "code",
   "execution_count": null,
   "metadata": {},
   "outputs": [],
   "source": []
  }
 ],
 "metadata": {
  "kernelspec": {
   "display_name": "Python 3",
   "language": "python",
   "name": "python3"
  },
  "language_info": {
   "codemirror_mode": {
    "name": "ipython",
    "version": 3
   },
   "file_extension": ".py",
   "mimetype": "text/x-python",
   "name": "python",
   "nbconvert_exporter": "python",
   "pygments_lexer": "ipython3",
   "version": "3.7.4"
  }
 },
 "nbformat": 4,
 "nbformat_minor": 4
}
