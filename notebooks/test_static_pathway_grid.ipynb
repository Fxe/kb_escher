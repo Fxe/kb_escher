{
 "cells": [
  {
   "cell_type": "code",
   "execution_count": 45,
   "metadata": {},
   "outputs": [],
   "source": [
    "import json\n",
    "import math\n",
    "import escher\n",
    "import cobra\n",
    "import cobrakbase\n",
    "import modelseed_escher\n",
    "from cobrakbase.core import KBaseFBAModel\n",
    "from modelseed_escher.core import EscherMap"
   ]
  },
  {
   "cell_type": "code",
   "execution_count": 7,
   "metadata": {},
   "outputs": [],
   "source": [
    "%run ../lib/kb_escher/kb_escher_utils.py"
   ]
  },
  {
   "cell_type": "code",
   "execution_count": 1,
   "metadata": {},
   "outputs": [],
   "source": [
    "params = {\n",
    "    'workspace_id': 37534, \n",
    "    'column_size': '4', \n",
    "    'report_height': '800', \n",
    "    'workspace_name': 'filipeliu:narrative_1580723870549', \n",
    "    'grid_maps': [\n",
    "        {\n",
    "            'object_ids': ['37534/91/1'], \n",
    "            'map_id': 'custom', \n",
    "            'user_map_id': '37534/38/1', \n",
    "            'model_id': '37534/90/3'\n",
    "        }, \n",
    "        {\n",
    "            'object_ids': ['37534/92/1'], \n",
    "            'map_id': 'FBA Checked TCA Cycle', \n",
    "            'user_map_id': '37534/88/1', \n",
    "            'model_id': '37534/89/1'\n",
    "        }\n",
    "    ]\n",
    "}"
   ]
  },
  {
   "cell_type": "code",
   "execution_count": 35,
   "metadata": {},
   "outputs": [],
   "source": [
    "token = \"64XQ7SABQILQWSEW3CQKZXJA63DXZBGH\"\n",
    "api = cobrakbase.KBaseAPI(token, dev=True)"
   ]
  },
  {
   "cell_type": "code",
   "execution_count": 10,
   "metadata": {},
   "outputs": [],
   "source": []
  },
  {
   "cell_type": "code",
   "execution_count": 21,
   "metadata": {},
   "outputs": [],
   "source": [
    "escher_seed = modelseed_escher.EscherManager(escher)"
   ]
  },
  {
   "cell_type": "code",
   "execution_count": 57,
   "metadata": {},
   "outputs": [
    {
     "data": {
      "text/plain": [
       "(4, 1)"
      ]
     },
     "execution_count": 57,
     "metadata": {},
     "output_type": "execute_result"
    }
   ],
   "source": [
    "column_size = int(params['column_size'])\n",
    "grid_cells = len(params['grid_maps'])\n",
    "grid_size = (column_size, math.ceil(grid_cells / column_size))\n",
    "grid_size"
   ]
  },
  {
   "cell_type": "code",
   "execution_count": 56,
   "metadata": {},
   "outputs": [],
   "source": [
    "def build_grid_cell(grid_cell, escher_seed, api, alias = None):\n",
    "    em = None\n",
    "    if not grid_cell['map_id'] == 'custom':\n",
    "        em = escher_seed.get_map('ModelSEED', 'ModelSEED', grid_cell['map_id'])\n",
    "    else:\n",
    "        ref = api.get_object_info_from_ref(grid_cell['user_map_id'])\n",
    "        map_data = api.get_object(ref.id, ref.workspace_id)\n",
    "        em = modelseed_escher.core.EscherMap([map_data['metadata'], map_data['layout']])\n",
    "\n",
    "    cmp_id = 'c0' #should come from parameters\n",
    "    ref = api.get_object_info_from_ref(grid_cell['model_id'])\n",
    "    fbamodel = KBaseFBAModel(api.get_object(ref.id, ref.workspace_id))\n",
    "    if 'model_alias' in grid_cell:\n",
    "        alias = grid_cell['model_alias']\n",
    "    em = adapt_map_to_model(em, cmp_id, str(alias), fbamodel)\n",
    "    return em"
   ]
  },
  {
   "cell_type": "code",
   "execution_count": 66,
   "metadata": {},
   "outputs": [],
   "source": [
    "em_list = []\n",
    "alias_index = 1\n",
    "maps_loaded = set()\n",
    "for grid_cell in params['grid_maps']:\n",
    "    maps_loaded.add(grid_cell['map_id'])\n",
    "    em = build_grid_cell(grid_cell, escher_seed, api, str(alias_index))\n",
    "    alias_index += 1\n",
    "    em_list.append(em)"
   ]
  },
  {
   "cell_type": "code",
   "execution_count": 68,
   "metadata": {},
   "outputs": [],
   "source": [
    "for em in em_list:\n",
    "    em"
   ]
  },
  {
   "cell_type": "code",
   "execution_count": 71,
   "metadata": {},
   "outputs": [
    {
     "data": {
      "text/plain": [
       "{'maps': [], 'x': 4, 'y': 1}"
      ]
     },
     "execution_count": 71,
     "metadata": {},
     "output_type": "execute_result"
    }
   ],
   "source": [
    "#current_grid_layout =  get_shadow_grid_layout(map_data[1].canvas, build_config);\n",
    "#draw_show_grid_layout(shadow_grid_layout, api);\n",
    "#\"iMM904;c;c;ModelSEED.Poly-beta-hydroxybutyrate Metabolism\"\n",
    "build_config = {\n",
    "    'maps' : [\n",
    "        'model;c;c;FBA Checked TCA Cycle.json'\n",
    "    ],\n",
    "    'x' : grid_size[0],\n",
    "    'y' : grid_size[1],\n",
    "}\n",
    "build_config"
   ]
  },
  {
   "cell_type": "code",
   "execution_count": null,
   "metadata": {},
   "outputs": [],
   "source": [
    "#build grid map\n",
    "#cached maps\n",
    "#cache shadow config\n",
    "#cache structures"
   ]
  },
  {
   "cell_type": "code",
   "execution_count": 63,
   "metadata": {},
   "outputs": [],
   "source": [
    "grid = modelseed_escher.EscherGrid()\n",
    "grid_map = grid.build(em_list, grid_size)"
   ]
  },
  {
   "cell_type": "code",
   "execution_count": 70,
   "metadata": {},
   "outputs": [
    {
     "data": {
      "text/html": [
       "\n",
       "\n",
       "\n",
       "  \n",
       "  \n",
       "\n",
       "  \n",
       "  \n",
       "    <link rel=\"stylesheet\" href=\"//unpkg.com/escher-vis@1.6.0/css/dist/builder.min.css\"/>\n",
       "  \n",
       "\n",
       "\n",
       "\n",
       "  <div style=\"height: 500px; width: 100%;\" id=\"llcmloxpai\"></div>\n",
       "\n",
       "  <script>\n",
       "   /* Closure to make sure data only applies to this map. */\n",
       "   (function() {\n",
       "       /* data from python */\n",
       "       var data = get_data();\n",
       "\n",
       "       function load_lib(url, callback) {\n",
       "           /** Dynamically load a JavaScript file */\n",
       "           var s = document.createElement('script');\n",
       "           s.src = url;\n",
       "           s.async = true;\n",
       "           s.onreadystatechange = s.onload = callback;\n",
       "           s.onerror = function() {\n",
       "               console.warn('Failed to load library ' + url);\n",
       "           };\n",
       "           document.getElementsByTagName('head')[0].appendChild(s);\n",
       "       }\n",
       "\n",
       "       function check_global_and_load(name, url, callback) {\n",
       "           /** Look for the name in the global scope. If it isn't present, then\n",
       "              load the library at url. Returns the object. */\n",
       "           if (window[name] !== undefined) {\n",
       "               callback(window[name]);\n",
       "           } else {\n",
       "               load_lib(url, function() {\n",
       "                   callback(window[name]);\n",
       "               });\n",
       "           }\n",
       "       }\n",
       "\n",
       "       function draw_escher(escher) {\n",
       "           /** Get data and draw */\n",
       "           var load = function(t_map_data, t_model_data, t_options) {\n",
       "               escher.Builder(t_map_data, t_model_data, data.builder_embed_css,\n",
       "                              escher.libs.d3_select('#' + data.id), t_options);\n",
       "           }\n",
       "\n",
       "           // for the static site, use the url attributes for the map and model\n",
       "           // information\n",
       "           if (data.static_site_index !== null) {\n",
       "               escher.static.load_map_model_from_url(data.map_download_url, data.model_download_url,\n",
       "                                                     data.static_site_index, data.options, load);\n",
       "           } else {\n",
       "               load(data.map_data, data.model_data, data.options);\n",
       "           }\n",
       "       }\n",
       "\n",
       "       // Load dependencies and draw\n",
       "       if (typeof define === 'function' && define.amd) {\n",
       "           // require.js is available: use it to load escher\n",
       "           require.config({\n",
       "             paths: {\n",
       "               escher: '//unpkg.com/escher-vis@1.6.0/js/dist/escher.min',\n",
       "             },\n",
       "             // Override urlArgs that adds ?v= to the end of the escher URL and\n",
       "             // messes up unpkg links. Honestly, I'm not sure if this will lead\n",
       "             // to downstream bugs in the notebook, but they really shouldn't be\n",
       "             // doing this cache-busting anyway.\n",
       "             urlArgs: null,\n",
       "           })\n",
       "           require([ 'escher' ], function(escher) {\n",
       "               draw_escher(escher);\n",
       "           })\n",
       "       } else {\n",
       "           // require.js not available: dynamically load escher\n",
       "           check_global_and_load('escher', '//unpkg.com/escher-vis@1.6.0/js/dist/escher.min.js', function(escher) {\n",
       "               draw_escher(escher);\n",
       "           })\n",
       "       }\n",
       "\n",
       "       // Put this at the end so Chrome doesn't cut off the code above.\n",
       "       function get_data() {\n",
       "           /** Return the data passed in by the Python module. */\n",
       "           return {\n",
       "               id: JSON.parse('\"llcmloxpai\"'),\n",
       "               map_download_url: JSON.parse('\"//escher.github.io/1-0-0/5/maps/\"'),\n",
       "               model_download_url: JSON.parse('\"//escher.github.io/1-0-0/5/models/\"'),\n",
       "               options: JSON.parse('{\"menu\": \"zoom\", \"enable_keys\": false, \"enable_editing\": false, \"scroll_behavior\": \"none\", \"fill_screen\": false, \"ignore_bootstrap\": true, \"never_ask_before_quit\": true, \"reaction_data\": null, \"metabolite_data\": null, \"gene_data\": null}'),\n",
       "               builder_embed_css: JSON.parse('null'),\n",
       "               map_data: JSON.parse('[{\"authors\": [\"Matthew Hoffman\"], \"homepage\": \"http://modelseed.org\", \"map_description\": \"FBA Checked TCA Cycle\", \"map_id\": \"PGNd1RKUOK8X\", \"map_name\": \"FBA Checked TCA Cycle\", \"schema\": \"https://escher.github.io/escher/jsonschema/1-0-0#\"}, {\"canvas\": {\"height\": 2188.4039916992188, \"width\": 8786.291076660156, \"x\": 0, \"y\": 0}, \"nodes\": {\"0\": {\"bigg_id\": \"cpd00011_c0@1\", \"label_x\": 841.5846896105807, \"label_y\": 1689.5577565142207, \"name\": \"CO2\", \"node_is_primary\": 0, \"node_type\": \"metabolite\", \"x\": 923.7083468371432, \"y\": 1651.7716237017207, \"compartment\": \"c0\"}, \"102\": {\"bigg_id\": \"cpd00001_c0@1\", \"label_x\": 1275.2722676105018, \"label_y\": 581.277335952765, \"name\": \"H2O\", \"node_is_primary\": 0, \"node_type\": \"metabolite\", \"x\": 1347.2722676105018, \"y\": 551.277335952765, \"compartment\": \"c0\"}, \"113\": {\"bigg_id\": \"cpd00003_c0@1\", \"label_x\": 836.2112256392297, \"label_y\": 1027.9711995356674, \"name\": \"NAD\", \"node_is_primary\": 0, \"node_type\": \"metabolite\", \"x\": 811.2112256392297, \"y\": 1027.9711995356674, \"compartment\": \"c0\"}, \"118\": {\"bigg_id\": \"cpd00004_c0@1\", \"label_x\": 1065.2565651158457, \"label_y\": 1015.8099336909631, \"name\": \"NADH\", \"node_is_primary\": 0, \"node_type\": \"metabolite\", \"x\": 1040.2565651158457, \"y\": 1015.8099336909631, \"compartment\": \"c0\"}, \"119\": {\"bigg_id\": \"cpd00067_c0@1\", \"label_x\": 1098.1059925525587, \"label_y\": 1038.7208302473919, \"name\": \"H+\", \"node_is_primary\": 0, \"node_type\": \"metabolite\", \"x\": 1083.1059925525587, \"y\": 1038.7208302473919, \"compartment\": \"c0\"}, \"124\": {\"bigg_id\": \"cpd00015_c0@1\", \"label_x\": 85.94892692565918, \"label_y\": 1270.10933303833, \"name\": \"FAD\", \"node_is_primary\": 0, \"node_type\": \"metabolite\", \"x\": 145.65480613708496, \"y\": 1281.660358428955, \"compartment\": \"c0\"}, \"125\": {\"bigg_id\": \"cpd00036_c0@1\", \"label_x\": 155.3660283088684, \"label_y\": 1357.16841506958, \"name\": \"Succinate\", \"node_is_primary\": 1, \"node_type\": \"metabolite\", \"x\": 227.3660283088684, \"y\": 1327.16841506958, \"compartment\": \"c0\"}, \"126\": {\"bigg_id\": \"cpd00982_c0@1\", \"label_x\": 78.36068725585938, \"label_y\": 1100.96529006958, \"name\": \"FADH2\", \"node_is_primary\": 0, \"node_type\": \"metabolite\", \"x\": 150.36068725585938, \"y\": 1070.96529006958, \"compartment\": \"c0\"}, \"127\": {\"bigg_id\": \"\", \"label_x\": 149.50514221191406, \"label_y\": -1437.0855102539062, \"name\": \"\", \"node_is_primary\": 0, \"node_type\": \"multimarker\", \"x\": 382.3660283088684, \"y\": 1327.16841506958}, \"128\": {\"bigg_id\": \"\", \"label_x\": 149.50514221191406, \"label_y\": -1437.0855102539062, \"name\": \"\", \"node_is_primary\": 0, \"node_type\": \"midmarker\", \"x\": 402.3660283088684, \"y\": 1327.16841506958}, \"129\": {\"bigg_id\": \"\", \"label_x\": 149.50514221191406, \"label_y\": -1437.0855102539062, \"name\": \"\", \"node_is_primary\": 0, \"node_type\": \"multimarker\", \"x\": 422.3660283088684, \"y\": 1327.16841506958}, \"130\": {\"bigg_id\": \"cpd00002_c0@1\", \"label_x\": 254.16602830886842, \"label_y\": 1227.16841506958, \"name\": \"ATP\", \"node_is_primary\": 0, \"node_type\": \"metabolite\", \"x\": 297.3660283088684, \"y\": 1247.16841506958, \"compartment\": \"c0\"}, \"131\": {\"bigg_id\": \"cpd00010_c0@1\", \"label_x\": 250.31576280593868, \"label_y\": 1447.16841506958, \"name\": \"CoA\", \"node_is_primary\": 0, \"node_type\": \"metabolite\", \"x\": 293.5157628059387, \"y\": 1407.16841506958, \"compartment\": \"c0\"}, \"132\": {\"bigg_id\": \"cpd00008_c0@1\", \"label_x\": 464.1660283088684, \"label_y\": 1227.16841506958, \"name\": \"ADP\", \"node_is_primary\": 0, \"node_type\": \"metabolite\", \"x\": 507.3660283088684, \"y\": 1247.16841506958, \"compartment\": \"c0\"}, \"133\": {\"bigg_id\": \"cpd00009_c0@1\", \"label_x\": 464.1660283088684, \"label_y\": 1447.16841506958, \"name\": \"Phosphate\", \"node_is_primary\": 0, \"node_type\": \"metabolite\", \"x\": 507.3660283088684, \"y\": 1407.16841506958, \"compartment\": \"c0\"}, \"134\": {\"bigg_id\": \"cpd00078_c0@1\", \"label_x\": 534.1660283088684, \"label_y\": 1367.16841506958, \"name\": \"Succinyl-CoA\", \"node_is_primary\": 1, \"node_type\": \"metabolite\", \"x\": 577.3660283088684, \"y\": 1327.16841506958, \"compartment\": \"c0\"}, \"139\": {\"bigg_id\": \"cpd00010_c0@1\", \"label_x\": 799.4601567268371, \"label_y\": 1438.72066116333, \"name\": \"CoA\", \"node_is_primary\": 0, \"node_type\": \"metabolite\", \"x\": 842.6601567268372, \"y\": 1398.72066116333, \"compartment\": \"c0\"}, \"150\": {\"bigg_id\": \"cpd00024_c0@1\", \"label_x\": 1646.1670048713684, \"label_y\": 1361.25679397583, \"name\": \"2-Oxoglutarate\", \"node_is_primary\": 1, \"node_type\": \"metabolite\", \"x\": 1629.825867176056, \"y\": 1331.018756866455, \"compartment\": \"c0\"}, \"151\": {\"bigg_id\": \"cpd00056_c0@1\", \"label_x\": 1216.9759648323059, \"label_y\": 1479.48189163208, \"name\": \"TPP\", \"node_is_primary\": 1, \"node_type\": \"metabolite\", \"x\": 1260.175964832306, \"y\": 1439.48189163208, \"compartment\": \"c0\"}, \"152\": {\"bigg_id\": \"cpd00067_c0@1\", \"label_x\": 1482.6687138557434, \"label_y\": 1256.562702178955, \"name\": \"H+\", \"node_is_primary\": 0, \"node_type\": \"metabolite\", \"x\": 1525.8687138557434, \"y\": 1240.751178741455, \"compartment\": \"c0\"}, \"153\": {\"bigg_id\": \"cpd00011_c0@1\", \"label_x\": 1323.9381230354309, \"label_y\": 1292.00679397583, \"name\": \"CO2\", \"node_is_primary\": 0, \"node_type\": \"metabolite\", \"x\": 1367.138123035431, \"y\": 1252.00679397583, \"compartment\": \"c0\"}, \"157\": {\"bigg_id\": \"cpd00006_c0@1\", \"label_x\": 1512.6869659423828, \"label_y\": 767.5426635742188, \"name\": \"NADP\", \"node_is_primary\": 0, \"node_type\": \"metabolite\", \"x\": 1545.4409942626953, \"y\": 717.4891967773438, \"compartment\": \"c0\"}, \"159\": {\"bigg_id\": \"cpd00005_c0@1\", \"label_x\": 1478.1466827392578, \"label_y\": 923.5320434570312, \"name\": \"NADPH\", \"node_is_primary\": 0, \"node_type\": \"metabolite\", \"x\": 1550.1466827392578, \"y\": 893.5320434570312, \"compartment\": \"c0\"}, \"160\": {\"bigg_id\": \"cpd00067_c0@1\", \"label_x\": 1725.1466827392578, \"label_y\": 893.5320434570312, \"name\": \"H+\", \"node_is_primary\": 0, \"node_type\": \"metabolite\", \"x\": 1710.1466827392578, \"y\": 893.5320434570312, \"compartment\": \"c0\"}, \"161\": {\"bigg_id\": \"\", \"label_x\": 149.50514221191406, \"label_y\": -1437.0855102539062, \"name\": \"\", \"node_is_primary\": 0, \"node_type\": \"multimarker\", \"x\": 389.21094512939453, \"y\": 543.1576728820801}, \"162\": {\"bigg_id\": \"\", \"label_x\": 149.50514221191406, \"label_y\": -1437.0855102539062, \"name\": \"\", \"node_is_primary\": 0, \"node_type\": \"midmarker\", \"x\": 409.21094512939453, \"y\": 543.1576728820801}, \"163\": {\"bigg_id\": \"\", \"label_x\": 149.50514221191406, \"label_y\": -1437.0855102539062, \"name\": \"\", \"node_is_primary\": 0, \"node_type\": \"multimarker\", \"x\": 429.21094512939453, \"y\": 543.1576728820801}, \"164\": {\"bigg_id\": \"cpd00003_c0@1\", \"label_x\": 237.90933685302736, \"label_y\": 516.8473701477051, \"name\": \"NAD\", \"node_is_primary\": 0, \"node_type\": \"metabolite\", \"x\": 281.10933685302734, \"y\": 476.8473701477051, \"compartment\": \"c0\"}, \"165\": {\"bigg_id\": \"cpd00004_c0@1\", \"label_x\": 503.73503570556636, \"label_y\": 446.5486640930176, \"name\": \"NADH\", \"node_is_primary\": 0, \"node_type\": \"metabolite\", \"x\": 493.1634292602539, \"y\": 472.7581367492676, \"compartment\": \"c0\"}, \"167\": {\"bigg_id\": \"cpd00067_c0@1\", \"label_x\": 533.3702285766601, \"label_y\": 494.6139717102051, \"name\": \"H+\", \"node_is_primary\": 0, \"node_type\": \"metabolite\", \"x\": 537.8032302856445, \"y\": 517.3506660461426, \"compartment\": \"c0\"}, \"171\": {\"bigg_id\": \"cpd00010_c0@1\", \"label_x\": 823.1140148827196, \"label_y\": 760.7463327109253, \"name\": \"CoA\", \"node_is_primary\": 0, \"node_type\": \"metabolite\", \"x\": 866.3140148827197, \"y\": 720.7463327109253, \"compartment\": \"c0\"}, \"172\": {\"bigg_id\": \"cpd00067_c0@1\", \"label_x\": 822.4188244530321, \"label_y\": 539.8906198203003, \"name\": \"H+\", \"node_is_primary\": 0, \"node_type\": \"metabolite\", \"x\": 865.6188244530322, \"y\": 559.8906198203003, \"compartment\": \"c0\"}, \"174\": {\"bigg_id\": \"cpd00001_c0@1\", \"label_x\": 631.6701672264696, \"label_y\": 717.0030465781128, \"name\": \"H2O\", \"node_is_primary\": 0, \"node_type\": \"metabolite\", \"x\": 674.8701672264697, \"y\": 737.0030465781128, \"compartment\": \"c0\"}, \"175\": {\"bigg_id\": \"cpd00022_c0@1\", \"label_x\": 640.6163342186571, \"label_y\": 525.4398141562378, \"name\": \"Acetyl-CoA\", \"node_is_primary\": 1, \"node_type\": \"metabolite\", \"x\": 676.1158337303759, \"y\": 554.7446237265503, \"compartment\": \"c0\"}, \"179\": {\"bigg_id\": \"cpd00002_c0@1\", \"label_x\": 445.1136364647509, \"label_y\": 218.32091767186284, \"name\": \"ATP\", \"node_is_primary\": 0, \"node_type\": \"metabolite\", \"x\": 499.1386303612353, \"y\": 181.04491669530034, \"compartment\": \"c0\"}, \"18\": {\"bigg_id\": \"cpd00015_c0@1\", \"label_x\": 356.15156683279713, \"label_y\": 826.8536679545555, \"name\": \"FAD\", \"node_is_primary\": 0, \"node_type\": \"metabolite\", \"x\": 331.15156683279713, \"y\": 826.8536679545555, \"compartment\": \"c0\"}, \"180\": {\"bigg_id\": \"cpd00020_c0@1\", \"label_x\": 605.0881542870166, \"label_y\": 111.06664521092534, \"name\": \"Pyruvate\", \"node_is_primary\": 1, \"node_type\": \"metabolite\", \"x\": 592.099018544829, \"y\": 121.32470185155034, \"compartment\": \"c0\"}, \"181\": {\"bigg_id\": \"cpd00242_c0@1\", \"label_x\": 683.6008801170947, \"label_y\": 176.49303681248784, \"name\": \"H2CO3\", \"node_is_primary\": 0, \"node_type\": \"metabolite\", \"x\": 668.6008801170947, \"y\": 176.49303681248784, \"compartment\": \"c0\"}, \"182\": {\"bigg_id\": \"cpd00008_c0@1\", \"label_x\": 447.0381359764697, \"label_y\": 397.10961396092534, \"name\": \"ADP\", \"node_is_primary\": 0, \"node_type\": \"metabolite\", \"x\": 508.6008801170947, \"y\": 386.49303681248784, \"compartment\": \"c0\"}, \"183\": {\"bigg_id\": \"cpd00009_c0@1\", \"label_x\": 683.6008801170947, \"label_y\": 386.49303681248784, \"name\": \"Phosphate\", \"node_is_primary\": 0, \"node_type\": \"metabolite\", \"x\": 668.6008801170947, \"y\": 386.49303681248784, \"compartment\": \"c0\"}, \"184\": {\"bigg_id\": \"cpd00067_c0@1\", \"label_x\": 732.2891125389697, \"label_y\": 345.61852509373784, \"name\": \"H+\", \"node_is_primary\": 0, \"node_type\": \"metabolite\", \"x\": 717.2891125389697, \"y\": 345.61852509373784, \"compartment\": \"c0\"}, \"193\": {\"bigg_id\": \"\", \"label_x\": 149.50514221191406, \"label_y\": -1437.0855102539062, \"name\": \"\", \"node_is_primary\": 0, \"node_type\": \"multimarker\", \"x\": 1111.8952735108571, \"y\": 1835.4678254317173}, \"194\": {\"bigg_id\": \"\", \"label_x\": 149.50514221191406, \"label_y\": -1437.0855102539062, \"name\": \"\", \"node_is_primary\": 0, \"node_type\": \"midmarker\", \"x\": 1091.8958520617732, \"y\": 1835.619949400549}, \"195\": {\"bigg_id\": \"\", \"label_x\": 149.50514221191406, \"label_y\": -1437.0855102539062, \"name\": \"\", \"node_is_primary\": 0, \"node_type\": \"multimarker\", \"x\": 1071.8964306126888, \"y\": 1835.7720733693768}, \"196\": {\"bigg_id\": \"cpd00003_c0@1\", \"label_x\": 1212.5013105447872, \"label_y\": 1914.8189843605314, \"name\": \"NAD\", \"node_is_primary\": 0, \"node_type\": \"metabolite\", \"x\": 1197.5013105447872, \"y\": 1914.8189843605314, \"compartment\": \"c0\"}, \"197\": {\"bigg_id\": \"cpd00010_c0@1\", \"label_x\": 1124.2843187941487, \"label_y\": 1784.8236127678497, \"name\": \"CoA\", \"node_is_primary\": 0, \"node_type\": \"metabolite\", \"x\": 1196.2843187941487, \"y\": 1754.8236127678497, \"compartment\": \"c0\"}, \"198\": {\"bigg_id\": \"cpd00004_c0@1\", \"label_x\": 1002.5073853293975, \"label_y\": 1916.416286033245, \"name\": \"NADH\", \"node_is_primary\": 0, \"node_type\": \"metabolite\", \"x\": 987.5073853293975, \"y\": 1916.416286033245, \"compartment\": \"c0\"}, \"199\": {\"bigg_id\": \"cpd00011_c0@1\", \"label_x\": 914.2903935787606, \"label_y\": 1786.4209144405672, \"name\": \"CO2\", \"node_is_primary\": 0, \"node_type\": \"metabolite\", \"x\": 986.2903935787606, \"y\": 1756.4209144405672, \"compartment\": \"c0\"}, \"23\": {\"bigg_id\": \"cpd00032_c0@1\", \"label_x\": 544.4209789940478, \"label_y\": 669.8906198203003, \"name\": \"Oxaloacetate\", \"node_is_primary\": 1, \"node_type\": \"metabolite\", \"x\": 585.6188244530322, \"y\": 639.8906198203003, \"compartment\": \"c0\"}, \"24\": {\"bigg_id\": \"cpd00982_c0@1\", \"label_x\": 509.7291675851445, \"label_y\": 828.1397362269145, \"name\": \"FADH2\", \"node_is_primary\": 0, \"node_type\": \"metabolite\", \"x\": 484.7291675851446, \"y\": 828.1397362269145, \"compartment\": \"c0\"}, \"4\": {\"bigg_id\": \"cpd00067_c0@1\", \"label_x\": 1017.4408845554449, \"label_y\": 1533.6153167750672, \"name\": \"H+\", \"node_is_primary\": 0, \"node_type\": \"metabolite\", \"x\": 1002.4408845554449, \"y\": 1533.6153167750672, \"compartment\": \"c0\"}, \"40\": {\"bigg_id\": \"cpd00003_c0@1\", \"label_x\": 1936.0287017822266, \"label_y\": 784.2850952148438, \"name\": \"NAD\", \"node_is_primary\": 0, \"node_type\": \"metabolite\", \"x\": 1911.0287017822266, \"y\": 784.2850952148438, \"compartment\": \"c0\"}, \"45\": {\"bigg_id\": \"cpd00004_c0@1\", \"label_x\": 1925.8504791259766, \"label_y\": 1172.4537963867188, \"name\": \"NADH\", \"node_is_primary\": 0, \"node_type\": \"metabolite\", \"x\": 1905.939712524414, \"y\": 1172.4537963867188, \"compartment\": \"c0\"}, \"46\": {\"bigg_id\": \"cpd00011_c0@1\", \"label_x\": 1950.048355102539, \"label_y\": 1104.9982299804688, \"name\": \"CO2\", \"node_is_primary\": 0, \"node_type\": \"metabolite\", \"x\": 1935.048355102539, \"y\": 1104.9982299804688, \"compartment\": \"c0\"}, \"48\": {\"bigg_id\": \"cpd00067_c0@1\", \"label_x\": 1577.2858428955078, \"label_y\": 1066.7940063476562, \"name\": \"H+\", \"node_is_primary\": 0, \"node_type\": \"metabolite\", \"x\": 1552.2858428955078, \"y\": 1066.7940063476562, \"compartment\": \"c0\"}, \"53\": {\"bigg_id\": \"cpd00011_c0@1\", \"label_x\": 1523.4942169189453, \"label_y\": 1165.0293579101562, \"name\": \"CO2\", \"node_is_primary\": 0, \"node_type\": \"metabolite\", \"x\": 1560.8419952392578, \"y\": 1177.3823852539062, \"compartment\": \"c0\"}, \"7\": {\"bigg_id\": \"cpd00010_c0@1\", \"label_x\": 1317.9575777706582, \"label_y\": 1659.1367408272772, \"name\": \"CoA\", \"node_is_primary\": 0, \"node_type\": \"metabolite\", \"x\": 1292.9575777706582, \"y\": 1659.1367408272772, \"compartment\": \"c0\"}, \"70\": {\"bigg_id\": \"cpd00130_c0@1\", \"label_x\": 174.50507354736328, \"label_y\": 616.3128242492676, \"name\": \"L-Malate\", \"node_is_primary\": 1, \"node_type\": \"metabolite\", \"x\": 230.36067962646484, \"y\": 647.1149482727051, \"compartment\": \"c0\"}, \"74\": {\"bigg_id\": \"cpd00001_c0@1\", \"label_x\": 78.36067962646484, \"label_y\": 957.1149482727051, \"name\": \"H2O\", \"node_is_primary\": 0, \"node_type\": \"metabolite\", \"x\": 150.36067962646484, \"y\": 927.1149482727051, \"compartment\": \"c0\"}, \"75\": {\"bigg_id\": \"cpd00106_c0@1\", \"label_x\": 255.36068725585938, \"label_y\": 1000.9652900695801, \"name\": \"Fumarate\", \"node_is_primary\": 1, \"node_type\": \"metabolite\", \"x\": 230.36068725585938, \"y\": 1000.9652900695801, \"compartment\": \"c0\"}, \"92\": {\"bigg_id\": \"cpd00137_c0@1\", \"label_x\": 897.4466694014777, \"label_y\": 610.4926982013976, \"name\": \"Citrate\", \"node_is_primary\": 1, \"node_type\": \"metabolite\", \"x\": 924.5451801436652, \"y\": 638.4026103107726, \"compartment\": \"c0\"}, \"93\": {\"bigg_id\": \"\", \"label_x\": 149.50514221191406, \"label_y\": -1437.0855102539062, \"name\": \"\", \"node_is_primary\": 0, \"node_type\": \"multimarker\", \"x\": 1081.4019878909726, \"y\": 635.773499068835}, \"94\": {\"bigg_id\": \"\", \"label_x\": 149.50514221191406, \"label_y\": -1437.0855102539062, \"name\": \"\", \"node_is_primary\": 0, \"node_type\": \"midmarker\", \"x\": 1101.401491246976, \"y\": 635.9144441404396}, \"95\": {\"bigg_id\": \"\", \"label_x\": 149.50514221191406, \"label_y\": -1437.0855102539062, \"name\": \"\", \"node_is_primary\": 0, \"node_type\": \"multimarker\", \"x\": 1121.4009946029796, \"y\": 636.0553892120456}, \"96\": {\"bigg_id\": \"cpd00001_c0@1\", \"label_x\": 1133.8351035795752, \"label_y\": 746.6524191903777, \"name\": \"H2O\", \"node_is_primary\": 0, \"node_type\": \"metabolite\", \"x\": 1205.8351035795752, \"y\": 716.6524191903777, \"compartment\": \"c0\"}, \"97\": {\"bigg_id\": \"cpd00331_c0@1\", \"label_x\": 1236.2739766666923, \"label_y\": 676.2216881263557, \"name\": \"cis-Aconitate\", \"node_is_primary\": 1, \"node_type\": \"metabolite\", \"x\": 1276.397145612005, \"y\": 637.1477135169807, \"compartment\": \"c0\"}, \"98\": {\"bigg_id\": \"cpd00260_c0@1\", \"label_x\": 1651.9339272367522, \"label_y\": 632.4521851062509, \"name\": \"Isocitrate\", \"node_is_primary\": 1, \"node_type\": \"metabolite\", \"x\": 1626.9339272367522, \"y\": 632.4521851062509, \"compartment\": \"c0\"}, \"200\": {\"node_type\": \"metabolite\", \"x\": 3120.281116002182, \"y\": 1651.7716237017207, \"bigg_id\": \"cpd00011_c0@2\", \"name\": \"CO2\", \"label_x\": 3038.1574587756195, \"label_y\": 1689.5577565142207, \"node_is_primary\": false, \"compartment\": \"c0\"}, \"201\": {\"node_type\": \"metabolite\", \"x\": 3199.013653720484, \"y\": 1533.6153167750672, \"bigg_id\": \"cpd00067_c0@2\", \"name\": \"H+\", \"label_x\": 3214.013653720484, \"label_y\": 1533.6153167750672, \"node_is_primary\": false, \"compartment\": \"c0\"}, \"202\": {\"node_type\": \"metabolite\", \"x\": 3161.7890982370645, \"y\": 1704.7217163089722, \"bigg_id\": \"cpd11620_c0@2\", \"name\": \"Reducedferredoxin\", \"label_x\": 3067.4611563425333, \"label_y\": 1736.5825561527222, \"node_is_primary\": false, \"compartment\": \"c0\"}, \"203\": {\"node_type\": \"metabolite\", \"x\": 3489.5303469356973, \"y\": 1659.1367408272772, \"bigg_id\": \"cpd00010_c0@2\", \"name\": \"CoA\", \"label_x\": 3514.5303469356973, \"label_y\": 1659.1367408272772, \"node_is_primary\": false, \"compartment\": \"c0\"}, \"204\": {\"node_type\": \"metabolite\", \"x\": 3404.7231021861435, \"y\": 1699.0952938476848, \"bigg_id\": \"cpd11621_c0@2\", \"name\": \"Oxidizedferredoxin\", \"label_x\": 3332.7231021861435, \"label_y\": 1729.0952938476848, \"node_is_primary\": false, \"compartment\": \"c0\"}, \"205\": {\"node_type\": \"metabolite\", \"x\": 2527.724335997836, \"y\": 826.8536679545555, \"bigg_id\": \"cpd00015_c0@2\", \"name\": \"FAD\", \"label_x\": 2552.724335997836, \"label_y\": 826.8536679545555, \"node_is_primary\": false, \"compartment\": \"c0\"}, \"206\": {\"x\": 2586.4416204848976, \"y\": 743.1574270399033, \"node_type\": \"multimarker\"}, \"207\": {\"x\": 2606.4382614960814, \"y\": 742.7908915438602, \"node_type\": \"midmarker\"}, \"208\": {\"x\": 2626.434902507265, \"y\": 742.4243560478162, \"node_type\": \"multimarker\"}, \"209\": {\"node_type\": \"metabolite\", \"x\": 2782.1915936180712, \"y\": 639.8906198203003, \"bigg_id\": \"cpd00032_c0@2\", \"name\": \"Oxaloacetate\", \"label_x\": 2740.993748159087, \"label_y\": 669.8906198203003, \"node_is_primary\": true, \"compartment\": \"c0\"}, \"210\": {\"node_type\": \"metabolite\", \"x\": 2681.301936750184, \"y\": 828.1397362269145, \"bigg_id\": \"cpd00982_c0@2\", \"name\": \"FADH2\", \"label_x\": 2706.301936750184, \"label_y\": 828.1397362269145, \"node_is_primary\": false, \"compartment\": \"c0\"}, \"211\": {\"node_type\": \"metabolite\", \"x\": 4107.601470947266, \"y\": 784.2850952148438, \"bigg_id\": \"cpd00003_c0@2\", \"name\": \"NAD\", \"label_x\": 4132.601470947266, \"label_y\": 784.2850952148438, \"node_is_primary\": false, \"compartment\": \"c0\"}, \"212\": {\"node_type\": \"metabolite\", \"x\": 4102.512481689453, \"y\": 1172.4537963867188, \"bigg_id\": \"cpd00004_c0@2\", \"name\": \"NADH\", \"label_x\": 4122.423248291016, \"label_y\": 1172.4537963867188, \"node_is_primary\": false, \"compartment\": \"c0\"}, \"213\": {\"node_type\": \"metabolite\", \"x\": 4131.621124267578, \"y\": 1104.9982299804688, \"bigg_id\": \"cpd00011_c0@2\", \"name\": \"CO2\", \"label_x\": 4146.621124267578, \"label_y\": 1104.9982299804688, \"node_is_primary\": false, \"compartment\": \"c0\"}, \"214\": {\"node_type\": \"metabolite\", \"x\": 3748.858612060547, \"y\": 1066.7940063476562, \"bigg_id\": \"cpd00067_c0@2\", \"name\": \"H+\", \"label_x\": 3773.858612060547, \"label_y\": 1066.7940063476562, \"node_is_primary\": false, \"compartment\": \"c0\"}, \"215\": {\"x\": 3825.863983154297, \"y\": 1137.0881958007812, \"node_type\": \"multimarker\"}, \"216\": {\"x\": 3825.863983154297, \"y\": 1157.0881958007812, \"node_type\": \"midmarker\"}, \"217\": {\"x\": 3825.863983154297, \"y\": 1177.0881958007812, \"node_type\": \"multimarker\"}, \"218\": {\"node_type\": \"metabolite\", \"x\": 3826.719451904297, \"y\": 963.5320434570312, \"bigg_id\": \"cpd03187_c0@2\", \"name\": \"Oxalosuccinate\", \"label_x\": 3854.826385498047, \"label_y\": 1008.9331665039062, \"node_is_primary\": true, \"compartment\": \"c0\"}, \"219\": {\"node_type\": \"metabolite\", \"x\": 3757.414764404297, \"y\": 1177.3823852539062, \"bigg_id\": \"cpd00011_c0@2\", \"name\": \"CO2\", \"label_x\": 3720.0669860839844, \"label_y\": 1165.0293579101562, \"node_is_primary\": false, \"compartment\": \"c0\"}, \"220\": {\"node_type\": \"metabolite\", \"x\": 2426.933448791504, \"y\": 647.1149482727051, \"bigg_id\": \"cpd00130_c0@2\", \"name\": \"L-Malate\", \"label_x\": 2371.0778427124023, \"label_y\": 616.3128242492676, \"node_is_primary\": true, \"compartment\": \"c0\"}, \"221\": {\"x\": 2426.933448791504, \"y\": 802.1149482727051, \"node_type\": \"multimarker\"}, \"222\": {\"x\": 2426.933448791504, \"y\": 822.1149482727051, \"node_type\": \"midmarker\"}, \"223\": {\"x\": 2426.933448791504, \"y\": 842.1149482727051, \"node_type\": \"multimarker\"}, \"224\": {\"node_type\": \"metabolite\", \"x\": 2346.933448791504, \"y\": 927.1149482727051, \"bigg_id\": \"cpd00001_c0@2\", \"name\": \"H2O\", \"label_x\": 2274.933448791504, \"label_y\": 957.1149482727051, \"node_is_primary\": false, \"compartment\": \"c0\"}, \"225\": {\"node_type\": \"metabolite\", \"x\": 2426.9334564208984, \"y\": 1000.9652900695801, \"bigg_id\": \"cpd00106_c0@2\", \"name\": \"Fumarate\", \"label_x\": 2451.9334564208984, \"label_y\": 1000.9652900695801, \"node_is_primary\": true, \"compartment\": \"c0\"}, \"226\": {\"node_type\": \"metabolite\", \"x\": 3121.1179493087043, \"y\": 638.4026103107726, \"bigg_id\": \"cpd00137_c0@2\", \"name\": \"Citrate\", \"label_x\": 3094.019438566517, \"label_y\": 610.4926982013976, \"node_is_primary\": true, \"compartment\": \"c0\"}, \"227\": {\"x\": 3277.9747570560116, \"y\": 635.773499068835, \"node_type\": \"multimarker\"}, \"228\": {\"x\": 3297.974260412015, \"y\": 635.9144441404396, \"node_type\": \"midmarker\"}, \"229\": {\"x\": 3317.9737637680187, \"y\": 636.0553892120456, \"node_type\": \"multimarker\"}, \"230\": {\"node_type\": \"metabolite\", \"x\": 3402.407872744614, \"y\": 716.6524191903777, \"bigg_id\": \"cpd00001_c0@2\", \"name\": \"H2O\", \"label_x\": 3330.407872744614, \"label_y\": 746.6524191903777, \"node_is_primary\": false, \"compartment\": \"c0\"}, \"231\": {\"node_type\": \"metabolite\", \"x\": 3472.9699147770443, \"y\": 637.1477135169807, \"bigg_id\": \"cpd00331_c0@2\", \"name\": \"cis-Aconitate\", \"label_x\": 3432.8467458317314, \"label_y\": 676.2216881263557, \"node_is_primary\": true, \"compartment\": \"c0\"}, \"232\": {\"node_type\": \"metabolite\", \"x\": 3823.5066964017915, \"y\": 632.4521851062509, \"bigg_id\": \"cpd00260_c0@2\", \"name\": \"Isocitrate\", \"label_x\": 3848.5066964017915, \"label_y\": 632.4521851062509, \"node_is_primary\": true, \"compartment\": \"c0\"}, \"233\": {\"x\": 3668.508062471574, \"y\": 631.801431876348, \"node_type\": \"multimarker\"}, \"234\": {\"x\": 3648.508238738643, \"y\": 631.7174637176504, \"node_type\": \"midmarker\"}, \"235\": {\"x\": 3628.5084150057105, \"y\": 631.6334955589527, \"node_type\": \"multimarker\"}, \"236\": {\"node_type\": \"metabolite\", \"x\": 3543.845036775541, \"y\": 551.277335952765, \"bigg_id\": \"cpd00001_c0@2\", \"name\": \"H2O\", \"label_x\": 3471.845036775541, \"label_y\": 581.277335952765, \"node_is_primary\": false, \"compartment\": \"c0\"}, \"237\": {\"node_type\": \"metabolite\", \"x\": 3007.783994804269, \"y\": 1027.9711995356674, \"bigg_id\": \"cpd00003_c0@2\", \"name\": \"NAD\", \"label_x\": 3032.783994804269, \"label_y\": 1027.9711995356674, \"node_is_primary\": false, \"compartment\": \"c0\"}, \"238\": {\"x\": 3097.6556588855424, \"y\": 1097.4106809394866, \"node_type\": \"multimarker\"}, \"239\": {\"x\": 3117.6549921792953, \"y\": 1097.2473781367535, \"node_type\": \"midmarker\"}, \"240\": {\"x\": 3137.6543254730486, \"y\": 1097.0840753340199, \"node_type\": \"multimarker\"}, \"241\": {\"node_type\": \"metabolite\", \"x\": 3236.8293342808847, \"y\": 1015.8099336909631, \"bigg_id\": \"cpd00004_c0@2\", \"name\": \"NADH\", \"label_x\": 3261.8293342808847, \"label_y\": 1015.8099336909631, \"node_is_primary\": false, \"compartment\": \"c0\"}, \"242\": {\"node_type\": \"metabolite\", \"x\": 3279.678761717598, \"y\": 1038.7208302473919, \"bigg_id\": \"cpd00067_c0@2\", \"name\": \"H+\", \"label_x\": 3294.678761717598, \"label_y\": 1038.7208302473919, \"node_is_primary\": false, \"compartment\": \"c0\"}, \"243\": {\"node_type\": \"metabolite\", \"x\": 3424.2057651941504, \"y\": 1232.5516782380419, \"bigg_id\": \"cpd00213_c0@2\", \"name\": \"Lipoamide\", \"label_x\": 3426.6322788660254, \"label_y\": 1214.1744809724169, \"node_is_primary\": true, \"compartment\": \"c0\"}, \"244\": {\"x\": 2426.9334564208984, \"y\": 1195.96529006958, \"node_type\": \"multimarker\"}, \"245\": {\"x\": 2426.9334564208984, \"y\": 1175.96529006958, \"node_type\": \"midmarker\"}, \"246\": {\"x\": 2426.9334564208984, \"y\": 1155.96529006958, \"node_type\": \"multimarker\"}, \"247\": {\"node_type\": \"metabolite\", \"x\": 2342.227575302124, \"y\": 1281.660358428955, \"bigg_id\": \"cpd00015_c0@2\", \"name\": \"FAD\", \"label_x\": 2282.5216960906982, \"label_y\": 1270.10933303833, \"node_is_primary\": false, \"compartment\": \"c0\"}, \"248\": {\"node_type\": \"metabolite\", \"x\": 2423.9387974739075, \"y\": 1327.16841506958, \"bigg_id\": \"cpd00036_c0@2\", \"name\": \"Succinate\", \"label_x\": 2351.9387974739075, \"label_y\": 1357.16841506958, \"node_is_primary\": true, \"compartment\": \"c0\"}, \"249\": {\"node_type\": \"metabolite\", \"x\": 2346.9334564208984, \"y\": 1070.96529006958, \"bigg_id\": \"cpd00982_c0@2\", \"name\": \"FADH2\", \"label_x\": 2274.9334564208984, \"label_y\": 1100.96529006958, \"node_is_primary\": false, \"compartment\": \"c0\"}, \"250\": {\"x\": 2578.9387974739075, \"y\": 1327.16841506958, \"node_type\": \"multimarker\"}, \"251\": {\"x\": 2598.9387974739075, \"y\": 1327.16841506958, \"node_type\": \"midmarker\"}, \"252\": {\"x\": 2618.9387974739075, \"y\": 1327.16841506958, \"node_type\": \"multimarker\"}, \"253\": {\"node_type\": \"metabolite\", \"x\": 2493.9387974739075, \"y\": 1247.16841506958, \"bigg_id\": \"cpd00002_c0@2\", \"name\": \"ATP\", \"label_x\": 2450.7387974739077, \"label_y\": 1227.16841506958, \"node_is_primary\": false, \"compartment\": \"c0\"}, \"254\": {\"node_type\": \"metabolite\", \"x\": 2490.088531970978, \"y\": 1407.16841506958, \"bigg_id\": \"cpd00010_c0@2\", \"name\": \"CoA\", \"label_x\": 2446.888531970978, \"label_y\": 1447.16841506958, \"node_is_primary\": false, \"compartment\": \"c0\"}, \"255\": {\"node_type\": \"metabolite\", \"x\": 2703.9387974739075, \"y\": 1247.16841506958, \"bigg_id\": \"cpd00008_c0@2\", \"name\": \"ADP\", \"label_x\": 2660.7387974739077, \"label_y\": 1227.16841506958, \"node_is_primary\": false, \"compartment\": \"c0\"}, \"256\": {\"node_type\": \"metabolite\", \"x\": 2703.9387974739075, \"y\": 1407.16841506958, \"bigg_id\": \"cpd00009_c0@2\", \"name\": \"Phosphate\", \"label_x\": 2660.7387974739077, \"label_y\": 1447.16841506958, \"node_is_primary\": false, \"compartment\": \"c0\"}, \"257\": {\"node_type\": \"metabolite\", \"x\": 2773.9387974739075, \"y\": 1327.16841506958, \"bigg_id\": \"cpd00078_c0@2\", \"name\": \"Succinyl-CoA\", \"label_x\": 2730.7387974739077, \"label_y\": 1367.16841506958, \"node_is_primary\": true, \"compartment\": \"c0\"}, \"258\": {\"x\": 2928.9387974739075, \"y\": 1327.16841506958, \"node_type\": \"multimarker\"}, \"259\": {\"x\": 2948.9387974739075, \"y\": 1327.16841506958, \"node_type\": \"midmarker\"}, \"260\": {\"x\": 2968.9387974739075, \"y\": 1327.16841506958, \"node_type\": \"multimarker\"}, \"261\": {\"node_type\": \"metabolite\", \"x\": 2860.684769153595, \"y\": 1234.12691116333, \"bigg_id\": \"cpd00449_c0@2\", \"name\": \"Dihydrolipoamide\", \"label_x\": 2880.7472813606264, \"label_y\": 1233.192584991455, \"node_is_primary\": true, \"compartment\": \"c0\"}, \"262\": {\"node_type\": \"metabolite\", \"x\": 3039.232925891876, \"y\": 1398.72066116333, \"bigg_id\": \"cpd00010_c0@2\", \"name\": \"CoA\", \"label_x\": 2996.0329258918764, \"label_y\": 1438.72066116333, \"node_is_primary\": false, \"compartment\": \"c0\"}, \"263\": {\"node_type\": \"metabolite\", \"x\": 3123.24360704422, \"y\": 1330.16304397583, \"bigg_id\": \"cpd00860_c0@2\", \"name\": \"S-Succinyldihydrolipoamide\", \"label_x\": 3037.248379993439, \"label_y\": 1366.44185256958, \"node_is_primary\": true, \"compartment\": \"c0\"}, \"264\": {\"x\": 3318.24360704422, \"y\": 1330.16304397583, \"node_type\": \"multimarker\"}, \"265\": {\"x\": 3298.24360704422, \"y\": 1330.16304397583, \"node_type\": \"midmarker\"}, \"266\": {\"x\": 3278.24360704422, \"y\": 1330.16304397583, \"node_type\": \"multimarker\"}, \"267\": {\"node_type\": \"metabolite\", \"x\": 3473.24360704422, \"y\": 1330.16304397583, \"bigg_id\": \"cpd03189_c0@2\", \"name\": \"3-Carboxy-1-hydroxypropyl-ThPP\", \"label_x\": 3430.04360704422, \"label_y\": 1370.16304397583, \"node_is_primary\": true, \"compartment\": \"c0\"}, \"268\": {\"x\": 3668.24360704422, \"y\": 1330.16304397583, \"node_type\": \"multimarker\"}, \"269\": {\"x\": 3648.24360704422, \"y\": 1330.16304397583, \"node_type\": \"midmarker\"}, \"270\": {\"x\": 3628.24360704422, \"y\": 1330.16304397583, \"node_type\": \"multimarker\"}, \"271\": {\"node_type\": \"metabolite\", \"x\": 3826.398636341095, \"y\": 1331.018756866455, \"bigg_id\": \"cpd00024_c0@2\", \"name\": \"2-Oxoglutarate\", \"label_x\": 3842.7397740364077, \"label_y\": 1361.25679397583, \"node_is_primary\": true, \"compartment\": \"c0\"}, \"272\": {\"node_type\": \"metabolite\", \"x\": 3456.748733997345, \"y\": 1439.48189163208, \"bigg_id\": \"cpd00056_c0@2\", \"name\": \"TPP\", \"label_x\": 3413.548733997345, \"label_y\": 1479.48189163208, \"node_is_primary\": true, \"compartment\": \"c0\"}, \"273\": {\"node_type\": \"metabolite\", \"x\": 3722.4414830207825, \"y\": 1240.751178741455, \"bigg_id\": \"cpd00067_c0@2\", \"name\": \"H+\", \"label_x\": 3679.2414830207827, \"label_y\": 1256.562702178955, \"node_is_primary\": false, \"compartment\": \"c0\"}, \"274\": {\"node_type\": \"metabolite\", \"x\": 3563.71089220047, \"y\": 1252.00679397583, \"bigg_id\": \"cpd00011_c0@2\", \"name\": \"CO2\", \"label_x\": 3520.51089220047, \"label_y\": 1292.00679397583, \"node_is_primary\": false, \"compartment\": \"c0\"}, \"275\": {\"x\": 3826.719451904297, \"y\": 768.5320434570312, \"node_type\": \"multimarker\"}, \"276\": {\"x\": 3826.719451904297, \"y\": 788.5320434570312, \"node_type\": \"midmarker\"}, \"277\": {\"x\": 3826.719451904297, \"y\": 808.5320434570312, \"node_type\": \"multimarker\"}, \"278\": {\"node_type\": \"metabolite\", \"x\": 3742.0137634277344, \"y\": 717.4891967773438, \"bigg_id\": \"cpd00006_c0@2\", \"name\": \"NADP\", \"label_x\": 3709.259735107422, \"label_y\": 767.5426635742188, \"node_is_primary\": false, \"compartment\": \"c0\"}, \"279\": {\"node_type\": \"metabolite\", \"x\": 3746.719451904297, \"y\": 893.5320434570312, \"bigg_id\": \"cpd00005_c0@2\", \"name\": \"NADPH\", \"label_x\": 3674.719451904297, \"label_y\": 923.5320434570312, \"node_is_primary\": false, \"compartment\": \"c0\"}, \"280\": {\"node_type\": \"metabolite\", \"x\": 3906.719451904297, \"y\": 893.5320434570312, \"bigg_id\": \"cpd00067_c0@2\", \"name\": \"H+\", \"label_x\": 3921.719451904297, \"label_y\": 893.5320434570312, \"node_is_primary\": false, \"compartment\": \"c0\"}, \"281\": {\"x\": 2585.7837142944336, \"y\": 543.1576728820801, \"node_type\": \"multimarker\"}, \"282\": {\"x\": 2605.7837142944336, \"y\": 543.1576728820801, \"node_type\": \"midmarker\"}, \"283\": {\"x\": 2625.7837142944336, \"y\": 543.1576728820801, \"node_type\": \"multimarker\"}, \"284\": {\"node_type\": \"metabolite\", \"x\": 2477.6821060180664, \"y\": 476.8473701477051, \"bigg_id\": \"cpd00003_c0@2\", \"name\": \"NAD\", \"label_x\": 2434.4821060180666, \"label_y\": 516.8473701477051, \"node_is_primary\": false, \"compartment\": \"c0\"}, \"285\": {\"node_type\": \"metabolite\", \"x\": 2689.736198425293, \"y\": 472.7581367492676, \"bigg_id\": \"cpd00004_c0@2\", \"name\": \"NADH\", \"label_x\": 2700.3078048706057, \"label_y\": 446.5486640930176, \"node_is_primary\": false, \"compartment\": \"c0\"}, \"286\": {\"node_type\": \"metabolite\", \"x\": 2734.3759994506836, \"y\": 517.3506660461426, \"bigg_id\": \"cpd00067_c0@2\", \"name\": \"H+\", \"label_x\": 2729.9429977416994, \"label_y\": 494.6139717102051, \"node_is_primary\": false, \"compartment\": \"c0\"}, \"287\": {\"x\": 2977.1915936180712, \"y\": 639.8906198203003, \"node_type\": \"multimarker\"}, \"288\": {\"x\": 2957.1915936180712, \"y\": 639.8906198203003, \"node_type\": \"midmarker\"}, \"289\": {\"x\": 2937.1915936180712, \"y\": 639.8906198203003, \"node_type\": \"multimarker\"}, \"290\": {\"node_type\": \"metabolite\", \"x\": 3062.8867840477587, \"y\": 720.7463327109253, \"bigg_id\": \"cpd00010_c0@2\", \"name\": \"CoA\", \"label_x\": 3019.686784047759, \"label_y\": 760.7463327109253, \"node_is_primary\": false, \"compartment\": \"c0\"}, \"291\": {\"node_type\": \"metabolite\", \"x\": 3062.1915936180712, \"y\": 559.8906198203003, \"bigg_id\": \"cpd00067_c0@2\", \"name\": \"H+\", \"label_x\": 3018.9915936180714, \"label_y\": 539.8906198203003, \"node_is_primary\": false, \"compartment\": \"c0\"}, \"292\": {\"node_type\": \"metabolite\", \"x\": 2871.4429363915087, \"y\": 737.0030465781128, \"bigg_id\": \"cpd00001_c0@2\", \"name\": \"H2O\", \"label_x\": 2828.242936391509, \"label_y\": 717.0030465781128, \"node_is_primary\": false, \"compartment\": \"c0\"}, \"293\": {\"node_type\": \"metabolite\", \"x\": 2872.688602895415, \"y\": 554.7446237265503, \"bigg_id\": \"cpd00022_c0@2\", \"name\": \"Acetyl-CoA\", \"label_x\": 2837.1891033836964, \"label_y\": 525.4398141562378, \"node_is_primary\": true, \"compartment\": \"c0\"}, \"294\": {\"node_type\": \"metabolite\", \"x\": 2695.7113995262744, \"y\": 181.04491669530034, \"bigg_id\": \"cpd00002_c0@2\", \"name\": \"ATP\", \"label_x\": 2641.68640562979, \"label_y\": 218.32091767186284, \"node_is_primary\": false, \"compartment\": \"c0\"}, \"295\": {\"node_type\": \"metabolite\", \"x\": 2788.671787709868, \"y\": 121.32470185155034, \"bigg_id\": \"cpd00020_c0@2\", \"name\": \"Pyruvate\", \"label_x\": 2801.6609234520556, \"label_y\": 111.06664521092534, \"node_is_primary\": true, \"compartment\": \"c0\"}, \"296\": {\"node_type\": \"metabolite\", \"x\": 2865.1736492821337, \"y\": 176.49303681248784, \"bigg_id\": \"cpd00242_c0@2\", \"name\": \"H2CO3\", \"label_x\": 2880.1736492821337, \"label_y\": 176.49303681248784, \"node_is_primary\": false, \"compartment\": \"c0\"}, \"297\": {\"node_type\": \"metabolite\", \"x\": 2705.1736492821337, \"y\": 386.49303681248784, \"bigg_id\": \"cpd00008_c0@2\", \"name\": \"ADP\", \"label_x\": 2643.6109051415087, \"label_y\": 397.10961396092534, \"node_is_primary\": false, \"compartment\": \"c0\"}, \"298\": {\"node_type\": \"metabolite\", \"x\": 2865.1736492821337, \"y\": 386.49303681248784, \"bigg_id\": \"cpd00009_c0@2\", \"name\": \"Phosphate\", \"label_x\": 2880.1736492821337, \"label_y\": 386.49303681248784, \"node_is_primary\": false, \"compartment\": \"c0\"}, \"299\": {\"node_type\": \"metabolite\", \"x\": 2913.8618817040087, \"y\": 345.61852509373784, \"bigg_id\": \"cpd00067_c0@2\", \"name\": \"H+\", \"label_x\": 2928.8618817040087, \"label_y\": 345.61852509373784, \"node_is_primary\": false, \"compartment\": \"c0\"}, \"300\": {\"x\": 3442.077427043672, \"y\": 406.37845999649994, \"node_type\": \"multimarker\"}, \"301\": {\"x\": 3462.0725426378494, \"y\": 405.9364731465653, \"node_type\": \"midmarker\"}, \"302\": {\"x\": 3482.067658232026, \"y\": 405.494486296632, \"node_type\": \"multimarker\"}, \"303\": {\"x\": 3308.468042675896, \"y\": 1835.4678254317173, \"node_type\": \"multimarker\"}, \"304\": {\"x\": 3288.4686212268125, \"y\": 1835.619949400549, \"node_type\": \"midmarker\"}, \"305\": {\"x\": 3268.469199777728, \"y\": 1835.7720733693768, \"node_type\": \"multimarker\"}, \"306\": {\"node_type\": \"metabolite\", \"x\": 3394.074079709826, \"y\": 1914.8189843605314, \"bigg_id\": \"cpd00003_c0@2\", \"name\": \"NAD\", \"label_x\": 3409.074079709826, \"label_y\": 1914.8189843605314, \"node_is_primary\": false, \"compartment\": \"c0\"}, \"307\": {\"node_type\": \"metabolite\", \"x\": 3392.857087959188, \"y\": 1754.8236127678497, \"bigg_id\": \"cpd00010_c0@2\", \"name\": \"CoA\", \"label_x\": 3320.857087959188, \"label_y\": 1784.8236127678497, \"node_is_primary\": false, \"compartment\": \"c0\"}, \"308\": {\"node_type\": \"metabolite\", \"x\": 3184.0801544944366, \"y\": 1916.416286033245, \"bigg_id\": \"cpd00004_c0@2\", \"name\": \"NADH\", \"label_x\": 3199.0801544944366, \"label_y\": 1916.416286033245, \"node_is_primary\": false, \"compartment\": \"c0\"}, \"309\": {\"node_type\": \"metabolite\", \"x\": 3182.8631627438, \"y\": 1756.4209144405672, \"bigg_id\": \"cpd00011_c0@2\", \"name\": \"CO2\", \"label_x\": 3110.8631627438, \"label_y\": 1786.4209144405672, \"node_is_primary\": false, \"compartment\": \"c0\"}}, \"reactions\": {\"12\": {\"bigg_id\": \"rxn00974_c0@1\", \"gene_reaction_rule\": \"\", \"genes\": [], \"label_x\": 1034.5324116571323, \"label_y\": 619.8652498045021, \"metabolites\": [{\"bigg_id\": \"cpd00137_c0@1\", \"coefficient\": -1, \"node_uid\": \"92\"}, {\"bigg_id\": \"cpd00001_c0@1\", \"coefficient\": 1, \"node_uid\": \"96\"}, {\"bigg_id\": \"cpd00331_c0@1\", \"coefficient\": 1, \"node_uid\": \"97\"}], \"name\": \"rxn00974\", \"reversibility\": 0, \"segments\": {\"80\": {\"b1\": {\"x\": 149.50514221191406, \"y\": -1437.0855102539062}, \"b2\": {\"x\": 149.50514221191406, \"y\": -1437.0855102539062}, \"from_node_id\": \"93\", \"to_node_id\": \"94\"}, \"81\": {\"b1\": {\"x\": 149.50514221191406, \"y\": -1437.0855102539062}, \"b2\": {\"x\": 149.50514221191406, \"y\": -1437.0855102539062}, \"from_node_id\": \"95\", \"to_node_id\": \"94\"}, \"82\": {\"b1\": {\"x\": 1039.4030308433644, \"y\": 635.477514418465}, \"b2\": {\"x\": 983.2937212519253, \"y\": 638.8166364586132}, \"from_node_id\": \"93\", \"to_node_id\": \"92\"}, \"83\": {\"b1\": {\"x\": 1167.399852321787, \"y\": 636.3795628767357}, \"b2\": {\"x\": 1172.5228713882932, \"y\": 654.4161139784355}, \"from_node_id\": \"95\", \"to_node_id\": \"96\"}, \"84\": {\"b1\": {\"x\": 1163.399951650586, \"y\": 636.3513738624133}, \"b2\": {\"x\": 1217.6486045037454, \"y\": 636.733687369142}, \"from_node_id\": \"95\", \"to_node_id\": \"97\"}}}, \"17\": {\"bigg_id\": \"rxn00285_c0@1\", \"gene_reaction_rule\": \"\", \"genes\": [], \"label_x\": 352.3660283088684, \"label_y\": 1287.16841506958, \"metabolites\": [{\"bigg_id\": \"cpd00002_c0@1\", \"coefficient\": -1, \"node_uid\": \"130\"}, {\"bigg_id\": \"cpd00010_c0@1\", \"coefficient\": -1, \"node_uid\": \"131\"}, {\"bigg_id\": \"cpd00036_c0@1\", \"coefficient\": -1, \"node_uid\": \"125\"}, {\"bigg_id\": \"cpd00008_c0@1\", \"coefficient\": 1, \"node_uid\": \"132\"}, {\"bigg_id\": \"cpd00009_c0@1\", \"coefficient\": 1, \"node_uid\": \"133\"}, {\"bigg_id\": \"cpd00078_c0@1\", \"coefficient\": 1, \"node_uid\": \"134\"}], \"name\": \"rxn00285\", \"reversibility\": 0, \"segments\": {\"111\": {\"b1\": {\"x\": 149.50514221191406, \"y\": -1437.0855102539062}, \"b2\": {\"x\": 149.50514221191406, \"y\": -1437.0855102539062}, \"from_node_id\": \"127\", \"to_node_id\": \"128\"}, \"112\": {\"b1\": {\"x\": 149.50514221191406, \"y\": -1437.0855102539062}, \"b2\": {\"x\": 149.50514221191406, \"y\": -1437.0855102539062}, \"from_node_id\": \"129\", \"to_node_id\": \"128\"}, \"113\": {\"b1\": {\"x\": 336.3660283088684, \"y\": 1327.16841506958}, \"b2\": {\"x\": 331.1160283088684, \"y\": 1309.16841506958}, \"from_node_id\": \"127\", \"to_node_id\": \"130\"}, \"114\": {\"b1\": {\"x\": 336.3660283088684, \"y\": 1327.16841506958}, \"b2\": {\"x\": 327.2657628059387, \"y\": 1345.16841506958}, \"from_node_id\": \"127\", \"to_node_id\": \"131\"}, \"115\": {\"b1\": {\"x\": 340.3660283088684, \"y\": 1327.16841506958}, \"b2\": {\"x\": 286.1160283088684, \"y\": 1327.16841506958}, \"from_node_id\": \"127\", \"to_node_id\": \"125\"}, \"116\": {\"b1\": {\"x\": 468.3660283088684, \"y\": 1327.16841506958}, \"b2\": {\"x\": 473.6160283088684, \"y\": 1309.16841506958}, \"from_node_id\": \"129\", \"to_node_id\": \"132\"}, \"117\": {\"b1\": {\"x\": 468.3660283088684, \"y\": 1327.16841506958}, \"b2\": {\"x\": 473.6160283088684, \"y\": 1345.16841506958}, \"from_node_id\": \"129\", \"to_node_id\": \"133\"}, \"118\": {\"b1\": {\"x\": 464.3660283088684, \"y\": 1327.16841506958}, \"b2\": {\"x\": 518.6160283088684, \"y\": 1327.16841506958}, \"from_node_id\": \"129\", \"to_node_id\": \"134\"}}}, \"22\": {\"bigg_id\": \"rxn00248_c0@1\", \"gene_reaction_rule\": \"\", \"genes\": [], \"label_x\": 347.66016387939453, \"label_y\": 530.1095771789551, \"metabolites\": [{\"bigg_id\": \"cpd00003_c0@1\", \"coefficient\": -1, \"node_uid\": \"164\"}, {\"bigg_id\": \"cpd00130_c0@1\", \"coefficient\": -1, \"node_uid\": \"70\"}, {\"bigg_id\": \"cpd00004_c0@1\", \"coefficient\": 1, \"node_uid\": \"165\"}, {\"bigg_id\": \"cpd00032_c0@1\", \"coefficient\": 1, \"node_uid\": \"23\"}, {\"bigg_id\": \"cpd00067_c0@1\", \"coefficient\": 1, \"node_uid\": \"167\"}], \"name\": \"rxn00248\", \"reversibility\": 0, \"segments\": {\"145\": {\"b1\": {\"x\": 149.50514221191406, \"y\": -1437.0855102539062}, \"b2\": {\"x\": 149.50514221191406, \"y\": -1437.0855102539062}, \"from_node_id\": \"161\", \"to_node_id\": \"162\"}, \"146\": {\"b1\": {\"x\": 149.50514221191406, \"y\": -1437.0855102539062}, \"b2\": {\"x\": 149.50514221191406, \"y\": -1437.0855102539062}, \"from_node_id\": \"163\", \"to_node_id\": \"162\"}, \"147\": {\"b1\": {\"x\": 343.21094512939453, \"y\": 543.1576728820801}, \"b2\": {\"x\": 317.2364391776689, \"y\": 537.4930210851378}, \"from_node_id\": \"161\", \"to_node_id\": \"164\"}, \"148\": {\"b1\": {\"x\": 347.21094512939453, \"y\": 543.1576728820801}, \"b2\": {\"x\": 289.11067962646484, \"y\": 647.1149482727051}, \"from_node_id\": \"161\", \"to_node_id\": \"70\"}, \"149\": {\"b1\": {\"x\": 471.21094512939453, \"y\": 543.1576728820801}, \"b2\": {\"x\": 487.7350019897295, \"y\": 531.2568091903463}, \"from_node_id\": \"163\", \"to_node_id\": \"165\"}, \"150\": {\"b1\": {\"x\": 475.21094512939453, \"y\": 543.1576728820801}, \"b2\": {\"x\": 516.9425344147008, \"y\": 641.27689840942}, \"from_node_id\": \"163\", \"to_node_id\": \"23\"}, \"151\": {\"b1\": {\"x\": 475.21094512939453, \"y\": 543.1576728820801}, \"b2\": {\"x\": 503.17876663045695, \"y\": 578.8665909484839}, \"from_node_id\": \"163\", \"to_node_id\": \"167\"}}}, \"27\": {\"bigg_id\": \"rxn08094_c0@1\", \"gene_reaction_rule\": \"\", \"genes\": [], \"label_x\": 1022.9252099719295, \"label_y\": 1873.610183775549, \"metabolites\": [{\"bigg_id\": \"cpd00003_c0@1\", \"coefficient\": -1, \"node_uid\": \"196\"}, {\"bigg_id\": \"cpd00010_c0@1\", \"coefficient\": -1, \"node_uid\": \"197\"}, {\"bigg_id\": \"cpd00024_c0@1\", \"coefficient\": -1, \"node_uid\": \"150\"}, {\"bigg_id\": \"cpd00004_c0@1\", \"coefficient\": 1, \"node_uid\": \"198\"}, {\"bigg_id\": \"cpd00011_c0@1\", \"coefficient\": 1, \"node_uid\": \"199\"}, {\"bigg_id\": \"cpd00078_c0@1\", \"coefficient\": 1, \"node_uid\": \"134\"}], \"name\": \"rxn08094\", \"reversibility\": 0, \"segments\": {\"177\": {\"b1\": {\"x\": 149.50514221191406, \"y\": -1437.0855102539062}, \"b2\": {\"x\": 149.50514221191406, \"y\": -1437.0855102539062}, \"from_node_id\": \"193\", \"to_node_id\": \"194\"}, \"178\": {\"b1\": {\"x\": 149.50514221191406, \"y\": -1437.0855102539062}, \"b2\": {\"x\": 149.50514221191406, \"y\": -1437.0855102539062}, \"from_node_id\": \"195\", \"to_node_id\": \"194\"}, \"179\": {\"b1\": {\"x\": 1157.893942843753, \"y\": 1835.1179403034084}, \"b2\": {\"x\": 1163.2807025460859, \"y\": 1853.0774870657656}, \"from_node_id\": \"193\", \"to_node_id\": \"196\"}, \"180\": {\"b1\": {\"x\": 1157.893942843753, \"y\": 1835.1179403034084}, \"b2\": {\"x\": 1163.00687940219, \"y\": 1817.0785284574172}, \"from_node_id\": \"193\", \"to_node_id\": \"197\"}, \"181\": {\"b1\": {\"x\": 1153.8940585539362, \"y\": 1835.1483650971727}, \"b2\": {\"x\": 1622.1922001838684, \"y\": 1829.97847366333}, \"from_node_id\": \"193\", \"to_node_id\": \"150\"}, \"182\": {\"b1\": {\"x\": 1025.8977612797955, \"y\": 1836.1219584976861}, \"b2\": {\"x\": 1020.7848247213578, \"y\": 1854.1613703436783}, \"from_node_id\": \"195\", \"to_node_id\": \"198\"}, \"183\": {\"b1\": {\"x\": 1025.8977612797955, \"y\": 1836.1219584976861}, \"b2\": {\"x\": 1020.5110015774619, \"y\": 1818.1624117353276}, \"from_node_id\": \"195\", \"to_node_id\": \"199\"}, \"184\": {\"b1\": {\"x\": 1029.8976455696122, \"y\": 1836.0915337039191}, \"b2\": {\"x\": 571.0632468713904, \"y\": 1816.1474805162466}, \"from_node_id\": \"195\", \"to_node_id\": \"134\"}}}, \"316\": {\"bigg_id\": \"rxn00935_c0@2\", \"name\": \"rxn00935\", \"gene_reaction_rule\": \"\", \"genes\": [], \"label_x\": 2544.4328904023314, \"label_y\": 702.7373026766727, \"metabolites\": [{\"bigg_id\": \"cpd00015_c0@2\", \"coefficient\": -1}, {\"bigg_id\": \"cpd00130_c0@2\", \"coefficient\": -1}, {\"bigg_id\": \"cpd00032_c0@2\", \"coefficient\": 1}, {\"bigg_id\": \"cpd00982_c0@2\", \"coefficient\": 1}], \"reversibility\": false, \"segments\": {\"310\": {\"b1\": null, \"b2\": null, \"from_node_id\": \"206\", \"to_node_id\": \"207\"}, \"311\": {\"b1\": null, \"b2\": null, \"from_node_id\": \"208\", \"to_node_id\": \"207\"}, \"312\": {\"b1\": {\"x\": 2544.4486743614125, \"y\": 743.9271515815954}, \"b2\": {\"x\": 2547.722526179584, \"y\": 771.6120632579632}, \"from_node_id\": \"206\", \"to_node_id\": \"205\"}, \"313\": {\"b1\": {\"x\": 2540.4493461591755, \"y\": 744.0004586808036}, \"b2\": {\"x\": 2504.206621211825, \"y\": 643.2909022560166}, \"from_node_id\": \"206\", \"to_node_id\": \"220\"}, \"314\": {\"b1\": {\"x\": 2672.4271768329863, \"y\": 741.581324406915}, \"b2\": {\"x\": 2711.601049706448, \"y\": 639.696686168425}, \"from_node_id\": \"208\", \"to_node_id\": \"209\"}, \"315\": {\"b1\": {\"x\": 2668.4278486307485, \"y\": 741.6546315061241}, \"b2\": {\"x\": 2666.2784904436858, \"y\": 771.3430940631788}, \"from_node_id\": \"208\", \"to_node_id\": \"210\"}}}, \"323\": {\"bigg_id\": \"rxn00199_c0@2\", \"name\": \"rxn00199\", \"gene_reaction_rule\": \"\", \"genes\": [], \"label_x\": 3840.863983154297, \"label_y\": 1167.0881958007812, \"metabolites\": [{\"bigg_id\": \"cpd00067_c0@2\", \"coefficient\": -1}, {\"bigg_id\": \"cpd03187_c0@2\", \"coefficient\": -1}, {\"bigg_id\": \"cpd00011_c0@2\", \"coefficient\": 1}, {\"bigg_id\": \"cpd00024_c0@2\", \"coefficient\": 1}], \"reversibility\": false, \"segments\": {\"317\": {\"b1\": null, \"b2\": null, \"from_node_id\": \"215\", \"to_node_id\": \"216\"}, \"318\": {\"b1\": null, \"b2\": null, \"from_node_id\": \"217\", \"to_node_id\": \"216\"}, \"319\": {\"b1\": {\"x\": 3825.863983154297, \"y\": 1095.0881958007812}, \"b2\": {\"x\": 3805.1486569747767, \"y\": 1083.6164123454319}, \"from_node_id\": \"215\", \"to_node_id\": \"214\"}, \"320\": {\"b1\": {\"x\": 3825.863983154297, \"y\": 1091.0881958007812}, \"b2\": {\"x\": 3824.8406580823735, \"y\": 1034.0978470291197}, \"from_node_id\": \"215\", \"to_node_id\": \"218\"}, \"321\": {\"b1\": {\"x\": 3825.863983154297, \"y\": 1223.0881958007812}, \"b2\": {\"x\": 3807.6216089266873, \"y\": 1227.0043084643644}, \"from_node_id\": \"217\", \"to_node_id\": \"219\"}, \"322\": {\"b1\": {\"x\": 3825.863983154297, \"y\": 1219.0881958007812}, \"b2\": {\"x\": 3825.863983154297, \"y\": 1273.3381958007812}, \"from_node_id\": \"217\", \"to_node_id\": \"271\"}}}, \"329\": {\"bigg_id\": \"rxn00799_c0@2\", \"name\": \"rxn00799\", \"gene_reaction_rule\": \"\", \"genes\": [], \"label_x\": 2284.072494506836, \"label_y\": 816.7138252258301, \"metabolites\": [{\"bigg_id\": \"cpd00130_c0@2\", \"coefficient\": -1}, {\"bigg_id\": \"cpd00001_c0@2\", \"coefficient\": 1}, {\"bigg_id\": \"cpd00106_c0@2\", \"coefficient\": 1}], \"reversibility\": false, \"segments\": {\"324\": {\"b1\": null, \"b2\": null, \"from_node_id\": \"221\", \"to_node_id\": \"222\"}, \"325\": {\"b1\": null, \"b2\": null, \"from_node_id\": \"223\", \"to_node_id\": \"222\"}, \"326\": {\"b1\": {\"x\": 2426.933448791504, \"y\": 760.1149482727051}, \"b2\": {\"x\": 2426.933448791504, \"y\": 705.8649482727051}, \"from_node_id\": \"221\", \"to_node_id\": \"220\"}, \"327\": {\"b1\": {\"x\": 2426.933448791504, \"y\": 888.1149482727051}, \"b2\": {\"x\": 2408.933448791504, \"y\": 893.3649482727051}, \"from_node_id\": \"223\", \"to_node_id\": \"224\"}, \"328\": {\"b1\": {\"x\": 2426.933448791504, \"y\": 884.1149482727051}, \"b2\": {\"x\": 2426.9334564208984, \"y\": 942.2152900695801}, \"from_node_id\": \"223\", \"to_node_id\": \"225\"}}}, \"335\": {\"bigg_id\": \"rxn00974_c0@2\", \"name\": \"rxn00974\", \"gene_reaction_rule\": \"\", \"genes\": [], \"label_x\": 3231.1051808221714, \"label_y\": 619.8652498045021, \"metabolites\": [{\"bigg_id\": \"cpd00137_c0@2\", \"coefficient\": -1}, {\"bigg_id\": \"cpd00001_c0@2\", \"coefficient\": 1}, {\"bigg_id\": \"cpd00331_c0@2\", \"coefficient\": 1}], \"reversibility\": false, \"segments\": {\"330\": {\"b1\": null, \"b2\": null, \"from_node_id\": \"227\", \"to_node_id\": \"228\"}, \"331\": {\"b1\": null, \"b2\": null, \"from_node_id\": \"229\", \"to_node_id\": \"228\"}, \"332\": {\"b1\": {\"x\": 3235.9758000084034, \"y\": 635.477514418465}, \"b2\": {\"x\": 3179.8664904169646, \"y\": 638.8166364586132}, \"from_node_id\": \"227\", \"to_node_id\": \"226\"}, \"333\": {\"b1\": {\"x\": 3363.972621486826, \"y\": 636.3795628767357}, \"b2\": {\"x\": 3369.0956405533325, \"y\": 654.4161139784355}, \"from_node_id\": \"229\", \"to_node_id\": \"230\"}, \"334\": {\"b1\": {\"x\": 3359.972720815625, \"y\": 636.3513738624133}, \"b2\": {\"x\": 3414.2213736687845, \"y\": 636.733687369142}, \"from_node_id\": \"229\", \"to_node_id\": \"231\"}}}, \"341\": {\"bigg_id\": \"rxn01388_c0@2\", \"name\": \"rxn01388\", \"gene_reaction_rule\": \"\", \"genes\": [], \"label_x\": 3616.991637176143, \"label_y\": 613.8076736785879, \"metabolites\": [{\"bigg_id\": \"cpd00260_c0@2\", \"coefficient\": -1}, {\"bigg_id\": \"cpd00001_c0@2\", \"coefficient\": 1}, {\"bigg_id\": \"cpd00331_c0@2\", \"coefficient\": 1}], \"reversibility\": false, \"segments\": {\"336\": {\"b1\": null, \"b2\": null, \"from_node_id\": \"233\", \"to_node_id\": \"234\"}, \"337\": {\"b1\": null, \"b2\": null, \"from_node_id\": \"235\", \"to_node_id\": \"234\"}, \"338\": {\"b1\": {\"x\": 3710.507692310728, \"y\": 631.9777650096116}, \"b2\": {\"x\": 3764.7572141863056, \"y\": 632.2055286400791}, \"from_node_id\": \"233\", \"to_node_id\": \"232\"}, \"339\": {\"b1\": {\"x\": 3582.5088204199687, \"y\": 631.4403687939484}, \"b2\": {\"x\": 3577.3344380329, \"y\": 613.418485792653}, \"from_node_id\": \"235\", \"to_node_id\": \"236\"}, \"340\": {\"b1\": {\"x\": 3586.5087851665544, \"y\": 631.4571624256891}, \"b2\": {\"x\": 3532.259263290979, \"y\": 633.090238638973}, \"from_node_id\": \"235\", \"to_node_id\": \"231\"}}}, \"349\": {\"bigg_id\": \"rxn01241_c0@2\", \"name\": \"rxn01241\", \"gene_reaction_rule\": \"\", \"genes\": [], \"label_x\": 3047.064538077733, \"label_y\": 1073.7554347773785, \"metabolites\": [{\"bigg_id\": \"cpd00003_c0@2\", \"coefficient\": -1}, {\"bigg_id\": \"cpd00449_c0@2\", \"coefficient\": -1}, {\"bigg_id\": \"cpd00004_c0@2\", \"coefficient\": 1}, {\"bigg_id\": \"cpd00067_c0@2\", \"coefficient\": 1}, {\"bigg_id\": \"cpd00213_c0@2\", \"coefficient\": 1}], \"reversibility\": false, \"segments\": {\"342\": {\"b1\": null, \"b2\": null, \"from_node_id\": \"238\", \"to_node_id\": \"239\"}, \"343\": {\"b1\": null, \"b2\": null, \"from_node_id\": \"240\", \"to_node_id\": \"239\"}, \"344\": {\"b1\": {\"x\": 3055.6570589686607, \"y\": 1097.7536168252254}, \"b2\": {\"x\": 3037.461106212897, \"y\": 1078.6745678502075}, \"from_node_id\": \"238\", \"to_node_id\": \"237\"}, \"345\": {\"b1\": {\"x\": 2957.50826652866, \"y\": 1097.7862773857714}, \"b2\": {\"x\": 2858.849017577135, \"y\": 1122.6176068358668}, \"from_node_id\": \"238\", \"to_node_id\": \"261\"}, \"346\": {\"b1\": {\"x\": 3179.6529253899303, \"y\": 1096.7411394482806}, \"b2\": {\"x\": 3208.8224697279934, \"y\": 1067.4546627338773}, \"from_node_id\": \"240\", \"to_node_id\": \"241\"}, \"347\": {\"b1\": {\"x\": 3183.652792048681, \"y\": 1096.7084788877337}, \"b2\": {\"x\": 3246.436125472862, \"y\": 1100.9943369376388}, \"from_node_id\": \"240\", \"to_node_id\": \"242\"}, \"348\": {\"b1\": {\"x\": 3338.871297908056, \"y\": 1091.6193675596087}, \"b2\": {\"x\": 3430.663786338094, \"y\": 1109.7597384288938}, \"from_node_id\": \"240\", \"to_node_id\": \"243\"}}}, \"356\": {\"bigg_id\": \"rxn00288_c0@2\", \"name\": \"rxn00288\", \"gene_reaction_rule\": \"\", \"genes\": [], \"label_x\": 2441.9334564208984, \"label_y\": 1185.96529006958, \"metabolites\": [{\"bigg_id\": \"cpd00015_c0@2\", \"coefficient\": -1}, {\"bigg_id\": \"cpd00036_c0@2\", \"coefficient\": -1}, {\"bigg_id\": \"cpd00106_c0@2\", \"coefficient\": 1}, {\"bigg_id\": \"cpd00982_c0@2\", \"coefficient\": 1}], \"reversibility\": false, \"segments\": {\"350\": {\"b1\": null, \"b2\": null, \"from_node_id\": \"244\", \"to_node_id\": \"245\"}, \"351\": {\"b1\": null, \"b2\": null, \"from_node_id\": \"246\", \"to_node_id\": \"245\"}, \"352\": {\"b1\": {\"x\": 2426.9334564208984, \"y\": 1237.96529006958}, \"b2\": {\"x\": 2389.5603088793814, \"y\": 1246.858421239995}, \"from_node_id\": \"244\", \"to_node_id\": \"247\"}, \"353\": {\"b1\": {\"x\": 2426.9334564208984, \"y\": 1241.96529006958}, \"b2\": {\"x\": 2423.9192717621895, \"y\": 1256.577607461602}, \"from_node_id\": \"244\", \"to_node_id\": \"248\"}, \"354\": {\"b1\": {\"x\": 2426.9334564208984, \"y\": 1113.96529006958}, \"b2\": {\"x\": 2426.9334564208984, \"y\": 1059.71529006958}, \"from_node_id\": \"246\", \"to_node_id\": \"225\"}, \"355\": {\"b1\": {\"x\": 2426.9334564208984, \"y\": 1109.96529006958}, \"b2\": {\"x\": 2408.9334564208984, \"y\": 1104.71529006958}, \"from_node_id\": \"246\", \"to_node_id\": \"249\"}}}, \"365\": {\"bigg_id\": \"rxn00285_c0@2\", \"name\": \"rxn00285\", \"gene_reaction_rule\": \"\", \"genes\": [], \"label_x\": 2548.9387974739075, \"label_y\": 1287.16841506958, \"metabolites\": [{\"bigg_id\": \"cpd00002_c0@2\", \"coefficient\": -1}, {\"bigg_id\": \"cpd00010_c0@2\", \"coefficient\": -1}, {\"bigg_id\": \"cpd00036_c0@2\", \"coefficient\": -1}, {\"bigg_id\": \"cpd00008_c0@2\", \"coefficient\": 1}, {\"bigg_id\": \"cpd00009_c0@2\", \"coefficient\": 1}, {\"bigg_id\": \"cpd00078_c0@2\", \"coefficient\": 1}], \"reversibility\": false, \"segments\": {\"357\": {\"b1\": null, \"b2\": null, \"from_node_id\": \"250\", \"to_node_id\": \"251\"}, \"358\": {\"b1\": null, \"b2\": null, \"from_node_id\": \"252\", \"to_node_id\": \"251\"}, \"359\": {\"b1\": {\"x\": 2532.9387974739075, \"y\": 1327.16841506958}, \"b2\": {\"x\": 2527.6887974739075, \"y\": 1309.16841506958}, \"from_node_id\": \"250\", \"to_node_id\": \"253\"}, \"360\": {\"b1\": {\"x\": 2532.9387974739075, \"y\": 1327.16841506958}, \"b2\": {\"x\": 2523.838531970978, \"y\": 1345.16841506958}, \"from_node_id\": \"250\", \"to_node_id\": \"254\"}, \"361\": {\"b1\": {\"x\": 2536.9387974739075, \"y\": 1327.16841506958}, \"b2\": {\"x\": 2482.6887974739075, \"y\": 1327.16841506958}, \"from_node_id\": \"250\", \"to_node_id\": \"248\"}, \"362\": {\"b1\": {\"x\": 2664.9387974739075, \"y\": 1327.16841506958}, \"b2\": {\"x\": 2670.1887974739075, \"y\": 1309.16841506958}, \"from_node_id\": \"252\", \"to_node_id\": \"255\"}, \"363\": {\"b1\": {\"x\": 2664.9387974739075, \"y\": 1327.16841506958}, \"b2\": {\"x\": 2670.1887974739075, \"y\": 1345.16841506958}, \"from_node_id\": \"252\", \"to_node_id\": \"256\"}, \"364\": {\"b1\": {\"x\": 2660.9387974739075, \"y\": 1327.16841506958}, \"b2\": {\"x\": 2715.1887974739075, \"y\": 1327.16841506958}, \"from_node_id\": \"252\", \"to_node_id\": \"257\"}}}, \"372\": {\"bigg_id\": \"rxn01872_c0@2\", \"name\": \"rxn01872\", \"gene_reaction_rule\": \"\", \"genes\": [], \"label_x\": 2895.217483997345, \"label_y\": 1300.193073272705, \"metabolites\": [{\"bigg_id\": \"cpd00078_c0@2\", \"coefficient\": -1}, {\"bigg_id\": \"cpd00449_c0@2\", \"coefficient\": -1}, {\"bigg_id\": \"cpd00010_c0@2\", \"coefficient\": 1}, {\"bigg_id\": \"cpd00860_c0@2\", \"coefficient\": 1}], \"reversibility\": false, \"segments\": {\"366\": {\"b1\": null, \"b2\": null, \"from_node_id\": \"258\", \"to_node_id\": \"259\"}, \"367\": {\"b1\": null, \"b2\": null, \"from_node_id\": \"260\", \"to_node_id\": \"259\"}, \"368\": {\"b1\": {\"x\": 2886.9387974739075, \"y\": 1327.16841506958}, \"b2\": {\"x\": 2832.6887974739075, \"y\": 1327.16841506958}, \"from_node_id\": \"258\", \"to_node_id\": \"257\"}, \"369\": {\"b1\": {\"x\": 2882.9387974739075, \"y\": 1327.16841506958}, \"b2\": {\"x\": 2863.7100393420496, \"y\": 1304.6528655367874}, \"from_node_id\": \"258\", \"to_node_id\": \"261\"}, \"370\": {\"b1\": {\"x\": 3010.9387974739075, \"y\": 1327.16841506958}, \"b2\": {\"x\": 3023.029774300705, \"y\": 1342.249249116936}, \"from_node_id\": \"260\", \"to_node_id\": \"262\"}, \"371\": {\"b1\": {\"x\": 3014.9387974739075, \"y\": 1327.16841506958}, \"b2\": {\"x\": 3052.701195007503, \"y\": 1327.5495015441866}, \"from_node_id\": \"260\", \"to_node_id\": \"263\"}}}, \"379\": {\"bigg_id\": \"rxn02376_c0@2\", \"name\": \"rxn02376\", \"gene_reaction_rule\": \"\", \"genes\": [], \"label_x\": 3233.3582921028137, \"label_y\": 1312.490924835205, \"metabolites\": [{\"bigg_id\": \"cpd00213_c0@2\", \"coefficient\": -1}, {\"bigg_id\": \"cpd03189_c0@2\", \"coefficient\": -1}, {\"bigg_id\": \"cpd00056_c0@2\", \"coefficient\": 1}, {\"bigg_id\": \"cpd00860_c0@2\", \"coefficient\": 1}], \"reversibility\": false, \"segments\": {\"373\": {\"b1\": null, \"b2\": null, \"from_node_id\": \"264\", \"to_node_id\": \"265\"}, \"374\": {\"b1\": null, \"b2\": null, \"from_node_id\": \"266\", \"to_node_id\": \"265\"}, \"375\": {\"b1\": {\"x\": 3364.24360704422, \"y\": 1330.16304397583}, \"b2\": {\"x\": 3393.6892471248775, \"y\": 1298.6116931324295}, \"from_node_id\": \"264\", \"to_node_id\": \"243\"}, \"376\": {\"b1\": {\"x\": 3360.24360704422, \"y\": 1330.16304397583}, \"b2\": {\"x\": 3414.49360704422, \"y\": 1330.16304397583}, \"from_node_id\": \"264\", \"to_node_id\": \"267\"}, \"377\": {\"b1\": {\"x\": 3110.10444688797, \"y\": 1322.529499053955}, \"b2\": {\"x\": 3152.459369750434, \"y\": 1442.4542922288915}, \"from_node_id\": \"266\", \"to_node_id\": \"272\"}, \"378\": {\"b1\": {\"x\": 3172.6294713020325, \"y\": 1332.707721710205}, \"b2\": {\"x\": 3174.359879016876, \"y\": 1330.16304397583}, \"from_node_id\": \"266\", \"to_node_id\": \"263\"}}}, \"387\": {\"bigg_id\": \"rxn00441_c0@2\", \"name\": \"rxn00441\", \"gene_reaction_rule\": \"\", \"genes\": [], \"label_x\": 3579.636917591095, \"label_y\": 1301.326862335205, \"metabolites\": [{\"bigg_id\": \"cpd00024_c0@2\", \"coefficient\": -1}, {\"bigg_id\": \"cpd00056_c0@2\", \"coefficient\": -1}, {\"bigg_id\": \"cpd00067_c0@2\", \"coefficient\": -1}, {\"bigg_id\": \"cpd00011_c0@2\", \"coefficient\": 1}, {\"bigg_id\": \"cpd03189_c0@2\", \"coefficient\": 1}], \"reversibility\": false, \"segments\": {\"380\": {\"b1\": null, \"b2\": null, \"from_node_id\": \"268\", \"to_node_id\": \"269\"}, \"381\": {\"b1\": null, \"b2\": null, \"from_node_id\": \"270\", \"to_node_id\": \"269\"}, \"382\": {\"b1\": {\"x\": 3714.24360704422, \"y\": 1330.16304397583}, \"b2\": {\"x\": 3755.850247069346, \"y\": 1328.5718667664019}, \"from_node_id\": \"268\", \"to_node_id\": \"271\"}, \"383\": {\"b1\": {\"x\": 3710.24360704422, \"y\": 1330.16304397583}, \"b2\": {\"x\": 3810.217359474354, \"y\": 1434.7612747136059}, \"from_node_id\": \"268\", \"to_node_id\": \"272\"}, \"384\": {\"b1\": {\"x\": 3714.24360704422, \"y\": 1330.16304397583}, \"b2\": {\"x\": 3723.121647258698, \"y\": 1311.338712177675}, \"from_node_id\": \"268\", \"to_node_id\": \"273\"}, \"385\": {\"b1\": {\"x\": 3582.24360704422, \"y\": 1330.16304397583}, \"b2\": {\"x\": 3570.1138567453263, \"y\": 1322.306612930342}, \"from_node_id\": \"270\", \"to_node_id\": \"274\"}, \"386\": {\"b1\": {\"x\": 3586.24360704422, \"y\": 1330.16304397583}, \"b2\": {\"x\": 3531.99360704422, \"y\": 1330.16304397583}, \"from_node_id\": \"270\", \"to_node_id\": \"267\"}}}, \"395\": {\"bigg_id\": \"rxn01387_c0@2\", \"name\": \"rxn01387\", \"gene_reaction_rule\": \"\", \"genes\": [], \"label_x\": 3841.719451904297, \"label_y\": 798.5320434570312, \"metabolites\": [{\"bigg_id\": \"cpd00006_c0@2\", \"coefficient\": -1}, {\"bigg_id\": \"cpd00260_c0@2\", \"coefficient\": -1}, {\"bigg_id\": \"cpd00005_c0@2\", \"coefficient\": 1}, {\"bigg_id\": \"cpd00067_c0@2\", \"coefficient\": 1}, {\"bigg_id\": \"cpd03187_c0@2\", \"coefficient\": 1}], \"reversibility\": false, \"segments\": {\"388\": {\"b1\": null, \"b2\": null, \"from_node_id\": \"275\", \"to_node_id\": \"276\"}, \"389\": {\"b1\": null, \"b2\": null, \"from_node_id\": \"277\", \"to_node_id\": \"276\"}, \"390\": {\"b1\": {\"x\": 3826.719451904297, \"y\": 726.5320434570312}, \"b2\": {\"x\": 3800.7127954932603, \"y\": 715.0425389405887}, \"from_node_id\": \"275\", \"to_node_id\": \"278\"}, \"391\": {\"b1\": {\"x\": 3826.719451904297, \"y\": 722.5320434570312}, \"b2\": {\"x\": 3827.329229951619, \"y\": 705.6319956551861}, \"from_node_id\": \"275\", \"to_node_id\": \"232\"}, \"392\": {\"b1\": {\"x\": 3826.719451904297, \"y\": 854.5320434570312}, \"b2\": {\"x\": 3808.719451904297, \"y\": 859.7820434570312}, \"from_node_id\": \"277\", \"to_node_id\": \"279\"}, \"393\": {\"b1\": {\"x\": 3826.719451904297, \"y\": 854.5320434570312}, \"b2\": {\"x\": 3844.719451904297, \"y\": 859.7820434570312}, \"from_node_id\": \"277\", \"to_node_id\": \"280\"}, \"394\": {\"b1\": {\"x\": 3826.719451904297, \"y\": 850.5320434570312}, \"b2\": {\"x\": 3826.719451904297, \"y\": 904.7820434570312}, \"from_node_id\": \"277\", \"to_node_id\": \"218\"}}}, \"403\": {\"bigg_id\": \"rxn00248_c0@2\", \"name\": \"rxn00248\", \"gene_reaction_rule\": \"\", \"genes\": [], \"label_x\": 2544.2329330444336, \"label_y\": 530.1095771789551, \"metabolites\": [{\"bigg_id\": \"cpd00003_c0@2\", \"coefficient\": -1}, {\"bigg_id\": \"cpd00130_c0@2\", \"coefficient\": -1}, {\"bigg_id\": \"cpd00004_c0@2\", \"coefficient\": 1}, {\"bigg_id\": \"cpd00032_c0@2\", \"coefficient\": 1}, {\"bigg_id\": \"cpd00067_c0@2\", \"coefficient\": 1}], \"reversibility\": false, \"segments\": {\"396\": {\"b1\": null, \"b2\": null, \"from_node_id\": \"281\", \"to_node_id\": \"282\"}, \"397\": {\"b1\": null, \"b2\": null, \"from_node_id\": \"283\", \"to_node_id\": \"282\"}, \"398\": {\"b1\": {\"x\": 2539.7837142944336, \"y\": 543.1576728820801}, \"b2\": {\"x\": 2513.809208342708, \"y\": 537.4930210851378}, \"from_node_id\": \"281\", \"to_node_id\": \"284\"}, \"399\": {\"b1\": {\"x\": 2543.7837142944336, \"y\": 543.1576728820801}, \"b2\": {\"x\": 2485.683448791504, \"y\": 647.1149482727051}, \"from_node_id\": \"281\", \"to_node_id\": \"220\"}, \"400\": {\"b1\": {\"x\": 2667.7837142944336, \"y\": 543.1576728820801}, \"b2\": {\"x\": 2684.3077711547685, \"y\": 531.2568091903463}, \"from_node_id\": \"283\", \"to_node_id\": \"285\"}, \"401\": {\"b1\": {\"x\": 2671.7837142944336, \"y\": 543.1576728820801}, \"b2\": {\"x\": 2713.51530357974, \"y\": 641.27689840942}, \"from_node_id\": \"283\", \"to_node_id\": \"209\"}, \"402\": {\"b1\": {\"x\": 2671.7837142944336, \"y\": 543.1576728820801}, \"b2\": {\"x\": 2699.7515357954962, \"y\": 578.8665909484839}, \"from_node_id\": \"283\", \"to_node_id\": \"286\"}}}, \"412\": {\"bigg_id\": \"rxn00256_c0@2\", \"name\": \"rxn00256\", \"gene_reaction_rule\": \"\", \"genes\": [], \"label_x\": 2907.1915936180712, \"label_y\": 599.8906198203003, \"metabolites\": [{\"bigg_id\": \"cpd00010_c0@2\", \"coefficient\": -1}, {\"bigg_id\": \"cpd00067_c0@2\", \"coefficient\": -1}, {\"bigg_id\": \"cpd00137_c0@2\", \"coefficient\": -1}, {\"bigg_id\": \"cpd00001_c0@2\", \"coefficient\": 1}, {\"bigg_id\": \"cpd00022_c0@2\", \"coefficient\": 1}, {\"bigg_id\": \"cpd00032_c0@2\", \"coefficient\": 1}], \"reversibility\": false, \"segments\": {\"404\": {\"b1\": null, \"b2\": null, \"from_node_id\": \"287\", \"to_node_id\": \"288\"}, \"405\": {\"b1\": null, \"b2\": null, \"from_node_id\": \"289\", \"to_node_id\": \"288\"}, \"406\": {\"b1\": {\"x\": 3019.1915936180712, \"y\": 639.8906198203003}, \"b2\": {\"x\": 3042.576671299696, \"y\": 665.618646198965}, \"from_node_id\": \"287\", \"to_node_id\": \"290\"}, \"407\": {\"b1\": {\"x\": 3023.1915936180712, \"y\": 639.8906198203003}, \"b2\": {\"x\": 3028.4415936180712, \"y\": 621.8906198203003}, \"from_node_id\": \"287\", \"to_node_id\": \"291\"}, \"408\": {\"b1\": {\"x\": 3023.1915936180712, \"y\": 639.8906198203003}, \"b2\": {\"x\": 3053.211067308074, \"y\": 639.9582594005669}, \"from_node_id\": \"287\", \"to_node_id\": \"226\"}, \"409\": {\"b1\": {\"x\": 2891.1915936180712, \"y\": 639.8906198203003}, \"b2\": {\"x\": 2884.1370183686695, \"y\": 667.5629804580612}, \"from_node_id\": \"289\", \"to_node_id\": \"292\"}, \"410\": {\"b1\": {\"x\": 2891.1915936180712, \"y\": 639.8906198203003}, \"b2\": {\"x\": 2885.0305104243266, \"y\": 624.2481475116642}, \"from_node_id\": \"289\", \"to_node_id\": \"293\"}, \"411\": {\"b1\": {\"x\": 2895.1915936180712, \"y\": 639.8906198203003}, \"b2\": {\"x\": 2840.9415936180712, \"y\": 639.8906198203003}, \"from_node_id\": \"289\", \"to_node_id\": \"209\"}}}, \"417\": {\"bigg_id\": \"rxn00973_c0@2\", \"name\": \"rxn00973\", \"gene_reaction_rule\": \"\", \"genes\": [], \"label_x\": 3396.192537755037, \"label_y\": 444.8220932637528, \"metabolites\": [{\"bigg_id\": \"cpd00137_c0@2\", \"coefficient\": -1}, {\"bigg_id\": \"cpd00260_c0@2\", \"coefficient\": 1}], \"reversibility\": false, \"segments\": {\"413\": {\"b1\": null, \"b2\": null, \"from_node_id\": \"300\", \"to_node_id\": \"301\"}, \"414\": {\"b1\": null, \"b2\": null, \"from_node_id\": \"302\", \"to_node_id\": \"301\"}, \"415\": {\"b1\": {\"x\": 3127.117713592777, \"y\": 413.083854061048}, \"b2\": {\"x\": 3121.1179493087043, \"y\": 416.4483866779601}, \"from_node_id\": \"300\", \"to_node_id\": \"226\"}, \"416\": {\"b1\": {\"x\": 3817.620755471984, \"y\": 398.69302289614575}, \"b2\": {\"x\": 3821.9355094508765, \"y\": 404.7158132531995}, \"from_node_id\": \"302\", \"to_node_id\": \"232\"}}}, \"426\": {\"bigg_id\": \"rxn08094_c0@2\", \"name\": \"rxn08094\", \"gene_reaction_rule\": \"\", \"genes\": [], \"label_x\": 3219.4979791369688, \"label_y\": 1873.610183775549, \"metabolites\": [{\"bigg_id\": \"cpd00003_c0@2\", \"coefficient\": -1}, {\"bigg_id\": \"cpd00010_c0@2\", \"coefficient\": -1}, {\"bigg_id\": \"cpd00024_c0@2\", \"coefficient\": -1}, {\"bigg_id\": \"cpd00004_c0@2\", \"coefficient\": 1}, {\"bigg_id\": \"cpd00011_c0@2\", \"coefficient\": 1}, {\"bigg_id\": \"cpd00078_c0@2\", \"coefficient\": 1}], \"reversibility\": false, \"segments\": {\"418\": {\"b1\": null, \"b2\": null, \"from_node_id\": \"303\", \"to_node_id\": \"304\"}, \"419\": {\"b1\": null, \"b2\": null, \"from_node_id\": \"305\", \"to_node_id\": \"304\"}, \"420\": {\"b1\": {\"x\": 3354.466712008792, \"y\": 1835.1179403034084}, \"b2\": {\"x\": 3359.853471711125, \"y\": 1853.0774870657656}, \"from_node_id\": \"303\", \"to_node_id\": \"306\"}, \"421\": {\"b1\": {\"x\": 3354.466712008792, \"y\": 1835.1179403034084}, \"b2\": {\"x\": 3359.579648567229, \"y\": 1817.0785284574172}, \"from_node_id\": \"303\", \"to_node_id\": \"307\"}, \"422\": {\"b1\": {\"x\": 3350.4668277189753, \"y\": 1835.1483650971727}, \"b2\": {\"x\": 3818.7649693489075, \"y\": 1829.97847366333}, \"from_node_id\": \"303\", \"to_node_id\": \"271\"}, \"423\": {\"b1\": {\"x\": 3222.4705304448344, \"y\": 1836.1219584976861}, \"b2\": {\"x\": 3217.357593886397, \"y\": 1854.1613703436783}, \"from_node_id\": \"305\", \"to_node_id\": \"308\"}, \"424\": {\"b1\": {\"x\": 3222.4705304448344, \"y\": 1836.1219584976861}, \"b2\": {\"x\": 3217.0837707425007, \"y\": 1818.1624117353276}, \"from_node_id\": \"305\", \"to_node_id\": \"309\"}, \"425\": {\"b1\": {\"x\": 3226.470414734651, \"y\": 1836.0915337039191}, \"b2\": {\"x\": 2767.6360160364293, \"y\": 1816.1474805162466}, \"from_node_id\": \"305\", \"to_node_id\": \"257\"}}}}, \"text_labels\": {\"0\": {\"text\": \"TCA / Krebs / Citric Acid Cycle\", \"x\": 567.6733551025391, \"y\": 947.6220092773438}}}]'),\n",
       "               model_data: JSON.parse('null'),\n",
       "               static_site_index: JSON.parse('null'),\n",
       "           };\n",
       "       }\n",
       "   })();\n",
       "  </script>\n"
      ],
      "text/plain": [
       "<IPython.core.display.HTML object>"
      ]
     },
     "execution_count": 70,
     "metadata": {},
     "output_type": "execute_result"
    }
   ],
   "source": [
    "grid_map.display_in_notebook()"
   ]
  },
  {
   "cell_type": "code",
   "execution_count": null,
   "metadata": {},
   "outputs": [],
   "source": [
    "model_id = grid_block_data['model_id']"
   ]
  },
  {
   "cell_type": "code",
   "execution_count": 34,
   "metadata": {},
   "outputs": [
    {
     "data": {
      "text/plain": [
       "'37534/89/1'"
      ]
     },
     "execution_count": 34,
     "metadata": {},
     "output_type": "execute_result"
    }
   ],
   "source": [
    "grid_cell['model_id']"
   ]
  },
  {
   "cell_type": "code",
   "execution_count": 41,
   "metadata": {},
   "outputs": [],
   "source": []
  },
  {
   "cell_type": "code",
   "execution_count": 43,
   "metadata": {},
   "outputs": [
    {
     "data": {
      "text/plain": [
       "dict_keys(['layout', 'metadata'])"
      ]
     },
     "execution_count": 43,
     "metadata": {},
     "output_type": "execute_result"
    }
   ],
   "source": [
    "map_data.keys()"
   ]
  },
  {
   "cell_type": "code",
   "execution_count": 72,
   "metadata": {},
   "outputs": [],
   "source": [
    "map_data = escher_seed.get_map('ModelSEED', 'ModelSEED', 'FBA Checked TCA Cycle')"
   ]
  },
  {
   "cell_type": "code",
   "execution_count": 74,
   "metadata": {},
   "outputs": [],
   "source": [
    "with open('../data/html/data/map_model/base_map.json', 'w') as fh:\n",
    "    fh.write(json.dumps(map_data.escher_map))"
   ]
  },
  {
   "cell_type": "code",
   "execution_count": null,
   "metadata": {},
   "outputs": [],
   "source": [
    "ss"
   ]
  }
 ],
 "metadata": {
  "kernelspec": {
   "display_name": "Python 3",
   "language": "python",
   "name": "python3"
  },
  "language_info": {
   "codemirror_mode": {
    "name": "ipython",
    "version": 3
   },
   "file_extension": ".py",
   "mimetype": "text/x-python",
   "name": "python",
   "nbconvert_exporter": "python",
   "pygments_lexer": "ipython3",
   "version": "3.7.4"
  }
 },
 "nbformat": 4,
 "nbformat_minor": 4
}
