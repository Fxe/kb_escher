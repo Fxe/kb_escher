{
 "cells": [
  {
   "cell_type": "code",
   "execution_count": 45,
   "metadata": {},
   "outputs": [],
   "source": [
    "import json\n",
    "import math\n",
    "import escher\n",
    "import cobra\n",
    "import cobrakbase\n",
    "import modelseed_escher\n",
    "from cobrakbase.core import KBaseFBAModel\n",
    "from modelseed_escher.core import EscherMap"
   ]
  },
  {
   "cell_type": "code",
   "execution_count": 7,
   "metadata": {},
   "outputs": [],
   "source": [
    "%run ../lib/kb_escher/kb_escher_utils.py"
   ]
  },
  {
   "cell_type": "code",
   "execution_count": 1,
   "metadata": {},
   "outputs": [],
   "source": [
    "params = {\n",
    "    'workspace_id': 37534, \n",
    "    'column_size': '4', \n",
    "    'report_height': '800', \n",
    "    'workspace_name': 'filipeliu:narrative_1580723870549', \n",
    "    'grid_maps': [\n",
    "        {\n",
    "            'object_ids': ['37534/91/1'], \n",
    "            'map_id': 'custom', \n",
    "            'user_map_id': '37534/38/1', \n",
    "            'model_id': '37534/90/3'\n",
    "        }, \n",
    "        {\n",
    "            'object_ids': ['37534/92/1'], \n",
    "            'map_id': 'FBA Checked TCA Cycle', \n",
    "            'user_map_id': '37534/88/1', \n",
    "            'model_id': '37534/89/1'\n",
    "        }\n",
    "    ]\n",
    "}"
   ]
  },
  {
   "cell_type": "code",
   "execution_count": 35,
   "metadata": {},
   "outputs": [],
   "source": [
    "token = \"64XQ7SABQILQWSEW3CQKZXJA63DXZBGH\"\n",
    "api = cobrakbase.KBaseAPI(token, dev=True)"
   ]
  },
  {
   "cell_type": "code",
   "execution_count": 10,
   "metadata": {},
   "outputs": [],
   "source": []
  },
  {
   "cell_type": "code",
   "execution_count": 21,
   "metadata": {},
   "outputs": [],
   "source": [
    "escher_seed = modelseed_escher.EscherManager(escher)"
   ]
  },
  {
   "cell_type": "code",
   "execution_count": 51,
   "metadata": {},
   "outputs": [
    {
     "data": {
      "text/plain": [
       "(4, 1)"
      ]
     },
     "execution_count": 51,
     "metadata": {},
     "output_type": "execute_result"
    }
   ],
   "source": [
    "column_size = int(params['column_size'])\n",
    "grid_cells = len(params['grid_maps'])\n",
    "grid_size = (column_size, math.ceil(grid_cells / column_size))\n",
    "grid_size"
   ]
  },
  {
   "cell_type": "code",
   "execution_count": 48,
   "metadata": {},
   "outputs": [],
   "source": [
    "em_list = []\n",
    "for grid_cell in params['grid_maps']:\n",
    "    em = build_grid_cell(grid_cell, escher_seed, api)\n",
    "    em_list.append(em)"
   ]
  },
  {
   "cell_type": "code",
   "execution_count": 47,
   "metadata": {},
   "outputs": [],
   "source": [
    "def build_grid_cell(grid_cell, escher_seed, api):\n",
    "    em = None\n",
    "    if not grid_cell['map_id'] == 'custom':\n",
    "        em = escher_seed.get_map('ModelSEED', 'ModelSEED', grid_cell['map_id'])\n",
    "    else:\n",
    "        ref = api.get_object_info_from_ref(grid_cell['user_map_id'])\n",
    "        map_data = api.get_object(ref.id, ref.workspace_id)\n",
    "        em = modelseed_escher.core.EscherMap([map_data['metadata'], map_data['layout']])\n",
    "\n",
    "    cmp_id = 'c0' #should come from parameters\n",
    "    ref = api.get_object_info_from_ref(grid_cell['model_id'])\n",
    "    fbamodel = KBaseFBAModel(api.get_object(ref.id, ref.workspace_id))\n",
    "    alias = None\n",
    "    if alias == None:\n",
    "        alias = ref.id\n",
    "    em = adapt_map_to_model(em, cmp_id, alias, fbamodel)\n",
    "    return em"
   ]
  },
  {
   "cell_type": "code",
   "execution_count": 52,
   "metadata": {},
   "outputs": [],
   "source": [
    "grid = modelseed_escher.EscherGrid()\n",
    "grid_map = grid.build(em_list, grid_size)"
   ]
  },
  {
   "cell_type": "code",
   "execution_count": null,
   "metadata": {},
   "outputs": [],
   "source": []
  },
  {
   "cell_type": "code",
   "execution_count": null,
   "metadata": {},
   "outputs": [],
   "source": [
    "model_id = grid_block_data['model_id']"
   ]
  },
  {
   "cell_type": "code",
   "execution_count": 34,
   "metadata": {},
   "outputs": [
    {
     "data": {
      "text/plain": [
       "'37534/89/1'"
      ]
     },
     "execution_count": 34,
     "metadata": {},
     "output_type": "execute_result"
    }
   ],
   "source": [
    "grid_cell['model_id']"
   ]
  },
  {
   "cell_type": "code",
   "execution_count": 41,
   "metadata": {},
   "outputs": [],
   "source": []
  },
  {
   "cell_type": "code",
   "execution_count": 43,
   "metadata": {},
   "outputs": [
    {
     "data": {
      "text/plain": [
       "dict_keys(['layout', 'metadata'])"
      ]
     },
     "execution_count": 43,
     "metadata": {},
     "output_type": "execute_result"
    }
   ],
   "source": [
    "map_data.keys()"
   ]
  },
  {
   "cell_type": "code",
   "execution_count": 55,
   "metadata": {},
   "outputs": [
    {
     "data": {
      "text/plain": [
       "'/Users/fliu/Library/Caches/escher/1-0-0/5'"
      ]
     },
     "execution_count": 55,
     "metadata": {},
     "output_type": "execute_result"
    }
   ],
   "source": []
  },
  {
   "cell_type": "code",
   "execution_count": null,
   "metadata": {},
   "outputs": [],
   "source": []
  }
 ],
 "metadata": {
  "kernelspec": {
   "display_name": "Python 3",
   "language": "python",
   "name": "python3"
  },
  "language_info": {
   "codemirror_mode": {
    "name": "ipython",
    "version": 3
   },
   "file_extension": ".py",
   "mimetype": "text/x-python",
   "name": "python",
   "nbconvert_exporter": "python",
   "pygments_lexer": "ipython3",
   "version": "3.7.4"
  }
 },
 "nbformat": 4,
 "nbformat_minor": 4
}
