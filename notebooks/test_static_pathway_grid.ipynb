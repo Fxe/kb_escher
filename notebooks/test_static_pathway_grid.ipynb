{
 "cells": [
  {
   "cell_type": "code",
   "execution_count": 45,
   "metadata": {},
   "outputs": [],
   "source": [
    "import json\n",
    "import math\n",
    "import escher\n",
    "import cobra\n",
    "import cobrakbase\n",
    "import modelseed_escher\n",
    "from cobrakbase.core import KBaseFBAModel\n",
    "from modelseed_escher.core import EscherMap"
   ]
  },
  {
   "cell_type": "code",
   "execution_count": 7,
   "metadata": {},
   "outputs": [],
   "source": [
    "%run ../lib/kb_escher/kb_escher_utils.py"
   ]
  },
  {
   "cell_type": "code",
   "execution_count": 1,
   "metadata": {},
   "outputs": [],
   "source": [
    "params = {\n",
    "    'workspace_id': 37534, \n",
    "    'column_size': '4', \n",
    "    'report_height': '800', \n",
    "    'workspace_name': 'filipeliu:narrative_1580723870549', \n",
    "    'grid_maps': [\n",
    "        {\n",
    "            'object_ids': ['37534/91/1'], \n",
    "            'map_id': 'custom', \n",
    "            'user_map_id': '37534/38/1', \n",
    "            'model_id': '37534/90/3'\n",
    "        }, \n",
    "        {\n",
    "            'object_ids': ['37534/92/1'], \n",
    "            'map_id': 'FBA Checked TCA Cycle', \n",
    "            'user_map_id': '37534/88/1', \n",
    "            'model_id': '37534/89/1'\n",
    "        }\n",
    "    ]\n",
    "}"
   ]
  },
  {
   "cell_type": "code",
   "execution_count": 35,
   "metadata": {},
   "outputs": [],
   "source": [
    "token = \"64XQ7SABQILQWSEW3CQKZXJA63DXZBGH\"\n",
    "api = cobrakbase.KBaseAPI(token, dev=True)"
   ]
  },
  {
   "cell_type": "code",
   "execution_count": 10,
   "metadata": {},
   "outputs": [],
   "source": []
  },
  {
   "cell_type": "code",
   "execution_count": 21,
   "metadata": {},
   "outputs": [],
   "source": [
    "escher_seed = modelseed_escher.EscherManager(escher)"
   ]
  },
  {
   "cell_type": "code",
   "execution_count": 57,
   "metadata": {},
   "outputs": [
    {
     "data": {
      "text/plain": [
       "(4, 1)"
      ]
     },
     "execution_count": 57,
     "metadata": {},
     "output_type": "execute_result"
    }
   ],
   "source": [
    "column_size = int(params['column_size'])\n",
    "grid_cells = len(params['grid_maps'])\n",
    "grid_size = (column_size, math.ceil(grid_cells / column_size))\n",
    "grid_size"
   ]
  },
  {
   "cell_type": "code",
   "execution_count": 56,
   "metadata": {},
   "outputs": [],
   "source": []
  },
  {
   "cell_type": "code",
   "execution_count": 66,
   "metadata": {},
   "outputs": [],
   "source": [
    "em_list = []\n",
    "alias_index = 1\n",
    "maps_loaded = set()\n",
    "for grid_cell in params['grid_maps']:\n",
    "    maps_loaded.add(grid_cell['map_id'])\n",
    "    em = build_grid_cell(grid_cell, escher_seed, api, str(alias_index))\n",
    "    alias_index += 1\n",
    "    em_list.append(em)"
   ]
  },
  {
   "cell_type": "code",
   "execution_count": 68,
   "metadata": {},
   "outputs": [],
   "source": [
    "for em in em_list:\n",
    "    em"
   ]
  },
  {
   "cell_type": "code",
   "execution_count": 71,
   "metadata": {},
   "outputs": [
    {
     "data": {
      "text/plain": [
       "{'maps': [], 'x': 4, 'y': 1}"
      ]
     },
     "execution_count": 71,
     "metadata": {},
     "output_type": "execute_result"
    }
   ],
   "source": [
    "#current_grid_layout =  get_shadow_grid_layout(map_data[1].canvas, build_config);\n",
    "#draw_show_grid_layout(shadow_grid_layout, api);\n",
    "#\"iMM904;c;c;ModelSEED.Poly-beta-hydroxybutyrate Metabolism\"\n",
    "build_config = {\n",
    "    'maps' : [\n",
    "        'model;c;c;FBA Checked TCA Cycle.json'\n",
    "    ],\n",
    "    'x' : grid_size[0],\n",
    "    'y' : grid_size[1],\n",
    "}\n",
    "build_config"
   ]
  },
  {
   "cell_type": "code",
   "execution_count": null,
   "metadata": {},
   "outputs": [],
   "source": [
    "#build grid map\n",
    "#cached maps\n",
    "#cache shadow config\n",
    "#cache structures"
   ]
  },
  {
   "cell_type": "code",
   "execution_count": 63,
   "metadata": {},
   "outputs": [],
   "source": [
    "grid = modelseed_escher.EscherGrid()\n",
    "grid_map = grid.build(em_list, grid_size)"
   ]
  },
  {
   "cell_type": "code",
   "execution_count": null,
   "metadata": {},
   "outputs": [],
   "source": []
  },
  {
   "cell_type": "code",
   "execution_count": null,
   "metadata": {},
   "outputs": [],
   "source": [
    "model_id = grid_block_data['model_id']"
   ]
  },
  {
   "cell_type": "code",
   "execution_count": 34,
   "metadata": {},
   "outputs": [
    {
     "data": {
      "text/plain": [
       "'37534/89/1'"
      ]
     },
     "execution_count": 34,
     "metadata": {},
     "output_type": "execute_result"
    }
   ],
   "source": [
    "grid_cell['model_id']"
   ]
  },
  {
   "cell_type": "code",
   "execution_count": 41,
   "metadata": {},
   "outputs": [],
   "source": []
  },
  {
   "cell_type": "code",
   "execution_count": 43,
   "metadata": {},
   "outputs": [
    {
     "data": {
      "text/plain": [
       "dict_keys(['layout', 'metadata'])"
      ]
     },
     "execution_count": 43,
     "metadata": {},
     "output_type": "execute_result"
    }
   ],
   "source": [
    "map_data.keys()"
   ]
  },
  {
   "cell_type": "code",
   "execution_count": 72,
   "metadata": {},
   "outputs": [],
   "source": [
    "map_data = escher_seed.get_map('ModelSEED', 'ModelSEED', 'FBA Checked TCA Cycle')"
   ]
  },
  {
   "cell_type": "code",
   "execution_count": 74,
   "metadata": {},
   "outputs": [],
   "source": [
    "with open('../data/html/data/map_model/base_map.json', 'w') as fh:\n",
    "    fh.write(json.dumps(map_data.escher_map))"
   ]
  },
  {
   "cell_type": "code",
   "execution_count": 145,
   "metadata": {},
   "outputs": [],
   "source": [
    "params = {\n",
    "    'workspace_id': 37534, \n",
    "    'column_size': 1, \n",
    "    'report_height': 800, \n",
    "    'workspace_name': 'filipeliu:narrative_1580723870549', \n",
    "    'grid_maps': [\n",
    "        {\n",
    "            'object_ids': '37534/92/1', \n",
    "            'map_id': 'Pyrimidine Utilization', \n",
    "            'user_map_id': '37534/88/1', \n",
    "            'cpd_abundance_dataset': '', \n",
    "            'gene_expression': '37534/98/2', \n",
    "            'cpd_abundance': '37534/99/1', \n",
    "            'model_id': '37534/90/3', \n",
    "            'model_alias': 'BiGG', \n",
    "            'gene_expression_dataset': ''\n",
    "        }\n",
    "    ]\n",
    "}"
   ]
  },
  {
   "cell_type": "code",
   "execution_count": 185,
   "metadata": {},
   "outputs": [],
   "source": [
    "%run ../lib/kb_escher/kb_escher_app.py"
   ]
  },
  {
   "cell_type": "code",
   "execution_count": null,
   "metadata": {},
   "outputs": [],
   "source": []
  },
  {
   "cell_type": "code",
   "execution_count": null,
   "metadata": {},
   "outputs": [],
   "source": []
  },
  {
   "cell_type": "code",
   "execution_count": 182,
   "metadata": {},
   "outputs": [
    {
     "name": "stdout",
     "output_type": "stream",
     "text": [
      "{'object_ids': '37534/92/1', 'map_id': 'Pyrimidine Utilization', 'user_map_id': '37534/88/1', 'cpd_abundance_dataset': '', 'gene_expression': '37534/98/2', 'cpd_abundance': '37534/99/1', 'model_id': '37534/90/3', 'model_alias': 'BiGG', 'gene_expression_dataset': ''}\n"
     ]
    }
   ],
   "source": [
    "kb_escher = KBaseEscher(params, api, escher_seed)"
   ]
  },
  {
   "cell_type": "code",
   "execution_count": 183,
   "metadata": {},
   "outputs": [],
   "source": [
    "kb_escher.build()\n",
    "kb_escher.export('/Users/fliu/workspace/jupyter/python3/kbase/kb_escher/data/html/data/')"
   ]
  },
  {
   "cell_type": "code",
   "execution_count": 79,
   "metadata": {},
   "outputs": [],
   "source": [
    "em_list = []\n",
    "for grid_cell in params['grid_maps']:\n",
    "    em = build_grid_cell(grid_cell, escher_seed, api)\n",
    "    em_list.append(em)\n",
    "grid = modelseed_escher.EscherGrid()\n",
    "grid_map = grid.build(em_list, grid_size)"
   ]
  },
  {
   "cell_type": "code",
   "execution_count": 84,
   "metadata": {},
   "outputs": [],
   "source": [
    "def get_grid_cell_cpd_paint(grid_cell):\n",
    "    pass\n",
    "def get_grid_cell_rxn_paint(grid_cell):\n",
    "    pass\n",
    "def get_grid_cell_gene_paint(grid_cell):\n",
    "    pass"
   ]
  },
  {
   "cell_type": "code",
   "execution_count": null,
   "metadata": {},
   "outputs": [],
   "source": []
  },
  {
   "cell_type": "code",
   "execution_count": 139,
   "metadata": {},
   "outputs": [
    {
     "name": "stdout",
     "output_type": "stream",
     "text": [
      "{'object_ids': '37534/92/1', 'map_id': 'Pyrimidine Utilization', 'user_map_id': '37534/88/1', 'cpd_abundance_dataset': '', 'gene_expression': '37534/98/2', 'cpd_abundance': '37534/99/1', 'model_id': '37534/90/3', 'model_alias': 'BiGG', 'gene_expression_dataset': ''}\n"
     ]
    },
    {
     "data": {
      "text/plain": [
       "(1, 1)"
      ]
     },
     "execution_count": 139,
     "metadata": {},
     "output_type": "execute_result"
    }
   ],
   "source": [
    "\n",
    "        \n",
    "\n",
    "kb_escher.grid_size"
   ]
  },
  {
   "cell_type": "code",
   "execution_count": null,
   "metadata": {},
   "outputs": [],
   "source": []
  },
  {
   "cell_type": "code",
   "execution_count": 85,
   "metadata": {},
   "outputs": [],
   "source": [
    "get_grid_cell_cpd_paint(grid_cell)"
   ]
  },
  {
   "cell_type": "code",
   "execution_count": 86,
   "metadata": {},
   "outputs": [
    {
     "data": {
      "text/plain": [
       "{'object_ids': '37534/92/1',\n",
       " 'map_id': 'Pyrimidine Utilization',\n",
       " 'user_map_id': '37534/88/1',\n",
       " 'cpd_abundance_dataset': '',\n",
       " 'gene_expression': '37534/98/2',\n",
       " 'cpd_abundance': '37534/99/1',\n",
       " 'model_id': '37534/90/3',\n",
       " 'model_alias': 'BiGG',\n",
       " 'gene_expression_dataset': ''}"
      ]
     },
     "execution_count": 86,
     "metadata": {},
     "output_type": "execute_result"
    }
   ],
   "source": [
    "grid_cell"
   ]
  },
  {
   "cell_type": "code",
   "execution_count": 109,
   "metadata": {},
   "outputs": [],
   "source": [
    "data = {}\n",
    "grid_map_rxn_paint = {}\n",
    "grid_map_gene_paint = {}\n",
    "grid_map_cpd_paint = {}\n",
    "for grid_cell in params['grid_maps']:\n",
    "    alias = None\n",
    "    if 'object_ids' in grid_cell:\n",
    "        ref = api.get_object_info_from_ref(grid_cell['object_ids'])\n",
    "        object_data = api.get_object(ref.id, ref.workspace_id)\n",
    "        #data[grid_cell['object_ids']] = cobrakbase.core.KBaseFBA(object_data)\n",
    "        flux_dist = {}\n",
    "        for o in fba.data['FBAReactionVariables']:\n",
    "            rxn_id = o['modelreaction_ref'].split('/')[-1]\n",
    "            flux_dist[rxn_id] = o['value']\n",
    "        data[grid_cell['object_ids']] = flux_dist\n",
    "        #add alias\n",
    "        #merge with map\n",
    "        in_map = set()\n",
    "        print(len(in_map))\n",
    "        #save to "
   ]
  },
  {
   "cell_type": "code",
   "execution_count": 184,
   "metadata": {},
   "outputs": [],
   "source": [
    "params = {\n",
    "    'workspace_id': 37534, \n",
    "    'column_size': 2, \n",
    "    'report_height': 800, \n",
    "    'workspace_name': 'filipeliu:narrative_1580723870549', \n",
    "    'grid_maps': [\n",
    "        {\n",
    "            'object_ids': '37534/91/1', \n",
    "            'map_id': 'Pyrimidine Utilization', \n",
    "            'user_map_id': '37534/88/1', \n",
    "            'cpd_abundance_dataset': '', \n",
    "            'gene_expression': '37534/98/2', \n",
    "            'cpd_abundance': '37534/99/1', \n",
    "            'model_id': '37534/90/3', \n",
    "            'model_alias': '1', \n",
    "            'gene_expression_dataset': ''\n",
    "        }, \n",
    "        {\n",
    "            'object_ids': '37534/91/1', \n",
    "            'map_id': 'Serine Biosynthesis', \n",
    "            'user_map_id': '37534/88/1', \n",
    "            'cpd_abundance_dataset': '', \n",
    "            'gene_expression': '37534/98/2', \n",
    "            'cpd_abundance': '37534/99/1', \n",
    "            'model_id': '37534/90/3', \n",
    "            'model_alias': '1', \n",
    "            'gene_expression_dataset': ''\n",
    "        }, \n",
    "        {\n",
    "            'object_ids': '37534/92/1', \n",
    "            'map_id': 'Serine Biosynthesis', \n",
    "            'user_map_id': '37534/88/1', \n",
    "            'cpd_abundance_dataset': '', \n",
    "            'gene_expression': '37534/98/2',\n",
    "            'cpd_abundance': '37534/99/1', \n",
    "            'model_id': '37534/89/1', \n",
    "            'model_alias': '1', \n",
    "            'gene_expression_dataset': ''\n",
    "        }, \n",
    "        {\n",
    "            'object_ids': '37534/92/1', \n",
    "            'map_id': \n",
    "            'Pyrimidine Utilization', \n",
    "            'user_map_id': '37534/88/1', \n",
    "            'cpd_abundance_dataset': '', \n",
    "            'gene_expression': '37534/98/2', \n",
    "            'cpd_abundance': '37534/99/1', \n",
    "            'model_id': '37534/89/1', \n",
    "            'model_alias': '1', \n",
    "            'gene_expression_dataset': ''\n",
    "        }\n",
    "    ]\n",
    "}"
   ]
  },
  {
   "cell_type": "code",
   "execution_count": 186,
   "metadata": {},
   "outputs": [
    {
     "name": "stdout",
     "output_type": "stream",
     "text": [
      "{'object_ids': '37534/91/1', 'map_id': 'Pyrimidine Utilization', 'user_map_id': '37534/88/1', 'cpd_abundance_dataset': '', 'gene_expression': '37534/98/2', 'cpd_abundance': '37534/99/1', 'model_id': '37534/90/3', 'model_alias': '1', 'gene_expression_dataset': ''}\n",
      "{'object_ids': '37534/91/1', 'map_id': 'Serine Biosynthesis', 'user_map_id': '37534/88/1', 'cpd_abundance_dataset': '', 'gene_expression': '37534/98/2', 'cpd_abundance': '37534/99/1', 'model_id': '37534/90/3', 'model_alias': '1', 'gene_expression_dataset': ''}\n",
      "{'object_ids': '37534/92/1', 'map_id': 'Serine Biosynthesis', 'user_map_id': '37534/88/1', 'cpd_abundance_dataset': '', 'gene_expression': '37534/98/2', 'cpd_abundance': '37534/99/1', 'model_id': '37534/89/1', 'model_alias': '1', 'gene_expression_dataset': ''}\n",
      "{'object_ids': '37534/92/1', 'map_id': 'Pyrimidine Utilization', 'user_map_id': '37534/88/1', 'cpd_abundance_dataset': '', 'gene_expression': '37534/98/2', 'cpd_abundance': '37534/99/1', 'model_id': '37534/90/3', 'model_alias': '1', 'gene_expression_dataset': ''}\n"
     ]
    }
   ],
   "source": [
    "kb_escher = KBaseEscher(params, api, escher_seed)"
   ]
  },
  {
   "cell_type": "code",
   "execution_count": 188,
   "metadata": {},
   "outputs": [],
   "source": [
    "kb_escher.build()\n",
    "kb_escher.export('/Users/fliu/workspace/jupyter/python3/kbase/kb_escher/data/html/data/')"
   ]
  },
  {
   "cell_type": "code",
   "execution_count": null,
   "metadata": {},
   "outputs": [],
   "source": []
  }
 ],
 "metadata": {
  "kernelspec": {
   "display_name": "Python 3",
   "language": "python",
   "name": "python3"
  },
  "language_info": {
   "codemirror_mode": {
    "name": "ipython",
    "version": 3
   },
   "file_extension": ".py",
   "mimetype": "text/x-python",
   "name": "python",
   "nbconvert_exporter": "python",
   "pygments_lexer": "ipython3",
   "version": "3.7.4"
  }
 },
 "nbformat": 4,
 "nbformat_minor": 4
}
