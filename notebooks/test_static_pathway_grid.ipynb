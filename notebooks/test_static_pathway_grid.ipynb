{
 "cells": [
  {
   "cell_type": "code",
   "execution_count": 2,
   "metadata": {},
   "outputs": [
    {
     "name": "stdout",
     "output_type": "stream",
     "text": [
      "cobrakbase 0.2.3\n"
     ]
    }
   ],
   "source": [
    "import json\n",
    "import math\n",
    "import escher\n",
    "import cobra\n",
    "import cobrakbase\n",
    "import modelseed_escher\n",
    "from cobrakbase.core import KBaseFBAModel\n",
    "from modelseed_escher.core import EscherMap"
   ]
  },
  {
   "cell_type": "code",
   "execution_count": 3,
   "metadata": {},
   "outputs": [],
   "source": [
    "token = \"64XQ7SABQILQWSEW3CQKZXJA63DXZBGH\"\n",
    "api = cobrakbase.KBaseAPI(token, dev=True)"
   ]
  },
  {
   "cell_type": "code",
   "execution_count": 4,
   "metadata": {},
   "outputs": [],
   "source": [
    "escher_seed = modelseed_escher.EscherManager(escher)"
   ]
  },
  {
   "cell_type": "code",
   "execution_count": 5,
   "metadata": {},
   "outputs": [],
   "source": [
    "%run ../lib/kb_escher/kb_escher_utils.py"
   ]
  },
  {
   "cell_type": "code",
   "execution_count": 282,
   "metadata": {},
   "outputs": [],
   "source": [
    "o = None\n",
    "with open('Central carbon metabolism Yeast.json', 'r') as fh:\n",
    "    o = json.loads(fh.read())"
   ]
  },
  {
   "cell_type": "code",
   "execution_count": 291,
   "metadata": {},
   "outputs": [],
   "source": [
    "for uid, rxn_node in o[1]['reactions'].items():\n",
    "    if not 'gene_reaction_rule' in rxn_node:\n",
    "        rxn_node['gene_reaction_rule'] = ''\n",
    "    if 'genes' in rxn_node:\n",
    "        del rxn_node['genes']\n",
    "    if not 'genes' in rxn_node:\n",
    "        rxn_node['genes'] = []\n",
    "with open('Central carbon metabolism Yeast.json', 'w') as fh:\n",
    "    fh.write(json.dumps(o))"
   ]
  },
  {
   "cell_type": "code",
   "execution_count": null,
   "metadata": {},
   "outputs": [],
   "source": []
  },
  {
   "cell_type": "code",
   "execution_count": 1,
   "metadata": {},
   "outputs": [],
   "source": [
    "params = {\n",
    "    'workspace_id': 37534, \n",
    "    'column_size': '4', \n",
    "    'report_height': '800', \n",
    "    'workspace_name': 'filipeliu:narrative_1580723870549', \n",
    "    'grid_maps': [\n",
    "        {\n",
    "            'object_ids': ['37534/91/1'], \n",
    "            'map_id': 'custom', \n",
    "            'user_map_id': '37534/38/1', \n",
    "            'model_id': '37534/90/3'\n",
    "        }, \n",
    "        {\n",
    "            'object_ids': ['37534/92/1'], \n",
    "            'map_id': 'FBA Checked TCA Cycle', \n",
    "            'user_map_id': '37534/88/1', \n",
    "            'model_id': '37534/89/1'\n",
    "        }\n",
    "    ]\n",
    "}"
   ]
  },
  {
   "cell_type": "code",
   "execution_count": 10,
   "metadata": {},
   "outputs": [],
   "source": []
  },
  {
   "cell_type": "code",
   "execution_count": 57,
   "metadata": {},
   "outputs": [
    {
     "data": {
      "text/plain": [
       "(4, 1)"
      ]
     },
     "execution_count": 57,
     "metadata": {},
     "output_type": "execute_result"
    }
   ],
   "source": [
    "column_size = int(params['column_size'])\n",
    "grid_cells = len(params['grid_maps'])\n",
    "grid_size = (column_size, math.ceil(grid_cells / column_size))\n",
    "grid_size"
   ]
  },
  {
   "cell_type": "code",
   "execution_count": 56,
   "metadata": {},
   "outputs": [],
   "source": []
  },
  {
   "cell_type": "code",
   "execution_count": 66,
   "metadata": {},
   "outputs": [],
   "source": [
    "em_list = []\n",
    "alias_index = 1\n",
    "maps_loaded = set()\n",
    "for grid_cell in params['grid_maps']:\n",
    "    maps_loaded.add(grid_cell['map_id'])\n",
    "    em = build_grid_cell(grid_cell, escher_seed, api, str(alias_index))\n",
    "    alias_index += 1\n",
    "    em_list.append(em)"
   ]
  },
  {
   "cell_type": "code",
   "execution_count": 68,
   "metadata": {},
   "outputs": [],
   "source": [
    "for em in em_list:\n",
    "    em"
   ]
  },
  {
   "cell_type": "code",
   "execution_count": 71,
   "metadata": {},
   "outputs": [
    {
     "data": {
      "text/plain": [
       "{'maps': [], 'x': 4, 'y': 1}"
      ]
     },
     "execution_count": 71,
     "metadata": {},
     "output_type": "execute_result"
    }
   ],
   "source": [
    "#current_grid_layout =  get_shadow_grid_layout(map_data[1].canvas, build_config);\n",
    "#draw_show_grid_layout(shadow_grid_layout, api);\n",
    "#\"iMM904;c;c;ModelSEED.Poly-beta-hydroxybutyrate Metabolism\"\n",
    "build_config = {\n",
    "    'maps' : [\n",
    "        'model;c;c;FBA Checked TCA Cycle.json'\n",
    "    ],\n",
    "    'x' : grid_size[0],\n",
    "    'y' : grid_size[1],\n",
    "}\n",
    "build_config"
   ]
  },
  {
   "cell_type": "code",
   "execution_count": null,
   "metadata": {},
   "outputs": [],
   "source": [
    "#build grid map\n",
    "#cached maps\n",
    "#cache shadow config\n",
    "#cache structures"
   ]
  },
  {
   "cell_type": "code",
   "execution_count": 63,
   "metadata": {},
   "outputs": [],
   "source": [
    "grid = modelseed_escher.EscherGrid()\n",
    "grid_map = grid.build(em_list, grid_size)"
   ]
  },
  {
   "cell_type": "code",
   "execution_count": null,
   "metadata": {},
   "outputs": [],
   "source": []
  },
  {
   "cell_type": "code",
   "execution_count": null,
   "metadata": {},
   "outputs": [],
   "source": [
    "model_id = grid_block_data['model_id']"
   ]
  },
  {
   "cell_type": "code",
   "execution_count": 34,
   "metadata": {},
   "outputs": [
    {
     "data": {
      "text/plain": [
       "'37534/89/1'"
      ]
     },
     "execution_count": 34,
     "metadata": {},
     "output_type": "execute_result"
    }
   ],
   "source": [
    "grid_cell['model_id']"
   ]
  },
  {
   "cell_type": "code",
   "execution_count": 41,
   "metadata": {},
   "outputs": [],
   "source": []
  },
  {
   "cell_type": "code",
   "execution_count": 43,
   "metadata": {},
   "outputs": [
    {
     "data": {
      "text/plain": [
       "dict_keys(['layout', 'metadata'])"
      ]
     },
     "execution_count": 43,
     "metadata": {},
     "output_type": "execute_result"
    }
   ],
   "source": [
    "map_data.keys()"
   ]
  },
  {
   "cell_type": "code",
   "execution_count": 72,
   "metadata": {},
   "outputs": [],
   "source": [
    "map_data = escher_seed.get_map('ModelSEED', 'ModelSEED', 'FBA Checked TCA Cycle')"
   ]
  },
  {
   "cell_type": "code",
   "execution_count": 74,
   "metadata": {},
   "outputs": [],
   "source": [
    "with open('../data/html/data/map_model/base_map.json', 'w') as fh:\n",
    "    fh.write(json.dumps(map_data.escher_map))"
   ]
  },
  {
   "cell_type": "code",
   "execution_count": 145,
   "metadata": {},
   "outputs": [],
   "source": [
    "params = {\n",
    "    'workspace_id': 37534, \n",
    "    'column_size': 1, \n",
    "    'report_height': 800, \n",
    "    'workspace_name': 'filipeliu:narrative_1580723870549', \n",
    "    'grid_maps': [\n",
    "        {\n",
    "            'object_ids': '37534/92/1', \n",
    "            'map_id': 'Pyrimidine Utilization', \n",
    "            'user_map_id': '37534/88/1', \n",
    "            'cpd_abundance_dataset': '', \n",
    "            'gene_expression': '37534/98/2', \n",
    "            'cpd_abundance': '37534/99/1', \n",
    "            'model_id': '37534/90/3', \n",
    "            'model_alias': 'BiGG', \n",
    "            'gene_expression_dataset': ''\n",
    "        }\n",
    "    ]\n",
    "}"
   ]
  },
  {
   "cell_type": "code",
   "execution_count": 283,
   "metadata": {},
   "outputs": [],
   "source": [
    "%run ../lib/kb_escher/kb_escher_app.py"
   ]
  },
  {
   "cell_type": "code",
   "execution_count": 215,
   "metadata": {},
   "outputs": [
    {
     "data": {
      "text/plain": [
       "dict_keys(['37534/91/1', '37534/92/1'])"
      ]
     },
     "execution_count": 215,
     "metadata": {},
     "output_type": "execute_result"
    }
   ],
   "source": [
    "kb_escher.object_cache.keys()"
   ]
  },
  {
   "cell_type": "code",
   "execution_count": 216,
   "metadata": {},
   "outputs": [
    {
     "data": {
      "text/plain": [
       "{'map_list': False,\n",
       " 'menu': 'zoom',\n",
       " 'tooltip_component': None,\n",
       " 'default_rxn_data': None,\n",
       " 'default_cpd_data': None,\n",
       " 'default_gene_data': None}"
      ]
     },
     "execution_count": 216,
     "metadata": {},
     "output_type": "execute_result"
    }
   ],
   "source": [
    "kb_escher.viewer_config"
   ]
  },
  {
   "cell_type": "code",
   "execution_count": 282,
   "metadata": {},
   "outputs": [
    {
     "ename": "NameError",
     "evalue": "name 'em' is not defined",
     "output_type": "error",
     "traceback": [
      "\u001b[0;31m---------------------------------------------------------------------------\u001b[0m",
      "\u001b[0;31mNameError\u001b[0m                                 Traceback (most recent call last)",
      "\u001b[0;32m<ipython-input-282-0fcc5601f698>\u001b[0m in \u001b[0;36m<module>\u001b[0;34m\u001b[0m\n\u001b[0;32m----> 1\u001b[0;31m \u001b[0mkb_escher\u001b[0m\u001b[0;34m.\u001b[0m\u001b[0mbuild\u001b[0m\u001b[0;34m(\u001b[0m\u001b[0;34m)\u001b[0m\u001b[0;34m\u001b[0m\u001b[0;34m\u001b[0m\u001b[0m\n\u001b[0m",
      "\u001b[0;32m~/workspace/jupyter/python3/kbase/kb_escher/lib/kb_escher/kb_escher_app.py\u001b[0m in \u001b[0;36mbuild\u001b[0;34m(self)\u001b[0m\n\u001b[1;32m    124\u001b[0m                 \u001b[0mrxn_id\u001b[0m \u001b[0;34m=\u001b[0m \u001b[0mo\u001b[0m\u001b[0;34m[\u001b[0m\u001b[0;34m'modelreaction_ref'\u001b[0m\u001b[0;34m]\u001b[0m\u001b[0;34m.\u001b[0m\u001b[0msplit\u001b[0m\u001b[0;34m(\u001b[0m\u001b[0;34m'/'\u001b[0m\u001b[0;34m)\u001b[0m\u001b[0;34m[\u001b[0m\u001b[0;34m-\u001b[0m\u001b[0;36m1\u001b[0m\u001b[0;34m]\u001b[0m\u001b[0;34m\u001b[0m\u001b[0;34m\u001b[0m\u001b[0m\n\u001b[1;32m    125\u001b[0m                 \u001b[0mflux_dist\u001b[0m\u001b[0;34m[\u001b[0m\u001b[0mrxn_id\u001b[0m \u001b[0;34m+\u001b[0m \u001b[0;34m'@'\u001b[0m \u001b[0;34m+\u001b[0m \u001b[0mgrid_cell\u001b[0m\u001b[0;34m[\u001b[0m\u001b[0;34m'alias'\u001b[0m\u001b[0;34m]\u001b[0m\u001b[0;34m]\u001b[0m \u001b[0;34m=\u001b[0m \u001b[0mo\u001b[0m\u001b[0;34m[\u001b[0m\u001b[0;34m'value'\u001b[0m\u001b[0;34m]\u001b[0m\u001b[0;34m\u001b[0m\u001b[0;34m\u001b[0m\u001b[0m\n\u001b[0;32m--> 126\u001b[0;31m             \u001b[0mmap_rxn_ids\u001b[0m \u001b[0;34m=\u001b[0m \u001b[0mset\u001b[0m\u001b[0;34m(\u001b[0m\u001b[0mmap\u001b[0m\u001b[0;34m(\u001b[0m\u001b[0;32mlambda\u001b[0m \u001b[0mx\u001b[0m \u001b[0;34m:\u001b[0m \u001b[0mx\u001b[0m\u001b[0;34m[\u001b[0m\u001b[0;36m1\u001b[0m\u001b[0;34m]\u001b[0m\u001b[0;34m[\u001b[0m\u001b[0;34m'bigg_id'\u001b[0m\u001b[0;34m]\u001b[0m\u001b[0;34m,\u001b[0m \u001b[0mem_cell\u001b[0m\u001b[0;34m.\u001b[0m\u001b[0mescher_graph\u001b[0m\u001b[0;34m[\u001b[0m\u001b[0;34m'reactions'\u001b[0m\u001b[0;34m]\u001b[0m\u001b[0;34m.\u001b[0m\u001b[0mitems\u001b[0m\u001b[0;34m(\u001b[0m\u001b[0;34m)\u001b[0m\u001b[0;34m)\u001b[0m\u001b[0;34m)\u001b[0m\u001b[0;34m\u001b[0m\u001b[0;34m\u001b[0m\u001b[0m\n\u001b[0m\u001b[1;32m    127\u001b[0m             \u001b[0mf_dict\u001b[0m \u001b[0;34m=\u001b[0m \u001b[0mdict\u001b[0m\u001b[0;34m(\u001b[0m\u001b[0mfilter\u001b[0m\u001b[0;34m(\u001b[0m\u001b[0;32mlambda\u001b[0m \u001b[0mx\u001b[0m \u001b[0;34m:\u001b[0m \u001b[0mx\u001b[0m\u001b[0;34m[\u001b[0m\u001b[0;36m0\u001b[0m\u001b[0;34m]\u001b[0m \u001b[0;32min\u001b[0m \u001b[0mmap_rxn_ids\u001b[0m\u001b[0;34m,\u001b[0m \u001b[0mflux_dist\u001b[0m\u001b[0;34m.\u001b[0m\u001b[0mitems\u001b[0m\u001b[0;34m(\u001b[0m\u001b[0;34m)\u001b[0m\u001b[0;34m)\u001b[0m\u001b[0;34m)\u001b[0m\u001b[0;34m\u001b[0m\u001b[0;34m\u001b[0m\u001b[0m\n\u001b[1;32m    128\u001b[0m             \u001b[0;32mfor\u001b[0m \u001b[0mk\u001b[0m \u001b[0;32min\u001b[0m \u001b[0mf_dict\u001b[0m\u001b[0;34m:\u001b[0m\u001b[0;34m\u001b[0m\u001b[0;34m\u001b[0m\u001b[0m\n",
      "\u001b[0;31mNameError\u001b[0m: name 'em' is not defined"
     ]
    }
   ],
   "source": [
    "kb_escher.build()"
   ]
  },
  {
   "cell_type": "code",
   "execution_count": null,
   "metadata": {},
   "outputs": [],
   "source": []
  },
  {
   "cell_type": "code",
   "execution_count": null,
   "metadata": {},
   "outputs": [],
   "source": []
  },
  {
   "cell_type": "code",
   "execution_count": null,
   "metadata": {},
   "outputs": [],
   "source": []
  },
  {
   "cell_type": "code",
   "execution_count": null,
   "metadata": {},
   "outputs": [],
   "source": []
  },
  {
   "cell_type": "code",
   "execution_count": null,
   "metadata": {},
   "outputs": [],
   "source": []
  },
  {
   "cell_type": "code",
   "execution_count": 234,
   "metadata": {},
   "outputs": [
    {
     "name": "stdout",
     "output_type": "stream",
     "text": [
      "{'map_id': 'Pyrimidine Utilization', 'model_id': '37534/90/3', 'cmp': 'c0', 'alias': '0', 'rxn_data': '37534/91/1'}\n",
      "{'map_id': 'Serine Biosynthesis', 'model_id': '37534/90/3', 'cmp': 'c0', 'alias': 'I_have_alias', 'rxn_data': '37534/91/1'}\n",
      "{'map_id': 'Serine Biosynthesis', 'model_id': '37534/89/1', 'cmp': 'c0', 'alias': '2', 'rxn_data': '37534/92/1'}\n",
      "{'map_id': 'Pyrimidine Utilization', 'model_id': '37534/89/1', 'cmp': 'c0', 'alias': '3', 'rxn_data': '37534/92/1'}\n"
     ]
    }
   ],
   "source": [
    "for grid_cell in kb_escher.em_data:\n",
    "    if not grid_cell['rxn_data'] == None:\n",
    "        odata = kb_escher.object_cache[grid_cell['rxn_data']]\n",
    "        fba = cobrakbase.core.KBaseFBA(odata)\n",
    "        print(grid_cell)\n",
    "        #data[grid_cell['object_ids']] = cobrakbase.core.KBaseFBA(object_data)\n",
    "        \n",
    "\n",
    "        \n",
    "\n",
    "        for k in f_dict:\n",
    "            "
   ]
  },
  {
   "cell_type": "code",
   "execution_count": 220,
   "metadata": {},
   "outputs": [
    {
     "name": "stdout",
     "output_type": "stream",
     "text": [
      "{'object_ids': '37534/91/1', 'map_id': 'Pyrimidine Utilization', 'user_map_id': '37534/88/1', 'cpd_abundance_dataset': '', 'gene_expression': '37534/98/2', 'cpd_abundance': '37534/99/1', 'model_id': '37534/90/3', 'model_alias': '', 'gene_expression_dataset': ''}\n",
      "{'object_ids': '37534/91/1', 'map_id': 'Serine Biosynthesis', 'user_map_id': '37534/88/1', 'cpd_abundance_dataset': '', 'gene_expression': '37534/98/2', 'cpd_abundance': '37534/99/1', 'model_id': '37534/90/3', 'model_alias': 'I_have_alias', 'gene_expression_dataset': ''}\n",
      "{'object_ids': '37534/92/1', 'map_id': 'Serine Biosynthesis', 'user_map_id': '37534/88/1', 'cpd_abundance_dataset': '', 'gene_expression': '37534/98/2', 'cpd_abundance': '37534/99/1', 'model_id': '37534/89/1', 'model_alias': '', 'gene_expression_dataset': ''}\n",
      "{'object_ids': '37534/92/1', 'map_id': 'Pyrimidine Utilization', 'user_map_id': '37534/88/1', 'cpd_abundance_dataset': '', 'gene_expression': '37534/98/2', 'cpd_abundance': '37534/99/1', 'model_id': '37534/89/1', 'model_alias': '', 'gene_expression_dataset': ''}\n"
     ]
    }
   ],
   "source": []
  },
  {
   "cell_type": "code",
   "execution_count": 208,
   "metadata": {},
   "outputs": [],
   "source": [
    "kb_escher.build()\n",
    "kb_escher.export('/Users/fliu/workspace/jupyter/python3/kbase/kb_escher/data/html/data/')"
   ]
  },
  {
   "cell_type": "code",
   "execution_count": 79,
   "metadata": {},
   "outputs": [],
   "source": [
    "em_list = []\n",
    "for grid_cell in params['grid_maps']:\n",
    "    em = build_grid_cell(grid_cell, escher_seed, api)\n",
    "    em_list.append(em)\n",
    "grid = modelseed_escher.EscherGrid()\n",
    "grid_map = grid.build(em_list, grid_size)"
   ]
  },
  {
   "cell_type": "code",
   "execution_count": 84,
   "metadata": {},
   "outputs": [],
   "source": [
    "def get_grid_cell_cpd_paint(grid_cell):\n",
    "    pass\n",
    "def get_grid_cell_rxn_paint(grid_cell):\n",
    "    pass\n",
    "def get_grid_cell_gene_paint(grid_cell):\n",
    "    pass"
   ]
  },
  {
   "cell_type": "code",
   "execution_count": null,
   "metadata": {},
   "outputs": [],
   "source": []
  },
  {
   "cell_type": "code",
   "execution_count": 139,
   "metadata": {},
   "outputs": [
    {
     "name": "stdout",
     "output_type": "stream",
     "text": [
      "{'object_ids': '37534/92/1', 'map_id': 'Pyrimidine Utilization', 'user_map_id': '37534/88/1', 'cpd_abundance_dataset': '', 'gene_expression': '37534/98/2', 'cpd_abundance': '37534/99/1', 'model_id': '37534/90/3', 'model_alias': 'BiGG', 'gene_expression_dataset': ''}\n"
     ]
    },
    {
     "data": {
      "text/plain": [
       "(1, 1)"
      ]
     },
     "execution_count": 139,
     "metadata": {},
     "output_type": "execute_result"
    }
   ],
   "source": [
    "\n",
    "        \n",
    "\n",
    "kb_escher.grid_size"
   ]
  },
  {
   "cell_type": "code",
   "execution_count": null,
   "metadata": {},
   "outputs": [],
   "source": []
  },
  {
   "cell_type": "code",
   "execution_count": 85,
   "metadata": {},
   "outputs": [],
   "source": [
    "get_grid_cell_cpd_paint(grid_cell)"
   ]
  },
  {
   "cell_type": "code",
   "execution_count": 211,
   "metadata": {},
   "outputs": [
    {
     "name": "stdout",
     "output_type": "stream",
     "text": [
      "{'object_ids': '37534/91/1', 'map_id': 'Pyrimidine Utilization', 'user_map_id': '37534/88/1', 'cpd_abundance_dataset': '', 'gene_expression': '37534/98/2', 'cpd_abundance': '37534/99/1', 'model_id': '37534/90/3', 'model_alias': '', 'gene_expression_dataset': ''}\n",
      "{'object_ids': '37534/91/1', 'map_id': 'Serine Biosynthesis', 'user_map_id': '37534/88/1', 'cpd_abundance_dataset': '', 'gene_expression': '37534/98/2', 'cpd_abundance': '37534/99/1', 'model_id': '37534/90/3', 'model_alias': 'I_have_alias', 'gene_expression_dataset': ''}\n",
      "{'object_ids': '37534/92/1', 'map_id': 'Serine Biosynthesis', 'user_map_id': '37534/88/1', 'cpd_abundance_dataset': '', 'gene_expression': '37534/98/2', 'cpd_abundance': '37534/99/1', 'model_id': '37534/89/1', 'model_alias': '', 'gene_expression_dataset': ''}\n",
      "{'object_ids': '37534/92/1', 'map_id': 'Pyrimidine Utilization', 'user_map_id': '37534/88/1', 'cpd_abundance_dataset': '', 'gene_expression': '37534/98/2', 'cpd_abundance': '37534/99/1', 'model_id': '37534/89/1', 'model_alias': '', 'gene_expression_dataset': ''}\n"
     ]
    }
   ],
   "source": [
    "for grid_cell in params['grid_maps']:\n",
    "    if 'object_ids' in grid_cell:\n",
    "        \n",
    "        print(grid_cell)"
   ]
  },
  {
   "cell_type": "code",
   "execution_count": 109,
   "metadata": {},
   "outputs": [],
   "source": [
    "data = {}\n",
    "grid_map_rxn_paint = {}\n",
    "grid_map_gene_paint = {}\n",
    "grid_map_cpd_paint = {}\n",
    "for grid_cell in params['grid_maps']:\n",
    "    alias = None\n",
    "    if 'object_ids' in grid_cell:\n",
    "        ref = api.get_object_info_from_ref(grid_cell['object_ids'])\n",
    "        object_data = api.get_object(ref.id, ref.workspace_id)\n",
    "        #data[grid_cell['object_ids']] = cobrakbase.core.KBaseFBA(object_data)\n",
    "        flux_dist = {}\n",
    "        for o in fba.data['FBAReactionVariables']:\n",
    "            rxn_id = o['modelreaction_ref'].split('/')[-1]\n",
    "            flux_dist[rxn_id] = o['value']\n",
    "        data[grid_cell['object_ids']] = flux_dist\n",
    "        #add alias\n",
    "        #merge with map\n",
    "        in_map = set()\n",
    "        print(len(in_map))\n",
    "        #save to "
   ]
  },
  {
   "cell_type": "code",
   "execution_count": 276,
   "metadata": {},
   "outputs": [],
   "source": [
    "params = {\n",
    "    'workspace_id': 37534, \n",
    "    'column_size': 2, \n",
    "    'report_height': 800, \n",
    "    'workspace_name': 'filipeliu:narrative_1580723870549', \n",
    "    'grid_maps': [\n",
    "        {\n",
    "            'object_ids': '37534/91/1', \n",
    "            'map_id': 'Pyrimidine Utilization', \n",
    "            'user_map_id': '37534/88/1', \n",
    "            'cpd_abundance_dataset': '', \n",
    "            'gene_expression': '37534/98/2', \n",
    "            'cpd_abundance': '37534/99/1', \n",
    "            'model_id': '37534/90/3', \n",
    "            'model_alias': '', \n",
    "            'gene_expression_dataset': ''\n",
    "        }, \n",
    "        {\n",
    "            'object_ids': '37534/91/1', \n",
    "            'map_id': 'Serine Biosynthesis', \n",
    "            'user_map_id': '37534/88/1', \n",
    "            'cpd_abundance_dataset': '', \n",
    "            'gene_expression': '37534/98/2', \n",
    "            'cpd_abundance': '37534/99/1', \n",
    "            'model_id': '37534/90/3', \n",
    "            'model_alias': 'cpd', \n",
    "            'gene_expression_dataset': ''\n",
    "        }, \n",
    "        {\n",
    "            'object_ids': '37534/92/1', \n",
    "            'map_id': 'Serine Biosynthesis', \n",
    "            'user_map_id': '37534/88/1', \n",
    "            'cpd_abundance_dataset': '', \n",
    "            'gene_expression': '37534/98/2',\n",
    "            'cpd_abundance': '37534/99/1', \n",
    "            'model_id': '37534/89/1', \n",
    "            'model_alias': '', \n",
    "            'gene_expression_dataset': ''\n",
    "        }, \n",
    "        {\n",
    "            'object_ids': '37534/92/1', \n",
    "            'map_id': \n",
    "            'Pyrimidine Utilization', \n",
    "            'user_map_id': '37534/88/1', \n",
    "            'cpd_abundance_dataset': '', \n",
    "            'gene_expression': '37534/98/2', \n",
    "            'cpd_abundance': '37534/99/1', \n",
    "            'model_id': '37534/89/1', \n",
    "            'model_alias': '', \n",
    "            'gene_expression_dataset': ''\n",
    "        }\n",
    "    ]\n",
    "}"
   ]
  },
  {
   "cell_type": "code",
   "execution_count": 284,
   "metadata": {},
   "outputs": [
    {
     "name": "stdout",
     "output_type": "stream",
     "text": [
      "{'object_ids': '37534/91/1', 'map_id': 'Pyrimidine Utilization', 'user_map_id': '37534/88/1', 'cpd_abundance_dataset': '', 'gene_expression': '37534/98/2', 'cpd_abundance': '37534/99/1', 'model_id': '37534/90/3', 'model_alias': '', 'gene_expression_dataset': ''}\n",
      "{'object_ids': '37534/91/1', 'map_id': 'Serine Biosynthesis', 'user_map_id': '37534/88/1', 'cpd_abundance_dataset': '', 'gene_expression': '37534/98/2', 'cpd_abundance': '37534/99/1', 'model_id': '37534/90/3', 'model_alias': 'I_have_alias', 'gene_expression_dataset': ''}\n",
      "{'object_ids': '37534/92/1', 'map_id': 'Serine Biosynthesis', 'user_map_id': '37534/88/1', 'cpd_abundance_dataset': '', 'gene_expression': '37534/98/2', 'cpd_abundance': '37534/99/1', 'model_id': '37534/89/1', 'model_alias': '', 'gene_expression_dataset': ''}\n",
      "{'object_ids': '37534/92/1', 'map_id': 'Pyrimidine Utilization', 'user_map_id': '37534/88/1', 'cpd_abundance_dataset': '', 'gene_expression': '37534/98/2', 'cpd_abundance': '37534/99/1', 'model_id': '37534/89/1', 'model_alias': '', 'gene_expression_dataset': ''}\n"
     ]
    }
   ],
   "source": [
    "kb_escher = KBaseEscher(params, api, escher_seed)"
   ]
  },
  {
   "cell_type": "code",
   "execution_count": 285,
   "metadata": {},
   "outputs": [],
   "source": [
    "kb_escher.build()\n",
    "kb_escher.export('/Users/fliu/workspace/jupyter/python3/kbase/kb_escher/data/html/data/')"
   ]
  },
  {
   "cell_type": "code",
   "execution_count": 292,
   "metadata": {},
   "outputs": [],
   "source": []
  },
  {
   "cell_type": "code",
   "execution_count": 288,
   "metadata": {},
   "outputs": [
    {
     "data": {
      "text/plain": [
       "[{'map_id': 'Pyrimidine Utilization',\n",
       "  'model_id': '37534/90/3',\n",
       "  'cmp': 'c0',\n",
       "  'alias': '0',\n",
       "  'rxn_data': '37534/91/1'},\n",
       " {'map_id': 'Serine Biosynthesis',\n",
       "  'model_id': '37534/90/3',\n",
       "  'cmp': 'c0',\n",
       "  'alias': 'I_have_alias',\n",
       "  'rxn_data': '37534/91/1'},\n",
       " {'map_id': 'Serine Biosynthesis',\n",
       "  'model_id': '37534/89/1',\n",
       "  'cmp': 'c0',\n",
       "  'alias': '2',\n",
       "  'rxn_data': '37534/92/1'},\n",
       " {'map_id': 'Pyrimidine Utilization',\n",
       "  'model_id': '37534/89/1',\n",
       "  'cmp': 'c0',\n",
       "  'alias': '3',\n",
       "  'rxn_data': '37534/92/1'}]"
      ]
     },
     "execution_count": 288,
     "metadata": {},
     "output_type": "execute_result"
    }
   ],
   "source": [
    "kb_escher.em_data"
   ]
  },
  {
   "cell_type": "code",
   "execution_count": 51,
   "metadata": {},
   "outputs": [],
   "source": [
    "params = {\n",
    "        \"column_size\": 2,\n",
    "        \"report_height\": 800,\n",
    "        \"grid_maps\": [{\n",
    "            \"map_id\": \"NAD(P) Biosynthesis\",\n",
    "            \"user_map_id\": \"37534/88/1\",\n",
    "            \"model_id\": \"37534/90/3\",\n",
    "            \"model_compartment_id\": \"c0\",\n",
    "            \"model_alias\": \"cpd\",\n",
    "            \"object_ids\": \"\",\n",
    "            \"cpd_abundance\": \"37534/99/1\",\n",
    "            \"cpd_abundance_dataset\": \"\",\n",
    "            \"gene_expression\": \"37534/98/2\",\n",
    "            \"gene_expression_dataset\": \"\"\n",
    "        }, {\n",
    "            \"map_id\": \"NAD(P) Biosynthesis\",\n",
    "            \"user_map_id\": \"37534/88/1\",\n",
    "            \"model_id\": \"37534/89/1\",\n",
    "            \"model_compartment_id\": \"c0\",\n",
    "            \"model_alias\": \"\",\n",
    "            \"object_ids\": \"\",\n",
    "            \"cpd_abundance\": \"37534/99/1\",\n",
    "            \"cpd_abundance_dataset\": \"\",\n",
    "            \"gene_expression\": \"37534/98/2\",\n",
    "            \"gene_expression_dataset\": \"\"\n",
    "        }]\n",
    "    }"
   ]
  },
  {
   "cell_type": "code",
   "execution_count": 274,
   "metadata": {},
   "outputs": [],
   "source": [
    "params = {\n",
    "        \"column_size\": 2,\n",
    "        \"report_height\": 800,\n",
    "        \"grid_maps\": [{\n",
    "            \"map_id\": \"Pyrimidine Utilization\",\n",
    "            \"user_map_id\": \"37534/88/1\",\n",
    "            \"model_id\": \"37534/90/3\",\n",
    "            \"model_compartment_id\": \"c0\",\n",
    "            \"model_alias\": \"\",\n",
    "            \"object_ids\": \"37534/91/1\",\n",
    "            \"cpd_abundance\": \"37534/99/1\",\n",
    "            \"cpd_abundance_dataset\": \"\",\n",
    "            \"gene_expression\": \"37534/98/2\",\n",
    "            \"gene_expression_dataset\": \"\"\n",
    "        }, {\n",
    "            \"map_id\": \"NAD(P) Biosynthesis\",\n",
    "            \"user_map_id\": \"37534/88/1\",\n",
    "            \"model_id\": \"37534/90/3\",\n",
    "            \"model_compartment_id\": \"c0\",\n",
    "            \"model_alias\": \"cpd\",\n",
    "            \"object_ids\": \"37534/92/1\",\n",
    "            \"cpd_abundance\": \"37534/99/1\",\n",
    "            \"cpd_abundance_dataset\": \"R2A_Pseudomonas_GW456-L15\",\n",
    "            \"gene_expression\": \"37534/98/2\",\n",
    "            \"gene_expression_dataset\": \"\"\n",
    "        }, {\n",
    "            \"map_id\": \"NAD(P) Biosynthesis\",\n",
    "            \"user_map_id\": \"37534/88/1\",\n",
    "            \"model_id\": \"37534/89/1\",\n",
    "            \"model_compartment_id\": \"c0\",\n",
    "            \"model_alias\": \"\",\n",
    "            \"object_ids\": \"37534/92/1\",\n",
    "            \"cpd_abundance\": \"37534/99/1\",\n",
    "            \"cpd_abundance_dataset\": \"\",\n",
    "            \"gene_expression\": \"37534/98/2\",\n",
    "            \"gene_expression_dataset\": \"\"\n",
    "        }, {\n",
    "            \"map_id\": \"Pyrimidine Utilization\",\n",
    "            \"user_map_id\": \"37534/88/1\",\n",
    "            \"model_id\": \"37534/89/1\",\n",
    "            \"model_compartment_id\": \"c0\",\n",
    "            \"model_alias\": \"\",\n",
    "            \"object_ids\": \"37534/92/1\",\n",
    "            \"cpd_abundance\": \"37534/99/1\",\n",
    "            \"cpd_abundance_dataset\": \"\",\n",
    "            \"gene_expression\": \"37534/98/2\",\n",
    "            \"gene_expression_dataset\": \"20A_sequence\"\n",
    "        }]\n",
    "    }"
   ]
  },
  {
   "cell_type": "code",
   "execution_count": null,
   "metadata": {},
   "outputs": [],
   "source": []
  },
  {
   "cell_type": "code",
   "execution_count": 279,
   "metadata": {},
   "outputs": [],
   "source": [
    "%run ../lib/kb_escher/kb_escher_app.py"
   ]
  },
  {
   "cell_type": "code",
   "execution_count": 280,
   "metadata": {},
   "outputs": [
    {
     "name": "stdout",
     "output_type": "stream",
     "text": [
      "{'map_id': 'Pyrimidine Utilization', 'user_map_id': '37534/88/1', 'model_id': '37534/90/3', 'model_compartment_id': 'c0', 'model_alias': '', 'object_ids': '37534/91/1', 'cpd_abundance': '37534/99/1', 'cpd_abundance_dataset': '', 'gene_expression': '37534/98/2', 'gene_expression_dataset': ''}\n",
      "{'map_id': 'NAD(P) Biosynthesis', 'user_map_id': '37534/88/1', 'model_id': '37534/90/3', 'model_compartment_id': 'c0', 'model_alias': 'cpd', 'object_ids': '37534/92/1', 'cpd_abundance': '37534/99/1', 'cpd_abundance_dataset': 'R2A_Pseudomonas_GW456-L15', 'gene_expression': '37534/98/2', 'gene_expression_dataset': ''}\n",
      "{'map_id': 'NAD(P) Biosynthesis', 'user_map_id': '37534/88/1', 'model_id': '37534/89/1', 'model_compartment_id': 'c0', 'model_alias': '', 'object_ids': '37534/92/1', 'cpd_abundance': '37534/99/1', 'cpd_abundance_dataset': '', 'gene_expression': '37534/98/2', 'gene_expression_dataset': ''}\n",
      "{'map_id': 'Pyrimidine Utilization', 'user_map_id': '37534/88/1', 'model_id': '37534/89/1', 'model_compartment_id': 'c0', 'model_alias': '', 'object_ids': '37534/92/1', 'cpd_abundance': '37534/99/1', 'cpd_abundance_dataset': '', 'gene_expression': '37534/98/2', 'gene_expression_dataset': '20A_sequence'}\n"
     ]
    }
   ],
   "source": [
    "kb_escher = KBaseEscher(params, api, escher_seed)\n",
    "kb_escher.build()\n",
    "kb_escher.export('/Users/fliu/workspace/jupyter/python3/kbase/kb_escher/data/html/data/')"
   ]
  },
  {
   "cell_type": "code",
   "execution_count": 278,
   "metadata": {},
   "outputs": [],
   "source": [
    "if 0:\n",
    "    print('lol')"
   ]
  },
  {
   "cell_type": "code",
   "execution_count": 263,
   "metadata": {},
   "outputs": [],
   "source": [
    "gene_mat = kb_escher.object_cache['37534/98/2']"
   ]
  },
  {
   "cell_type": "code",
   "execution_count": 265,
   "metadata": {},
   "outputs": [],
   "source": [
    "gene_data = kb_escher.get_expression_data(gene_mat, 'model3_20A_sequence')"
   ]
  },
  {
   "cell_type": "code",
   "execution_count": 266,
   "metadata": {},
   "outputs": [],
   "source": [
    "gene_data"
   ]
  },
  {
   "cell_type": "code",
   "execution_count": 269,
   "metadata": {},
   "outputs": [
    {
     "data": {
      "text/plain": [
       "['40c_sequence_Latest',\n",
       " '60c_sequence_Latest',\n",
       " 'A5_sequence_Latest',\n",
       " 'DARK_sequence_Latest',\n",
       " 'F5_sequence_Latest',\n",
       " 'G5_sequence_Latest',\n",
       " 'L5_sequence_Latest',\n",
       " 'MV5F_sequence_Latest',\n",
       " 'MV5_sequence_Latest',\n",
       " 'Na250_sequence_Latest',\n",
       " 'Na50_sequence_Latest',\n",
       " 'NF_sequence_Latest',\n",
       " 'NH4_sequence_Latest',\n",
       " 'NN_sequence_Latest',\n",
       " 'NS_sequence_Latest',\n",
       " 'NU_sequence_Latest',\n",
       " 'pH6_sequence_Latest',\n",
       " 'pH9_sequence_Latest',\n",
       " 'STAT_sequence_Latest',\n",
       " 'S_sequence_Latest',\n",
       " '13A_sequence',\n",
       " '13B_sequence',\n",
       " '14A_sequence',\n",
       " '14B_sequence',\n",
       " '18-2-B_sequence',\n",
       " '19-A_sequence',\n",
       " '19B_sequence',\n",
       " '20A_sequence',\n",
       " '20B_sequence',\n",
       " 'average']"
      ]
     },
     "execution_count": 269,
     "metadata": {},
     "output_type": "execute_result"
    }
   ],
   "source": [
    "gene_mat['data']['col_ids']"
   ]
  },
  {
   "cell_type": "code",
   "execution_count": 12,
   "metadata": {},
   "outputs": [
    {
     "data": {
      "text/plain": [
       "dict_keys(['37534/91/1', '37534/92/1', '37534/99/1', '8248/232/1'])"
      ]
     },
     "execution_count": 12,
     "metadata": {},
     "output_type": "execute_result"
    }
   ],
   "source": [
    "kb_escher.object_cache.keys()"
   ]
  },
  {
   "cell_type": "code",
   "execution_count": 191,
   "metadata": {},
   "outputs": [],
   "source": [
    "params = {\n",
    "        \"column_size\": 1,\n",
    "        \"report_height\": 800,\n",
    "        \"grid_maps\": [{\n",
    "            \"map_id\": \"NAD(P) Biosynthesis\",\n",
    "            \"user_map_id\": \"37534/88/1\",\n",
    "            \"model_id\": \"37534/90/3\",\n",
    "            \"model_compartment_id\": \"c0\",\n",
    "            \"model_alias\": \"cpd\",\n",
    "            \"object_ids\": \"\",\n",
    "            \"cpd_abundance\": \"37534/99/1\",\n",
    "            \"cpd_abundance_dataset\": \"\",\n",
    "            \"gene_expression\": \"37534/98/2\",\n",
    "            \"gene_expression_dataset\": \"\"\n",
    "        },\n",
    "            {\n",
    "            \"map_id\": \"NAD(P) Biosynthesis\",\n",
    "            \"user_map_id\": \"37534/88/1\",\n",
    "            \"model_id\": \"37534/90/3\",\n",
    "            \"model_compartment_id\": \"c0\",\n",
    "            \"model_alias\": \"\",\n",
    "            \"object_ids\": \"\",\n",
    "            \"cpd_abundance\": \"37534/99/1\",\n",
    "            \"cpd_abundance_dataset\": \"\",\n",
    "            \"gene_expression\": \"37534/98/2\",\n",
    "            \"gene_expression_dataset\": \"\"\n",
    "        }\n",
    "        ]\n",
    "    }"
   ]
  },
  {
   "cell_type": "code",
   "execution_count": 231,
   "metadata": {},
   "outputs": [
    {
     "name": "stdout",
     "output_type": "stream",
     "text": [
      "{'map_id': 'NAD(P) Biosynthesis', 'user_map_id': '37534/88/1', 'model_id': '37534/90/3', 'model_compartment_id': 'c0', 'model_alias': 'cpd', 'object_ids': '', 'cpd_abundance': '37534/99/1', 'cpd_abundance_dataset': '', 'gene_expression': '37534/98/2', 'gene_expression_dataset': ''}\n",
      "{'map_id': 'NAD(P) Biosynthesis', 'user_map_id': '37534/88/1', 'model_id': '37534/90/3', 'model_compartment_id': 'c0', 'model_alias': '', 'object_ids': '', 'cpd_abundance': '37534/99/1', 'cpd_abundance_dataset': '', 'gene_expression': '37534/98/2', 'gene_expression_dataset': ''}\n",
      "rxn00338_c0 [{'b2574@cpd'}]\n",
      "rxn00138_c0 [{'b1740@cpd'}]\n",
      "rxn02402_c0 [{'b0109@cpd'}]\n",
      "rxn02155_c0 [{'b0639@cpd'}]\n",
      "rxn00938_c0 [{'b1768@cpd'}]\n",
      "rxn00105_c0 [{'b0639@cpd', 'b4390@cpd'}]\n",
      "rxn00077_c0 [{'b2615@cpd'}]\n",
      "rxn00338_c0 [{'b2574@1'}]\n",
      "rxn00138_c0 [{'b1740@1'}]\n",
      "rxn02402_c0 [{'b0109@1'}]\n",
      "rxn02155_c0 [{'b0639@1'}]\n",
      "rxn00938_c0 [{'b1768@1'}]\n",
      "rxn00105_c0 [{'b0639@1', 'b4390@1'}]\n",
      "rxn00077_c0 [{'b2615@1'}]\n"
     ]
    }
   ],
   "source": [
    "%run ../lib/kb_escher/kb_escher_app.py\n",
    "kb_escher = KBaseEscher(params, api, escher_seed)\n",
    "kb_escher.build()\n",
    "kb_escher.export('/Users/fliu/workspace/jupyter/python3/kbase/kb_escher/data/html/data/')"
   ]
  },
  {
   "cell_type": "code",
   "execution_count": 232,
   "metadata": {},
   "outputs": [
    {
     "data": {
      "text/plain": [
       "[{'map_id': 'NAD(P) Biosynthesis',\n",
       "  'model_id': '37534/90/3',\n",
       "  'cmp': 'c0',\n",
       "  'alias': 'cpd',\n",
       "  'rxn_data': '',\n",
       "  'cpd_data': None,\n",
       "  'gene_data': None},\n",
       " {'map_id': 'NAD(P) Biosynthesis',\n",
       "  'model_id': '37534/90/3',\n",
       "  'cmp': 'c0',\n",
       "  'alias': '1',\n",
       "  'rxn_data': '',\n",
       "  'cpd_data': None,\n",
       "  'gene_data': None}]"
      ]
     },
     "execution_count": 232,
     "metadata": {},
     "output_type": "execute_result"
    }
   ],
   "source": [
    "kb_escher.em_data"
   ]
  },
  {
   "cell_type": "code",
   "execution_count": 68,
   "metadata": {},
   "outputs": [],
   "source": [
    "kb_escher.grid_map.escher_graph['reactions']['6']['gene_reaction_rule'] = '(banana and egg)'"
   ]
  },
  {
   "cell_type": "code",
   "execution_count": 69,
   "metadata": {},
   "outputs": [],
   "source": [
    "kb_escher.export('/Users/fliu/workspace/jupyter/python3/kbase/kb_escher/data/html/data/')"
   ]
  },
  {
   "cell_type": "code",
   "execution_count": 193,
   "metadata": {},
   "outputs": [
    {
     "data": {
      "text/plain": [
       "[{'map_id': 'NAD(P) Biosynthesis',\n",
       "  'model_id': '37534/90/3',\n",
       "  'cmp': 'c0',\n",
       "  'alias': 'cpd',\n",
       "  'rxn_data': '',\n",
       "  'cpd_data': None,\n",
       "  'gene_data': None},\n",
       " {'map_id': 'NAD(P) Biosynthesis',\n",
       "  'model_id': '37534/90/3',\n",
       "  'cmp': 'c0',\n",
       "  'alias': '1',\n",
       "  'rxn_data': '',\n",
       "  'cpd_data': None,\n",
       "  'gene_data': None}]"
      ]
     },
     "execution_count": 193,
     "metadata": {},
     "output_type": "execute_result"
    }
   ],
   "source": [
    "kb_escher.em_data"
   ]
  },
  {
   "cell_type": "code",
   "execution_count": 118,
   "metadata": {},
   "outputs": [],
   "source": [
    "fbamodel = kb_escher.model_cache['37534/90/3']"
   ]
  },
  {
   "cell_type": "code",
   "execution_count": 214,
   "metadata": {},
   "outputs": [],
   "source": [
    "gpr = rxn.get_gpr()"
   ]
  },
  {
   "cell_type": "code",
   "execution_count": 215,
   "metadata": {},
   "outputs": [],
   "source": [
    "gpr = list(map(lambda x : set(map(lambda i : \"{}@{}\".format(i, \"s\"), x)), gpr))"
   ]
  },
  {
   "cell_type": "code",
   "execution_count": 217,
   "metadata": {},
   "outputs": [
    {
     "data": {
      "text/plain": [
       "'(b2615@s)'"
      ]
     },
     "execution_count": 217,
     "metadata": {},
     "output_type": "execute_result"
    }
   ],
   "source": [
    "rxn.get_gpr_string(gpr)"
   ]
  },
  {
   "cell_type": "code",
   "execution_count": 155,
   "metadata": {},
   "outputs": [
    {
     "data": {
      "text/plain": [
       "{'cpd00002_c0': -1.0,\n",
       " 'cpd00003_c0': -1.0,\n",
       " 'cpd00008_c0': 1.0,\n",
       " 'cpd00067_c0': 1.0,\n",
       " 'cpd00006_c0': 1.0}"
      ]
     },
     "execution_count": 155,
     "metadata": {},
     "output_type": "execute_result"
    }
   ],
   "source": []
  },
  {
   "cell_type": "code",
   "execution_count": 153,
   "metadata": {},
   "outputs": [
    {
     "data": {
      "text/plain": [
       "'R_NADK'"
      ]
     },
     "execution_count": 153,
     "metadata": {},
     "output_type": "execute_result"
    }
   ],
   "source": [
    "rxn.get_original_id()"
   ]
  },
  {
   "cell_type": "code",
   "execution_count": 218,
   "metadata": {},
   "outputs": [
    {
     "data": {
      "text/plain": [
       "[{'id': 'b2574', 'name': 'b2574', 'annotation': {}},\n",
       " {'id': 'b1740', 'name': 'b1740', 'annotation': {}},\n",
       " {'id': 'b0109', 'name': 'b0109', 'annotation': {}},\n",
       " {'id': 'b0639', 'name': 'b0639', 'annotation': {}},\n",
       " {'id': 'b1768', 'name': 'b1768', 'annotation': {}},\n",
       " {'id': 'b4390', 'name': 'b4390', 'annotation': {}},\n",
       " {'id': 'b2615', 'name': 'b2615', 'annotation': {}}]"
      ]
     },
     "execution_count": 218,
     "metadata": {},
     "output_type": "execute_result"
    }
   ],
   "source": [
    "kb_escher.grid_models[0]['genes']"
   ]
  },
  {
   "cell_type": "code",
   "execution_count": 222,
   "metadata": {},
   "outputs": [],
   "source": [
    "\n",
    "demo_model = kb_escher.grid_models[0]\n",
    "with open('../data/html/data/models/model.json', 'w') as fh:\n",
    "    fh.write(json.dumps(demo_model))"
   ]
  },
  {
   "cell_type": "code",
   "execution_count": 229,
   "metadata": {},
   "outputs": [
    {
     "data": {
      "text/plain": [
       "[1, 4, 2, 1]"
      ]
     },
     "execution_count": 229,
     "metadata": {},
     "output_type": "execute_result"
    }
   ],
   "source": [
    "[1, 4] + [2, 1]"
   ]
  },
  {
   "cell_type": "code",
   "execution_count": 230,
   "metadata": {},
   "outputs": [],
   "source": []
  },
  {
   "cell_type": "code",
   "execution_count": 223,
   "metadata": {},
   "outputs": [
    {
     "data": {
      "text/plain": [
       "[{'id': 'b2574@cpd@cpd', 'name': 'whollool', 'annotation': {}},\n",
       " {'id': 'b1740@cpd@cpd', 'name': 'whollool', 'annotation': {}},\n",
       " {'id': 'b0109@cpd@cpd', 'name': 'whollool', 'annotation': {}},\n",
       " {'id': 'b0639@cpd@cpd', 'name': 'whollool', 'annotation': {}},\n",
       " {'id': 'b1768@cpd@cpd', 'name': 'whollool', 'annotation': {}},\n",
       " {'id': 'b4390@cpd@cpd', 'name': 'whollool', 'annotation': {}},\n",
       " {'id': 'b2615@cpd@cpd', 'name': 'whollool', 'annotation': {}}]"
      ]
     },
     "execution_count": 223,
     "metadata": {},
     "output_type": "execute_result"
    }
   ],
   "source": [
    "demo_model['genes']"
   ]
  },
  {
   "cell_type": "code",
   "execution_count": 111,
   "metadata": {},
   "outputs": [],
   "source": [
    "demo_model = {\n",
    "    'id' : '!!',\n",
    "    'compartments' : {},\n",
    "    'metabolites' : [],\n",
    "    'reactions' : [\n",
    "        {'id': 'rxn02402_c0@cpd',\n",
    " 'name': 'rxn02402_c0@cpd EGG and BACON',\n",
    " 'metabolites': {},\n",
    " 'lower_bound': -1000.0,\n",
    " 'upper_bound': 1000.0,\n",
    " 'gene_reaction_rule': '(egg and bacon)',\n",
    " 'annotation': {}\n",
    "        },\n",
    "        {'id': 'rxn00138_c0@cpd',\n",
    " 'name': 'rxn02402_c0@cpd EGG or BACON',\n",
    " 'metabolites': {},\n",
    " 'lower_bound': -1000.0,\n",
    " 'upper_bound': 1000.0,\n",
    " 'gene_reaction_rule': '(egg or bacon)',\n",
    " 'annotation': {}\n",
    "        },\n",
    "        {'id': 'rxn02155_c0@cpd',\n",
    " 'name': 'rxn02402_c0@cpd EGG only',\n",
    " 'metabolites': {},\n",
    " 'lower_bound': -1000.0,\n",
    " 'upper_bound': 1000.0,\n",
    " 'gene_reaction_rule': 'egg',\n",
    " 'annotation': {}\n",
    "        },\n",
    "        {'id': 'rxn00105_c0@cpd',\n",
    " 'name': 'rxn02402_c0@cpd BACON only',\n",
    " 'metabolites': {},\n",
    " 'lower_bound': -1000.0,\n",
    " 'upper_bound': 1000.0,\n",
    " 'gene_reaction_rule': 'bacon',\n",
    " 'annotation': {}\n",
    "        },\n",
    "        \n",
    "        {'id': 'rxn00077_c0@cpd',\n",
    " 'name': 'rxn02402_c0@cpd EGG and BACON or else',\n",
    " 'metabolites': {},\n",
    " 'lower_bound': -1000.0,\n",
    " 'upper_bound': 1000.0,\n",
    " 'gene_reaction_rule': '(egg and bacon) or else',\n",
    " 'annotation': {}\n",
    "        }\n",
    "    ],\n",
    "    'genes' : [\n",
    "        {'id': 'egg', 'name': 'egg?', 'annotation': {}},\n",
    "        {'id': 'bacon', 'name': 'bacon?', 'annotation': {}},\n",
    "        {'id': 'else', 'name': 'else !', 'annotation': {}}\n",
    "    ]\n",
    "}\n",
    "with open('../data/html/data/models/model.json', 'w') as fh:\n",
    "    fh.write(json.dumps(demo_model))"
   ]
  },
  {
   "cell_type": "code",
   "execution_count": 224,
   "metadata": {},
   "outputs": [],
   "source": [
    "json_model = None\n",
    "with open('../data/html/data/models/iML1515.json', 'r') as fh:\n",
    "    json_model = json.loads(fh.read())"
   ]
  },
  {
   "cell_type": "code",
   "execution_count": 225,
   "metadata": {},
   "outputs": [
    {
     "data": {
      "text/plain": [
       "{'id': 'b0929', 'name': 'b0929', 'annotation': {'sbo': 'SBO:0000243'}}"
      ]
     },
     "execution_count": 225,
     "metadata": {},
     "output_type": "execute_result"
    }
   ],
   "source": [
    "json_model['genes'][0]"
   ]
  },
  {
   "cell_type": "code",
   "execution_count": 85,
   "metadata": {},
   "outputs": [],
   "source": [
    "odata = api.get_object('example_map', ws=\"filipeliu:narrative_1580723870549\")\n"
   ]
  },
  {
   "cell_type": "code",
   "execution_count": 105,
   "metadata": {},
   "outputs": [],
   "source": [
    "%run ../../../modelseed-escher/modelseed_escher/core/escher_map.py\n",
    "em = EscherMap([odata['metadata'],odata['layout']])"
   ]
  },
  {
   "cell_type": "code",
   "execution_count": 56,
   "metadata": {},
   "outputs": [],
   "source": [
    "params = {\n",
    "        \"column_size\": 1,\n",
    "        \"gene_mode\": 0,\n",
    "        \"report_height\": 800,\n",
    "        \"grid_maps\": [{\n",
    "            \"map_id\": \"custom\",\n",
    "            \"user_map_id\": \"37534/120/1\",\n",
    "            \"model_id\": \"37534/89/1\",\n",
    "            \"export_full_model\" : 0,\n",
    "            \"model_compartment_id\": \"c0\",\n",
    "            \"model_alias\": \"\",\n",
    "            \"object_ids\": \"37534/92/1\",\n",
    "            \"cpd_abundance\": \"37534/99/1\",\n",
    "            \"cpd_abundance_dataset\": \"\",\n",
    "            \"gene_expression\": \"37534/98/2\",\n",
    "            \"gene_expression_dataset\": \"\"\n",
    "        }]\n",
    "    }"
   ]
  },
  {
   "cell_type": "code",
   "execution_count": 57,
   "metadata": {},
   "outputs": [
    {
     "name": "stdout",
     "output_type": "stream",
     "text": [
      "{'map_id': 'custom', 'user_map_id': '37534/120/1', 'model_id': '37534/89/1', 'export_full_model': 0, 'model_compartment_id': 'c0', 'model_alias': '', 'object_ids': '37534/92/1', 'cpd_abundance': '37534/99/1', 'cpd_abundance_dataset': '', 'gene_expression': '37534/98/2', 'gene_expression_dataset': ''}\n",
      "{'map_id': 'custom.Central_carbon_metabolism_Yeast', 'model_id': '37534/89/1', 'cmp': 'c0', 'alias': '0', 'rxn_data': '37534/92/1', 'cpd_data': None, 'gene_data': None, 'export_full_model': False}\n"
     ]
    }
   ],
   "source": [
    "%run ../lib/kb_escher/kb_escher_app.py\n",
    "kb_escher = KBaseEscher(params, api, escher_seed)\n",
    "kb_escher.build()\n",
    "kb_escher.export('/Users/fliu/workspace/jupyter/python3/kbase/kb_escher/data/html/data/')"
   ]
  },
  {
   "cell_type": "code",
   "execution_count": 60,
   "metadata": {},
   "outputs": [],
   "source": [
    "params = {\n",
    "        \"column_size\": 1,\n",
    "        \"gene_mode\": 0,\n",
    "        \"report_height\": 800,\n",
    "        \"grid_maps\": [{\n",
    "            \"map_id\": \"NAD(P) Biosynthesis\",\n",
    "            \"user_map_id\": \"37534/120/1\",\n",
    "            \"model_id\": \"37534/89/1\",\n",
    "            \"export_full_model\" : 1,\n",
    "            \"model_compartment_id\": \"c0\",\n",
    "            \"model_alias\": \"\",\n",
    "            \"object_ids\": \"37534/92/1\",\n",
    "            \"cpd_abundance\": \"37534/99/1\",\n",
    "            \"cpd_abundance_dataset\": \"\",\n",
    "            \"gene_expression\": \"37534/98/2\",\n",
    "            \"gene_expression_dataset\": \"\"\n",
    "        }]\n",
    "    }"
   ]
  },
  {
   "cell_type": "code",
   "execution_count": 61,
   "metadata": {},
   "outputs": [
    {
     "name": "stdout",
     "output_type": "stream",
     "text": [
      "{'map_id': 'NAD(P) Biosynthesis', 'user_map_id': '37534/120/1', 'model_id': '37534/89/1', 'export_full_model': 1, 'model_compartment_id': 'c0', 'model_alias': '', 'object_ids': '37534/92/1', 'cpd_abundance': '37534/99/1', 'cpd_abundance_dataset': '', 'gene_expression': '37534/98/2', 'gene_expression_dataset': ''}\n",
      "{'map_id': 'NAD(P) Biosynthesis', 'model_id': '37534/89/1', 'cmp': 'c0', 'alias': '0', 'rxn_data': '37534/92/1', 'cpd_data': None, 'gene_data': None, 'export_full_model': True}\n"
     ]
    }
   ],
   "source": [
    "%run ../lib/kb_escher/kb_escher_app.py\n",
    "kb_escher = KBaseEscher(params, api, escher_seed)\n",
    "kb_escher.build()\n",
    "kb_escher.export('/Users/fliu/workspace/jupyter/python3/kbase/kb_escher/data/html/data/')"
   ]
  },
  {
   "cell_type": "code",
   "execution_count": 48,
   "metadata": {},
   "outputs": [],
   "source": [
    "em = kb_escher.base_maps['custom.Central_carbon_metabolism_Yeast']"
   ]
  },
  {
   "cell_type": "code",
   "execution_count": 16,
   "metadata": {},
   "outputs": [
    {
     "name": "stdout",
     "output_type": "stream",
     "text": [
      "{'map_id': 'custom.Central_carbon_metabolism_Yeast', 'model_id': '37534/89/1', 'cmp': 'c0', 'alias': '0', 'rxn_data': '37534/92/1', 'cpd_data': None, 'gene_data': None}\n"
     ]
    }
   ],
   "source": [
    "for grid_cell in kb_escher.em_data:\n",
    "    print(grid_cell)\n",
    "    escher_map = kb_escher.base_maps[grid_cell['map_id']]\n",
    "    fbamodel = kb_escher.model_cache[grid_cell['model_id']]\n",
    "    cmp_id = grid_cell['cmp']\n",
    "    alias = grid_cell['alias']\n",
    "    em_cell = kb_escher.build_grid_cell(escher_map, fbamodel, \n",
    "                                    cmp_id = cmp_id, alias = alias)\n",
    "    rxn_ids = kb_escher.get_rxn_in_model(fbamodel, em_cell, cmp_id)"
   ]
  },
  {
   "cell_type": "code",
   "execution_count": 17,
   "metadata": {},
   "outputs": [
    {
     "data": {
      "text/plain": [
       "set()"
      ]
     },
     "execution_count": 17,
     "metadata": {},
     "output_type": "execute_result"
    }
   ],
   "source": [
    "rxn_ids"
   ]
  },
  {
   "cell_type": "code",
   "execution_count": 42,
   "metadata": {},
   "outputs": [
    {
     "data": {
      "text/plain": [
       "{'rxn00001_c0',\n",
       " 'rxn00148_c0',\n",
       " 'rxn00175_c0',\n",
       " 'rxn00216_c0',\n",
       " 'rxn00247_c0',\n",
       " 'rxn00248_c0',\n",
       " 'rxn00251_c0',\n",
       " 'rxn00459_c0',\n",
       " 'rxn00543_c0',\n",
       " 'rxn00545_c0',\n",
       " 'rxn00549_c0',\n",
       " 'rxn00558_c0',\n",
       " 'rxn00604_c0',\n",
       " 'rxn00747_c0',\n",
       " 'rxn00777_c0',\n",
       " 'rxn00781_c0',\n",
       " 'rxn00785_c0',\n",
       " 'rxn00786_c0',\n",
       " 'rxn01100_c0',\n",
       " 'rxn01106_c0',\n",
       " 'rxn01115_c0',\n",
       " 'rxn01116_c0',\n",
       " 'rxn01169_c0',\n",
       " 'rxn01171_c0',\n",
       " 'rxn01200_c0',\n",
       " 'rxn01333_c0',\n",
       " 'rxn01334_c0',\n",
       " 'rxn01343_c0',\n",
       " 'rxn01476_c0',\n",
       " 'rxn01492_c0',\n",
       " 'rxn01870_c0',\n",
       " 'rxn01975_c0',\n",
       " 'rxn01977_c0',\n",
       " 'rxn02380_c0'}"
      ]
     },
     "execution_count": 42,
     "metadata": {},
     "output_type": "execute_result"
    }
   ],
   "source": [
    "def get_rxn_in_model(kb_escher, fbamodel, em, cmp_id, alias, all_rxn = False):\n",
    "    map_rxn_set = set()\n",
    "    map_to_original = {}\n",
    "    model_rxns = set(map(lambda x : x.id, fbamodel.reactions))\n",
    "    model_rxns_alias = set(map(lambda x : x.id + '@' + alias, fbamodel.reactions))\n",
    "    for k in model_rxns:\n",
    "        map_to_original[k + '@' + alias] = k\n",
    "    if all_rxn:\n",
    "        return model_rxns\n",
    "    for rxn_uid in em.escher_graph['reactions']:\n",
    "        rxn_node = em.escher_graph['reactions'][rxn_uid]\n",
    "        map_rxn_set.add(rxn_node['bigg_id'])\n",
    "    return set(map(lambda x : map_to_original[x], map_rxn_set & model_rxns_alias))\n",
    "get_rxn_in_model(kb_escher, fbamodel, em_cell, cmp_id, alias, False)"
   ]
  },
  {
   "cell_type": "code",
   "execution_count": null,
   "metadata": {},
   "outputs": [],
   "source": []
  },
  {
   "cell_type": "code",
   "execution_count": null,
   "metadata": {},
   "outputs": [],
   "source": []
  },
  {
   "cell_type": "code",
   "execution_count": 386,
   "metadata": {},
   "outputs": [],
   "source": [
    "\n",
    "with open('/Users/fliu/workspace/jupyter/python3/kbase/kb_escher/data/html/data/' + '/escher_map.json', 'w') as fh:\n",
    "    fh.write(json.dumps(em_cmp.escher_map))"
   ]
  },
  {
   "cell_type": "code",
   "execution_count": 385,
   "metadata": {},
   "outputs": [],
   "source": [
    "for o, r in em_cmp.escher_graph['reactions'].items():\n",
    "    for o, s in r['segments'].items():\n",
    "        if not 'b1' in s:\n",
    "            s['b1'] = None\n",
    "        if not 'b2' in s:\n",
    "            s['b2'] = None"
   ]
  },
  {
   "cell_type": "code",
   "execution_count": null,
   "metadata": {},
   "outputs": [],
   "source": []
  },
  {
   "cell_type": "code",
   "execution_count": null,
   "metadata": {},
   "outputs": [],
   "source": []
  }
 ],
 "metadata": {
  "kernelspec": {
   "display_name": "Python 3",
   "language": "python",
   "name": "python3"
  },
  "language_info": {
   "codemirror_mode": {
    "name": "ipython",
    "version": 3
   },
   "file_extension": ".py",
   "mimetype": "text/x-python",
   "name": "python",
   "nbconvert_exporter": "python",
   "pygments_lexer": "ipython3",
   "version": "3.7.4"
  }
 },
 "nbformat": 4,
 "nbformat_minor": 4
}
