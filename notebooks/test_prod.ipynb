{
 "cells": [
  {
   "cell_type": "code",
   "execution_count": 1,
   "metadata": {},
   "outputs": [
    {
     "name": "stdout",
     "output_type": "stream",
     "text": [
      "cobrakbase 0.2.3\n"
     ]
    }
   ],
   "source": [
    "import json\n",
    "import math\n",
    "import escher\n",
    "import cobra\n",
    "import cobrakbase\n",
    "import modelseed_escher\n",
    "from cobrakbase.core import KBaseFBAModel\n",
    "from modelseed_escher.core import EscherMap"
   ]
  },
  {
   "cell_type": "code",
   "execution_count": 2,
   "metadata": {},
   "outputs": [],
   "source": [
    "token = \"64XQ7SABQILQWSEW3CQKZXJA63DXZBGH\"\n",
    "api = cobrakbase.KBaseAPI(token)"
   ]
  },
  {
   "cell_type": "code",
   "execution_count": 3,
   "metadata": {},
   "outputs": [],
   "source": [
    "escher_seed = modelseed_escher.EscherManager(escher)"
   ]
  },
  {
   "cell_type": "code",
   "execution_count": 28,
   "metadata": {},
   "outputs": [],
   "source": [
    "%run ../lib/kb_escher/kb_escher_app.py"
   ]
  },
  {
   "cell_type": "code",
   "execution_count": 17,
   "metadata": {},
   "outputs": [
    {
     "data": {
      "text/plain": [
       "dict_keys(['biochemistry_ref', 'data', 'description', 'row_attributemapping_ref', 'row_mapping', 'scale'])"
      ]
     },
     "execution_count": 17,
     "metadata": {},
     "output_type": "execute_result"
    }
   ],
   "source": [
    "kb_escher.object_cache['55494/31/2'].keys()"
   ]
  },
  {
   "cell_type": "code",
   "execution_count": 9,
   "metadata": {},
   "outputs": [],
   "source": [
    "o = kb_escher.get_object_from_ref('55494/31/2')"
   ]
  },
  {
   "cell_type": "code",
   "execution_count": 18,
   "metadata": {},
   "outputs": [
    {
     "ename": "IndexError",
     "evalue": "list index out of range",
     "output_type": "error",
     "traceback": [
      "\u001b[0;31m---------------------------------------------------------------------------\u001b[0m",
      "\u001b[0;31mIndexError\u001b[0m                                Traceback (most recent call last)",
      "\u001b[0;32m<ipython-input-18-fa4eae4fd5a6>\u001b[0m in \u001b[0;36m<module>\u001b[0;34m\u001b[0m\n\u001b[0;32m----> 1\u001b[0;31m \u001b[0mkb_escher\u001b[0m\u001b[0;34m.\u001b[0m\u001b[0mget_chemical_abundance_data\u001b[0m\u001b[0;34m(\u001b[0m\u001b[0mkb_escher\u001b[0m\u001b[0;34m.\u001b[0m\u001b[0mobject_cache\u001b[0m\u001b[0;34m[\u001b[0m\u001b[0;34m'55494/31/2'\u001b[0m\u001b[0;34m]\u001b[0m\u001b[0;34m,\u001b[0m \u001b[0;34m'Glucose - Exponential'\u001b[0m\u001b[0;34m)\u001b[0m\u001b[0;34m\u001b[0m\u001b[0;34m\u001b[0m\u001b[0m\n\u001b[0m",
      "\u001b[0;32m~/workspace/jupyter/python3/kbase/kb_escher/lib/kb_escher/kb_escher_app.py\u001b[0m in \u001b[0;36mget_chemical_abundance_data\u001b[0;34m(self, data, dataset)\u001b[0m\n\u001b[1;32m     71\u001b[0m             \u001b[0mv\u001b[0m \u001b[0;34m=\u001b[0m \u001b[0mdata\u001b[0m\u001b[0;34m[\u001b[0m\u001b[0;34m'data'\u001b[0m\u001b[0;34m]\u001b[0m\u001b[0;34m[\u001b[0m\u001b[0;34m'values'\u001b[0m\u001b[0;34m]\u001b[0m\u001b[0;34m[\u001b[0m\u001b[0mi\u001b[0m\u001b[0;34m]\u001b[0m\u001b[0;34m[\u001b[0m\u001b[0mcol_index\u001b[0m\u001b[0;34m]\u001b[0m\u001b[0;34m\u001b[0m\u001b[0;34m\u001b[0m\u001b[0m\n\u001b[1;32m     72\u001b[0m             \u001b[0;32mif\u001b[0m \u001b[0;32mnot\u001b[0m \u001b[0mv\u001b[0m \u001b[0;34m==\u001b[0m \u001b[0;32mNone\u001b[0m\u001b[0;34m:\u001b[0m\u001b[0;34m\u001b[0m\u001b[0;34m\u001b[0m\u001b[0m\n\u001b[0;32m---> 73\u001b[0;31m                 \u001b[0;32mif\u001b[0m \u001b[0mk\u001b[0m \u001b[0;32min\u001b[0m \u001b[0mmapping\u001b[0m\u001b[0;34m[\u001b[0m\u001b[0;34m'instances'\u001b[0m\u001b[0;34m]\u001b[0m \u001b[0;32mand\u001b[0m \u001b[0mlen\u001b[0m\u001b[0;34m(\u001b[0m\u001b[0mmapping\u001b[0m\u001b[0;34m[\u001b[0m\u001b[0;34m'instances'\u001b[0m\u001b[0;34m]\u001b[0m\u001b[0;34m[\u001b[0m\u001b[0mk\u001b[0m\u001b[0;34m]\u001b[0m\u001b[0;34m[\u001b[0m\u001b[0;36m5\u001b[0m\u001b[0;34m]\u001b[0m\u001b[0;34m)\u001b[0m \u001b[0;34m>\u001b[0m \u001b[0;36m0\u001b[0m\u001b[0;34m:\u001b[0m\u001b[0;34m\u001b[0m\u001b[0;34m\u001b[0m\u001b[0m\n\u001b[0m\u001b[1;32m     74\u001b[0m                     \u001b[0mresult\u001b[0m\u001b[0;34m[\u001b[0m\u001b[0mmapping\u001b[0m\u001b[0;34m[\u001b[0m\u001b[0;34m'instances'\u001b[0m\u001b[0;34m]\u001b[0m\u001b[0;34m[\u001b[0m\u001b[0mk\u001b[0m\u001b[0;34m]\u001b[0m\u001b[0;34m[\u001b[0m\u001b[0;36m5\u001b[0m\u001b[0;34m]\u001b[0m\u001b[0;34m]\u001b[0m \u001b[0;34m=\u001b[0m \u001b[0mv\u001b[0m\u001b[0;34m\u001b[0m\u001b[0;34m\u001b[0m\u001b[0m\n\u001b[1;32m     75\u001b[0m                 \u001b[0;32melse\u001b[0m\u001b[0;34m:\u001b[0m\u001b[0;34m\u001b[0m\u001b[0;34m\u001b[0m\u001b[0m\n",
      "\u001b[0;31mIndexError\u001b[0m: list index out of range"
     ]
    }
   ],
   "source": [
    "kb_escher.get_chemical_abundance_data(kb_escher.object_cache['55494/31/2'], 'Glucose - Exponential')"
   ]
  },
  {
   "cell_type": "code",
   "execution_count": null,
   "metadata": {},
   "outputs": [],
   "source": []
  },
  {
   "cell_type": "code",
   "execution_count": null,
   "metadata": {},
   "outputs": [],
   "source": []
  },
  {
   "cell_type": "code",
   "execution_count": 20,
   "metadata": {},
   "outputs": [],
   "source": []
  },
  {
   "cell_type": "code",
   "execution_count": 29,
   "metadata": {},
   "outputs": [],
   "source": [
    "params = {\n",
    "        \"column_size\": 3,\n",
    "        \"report_height\": 800,\n",
    "        \"grid_maps\": [{\n",
    "            \"map_id\": \"custom\",\n",
    "            \"user_map_id\": \"55494/68/2\",\n",
    "            \"model_id\": \"55494/17/15\",\n",
    "            \"model_compartment_id\": \"c0\",\n",
    "            \"model_alias\": \"modelAlias\",\n",
    "            \"object_ids\": \"55494/40/12\",\n",
    "            \"cpd_abundance\": \"55494/31/2\",\n",
    "            \"cpd_abundance_dataset\": \"Glucose - Exponential\",\n",
    "            \"gene_expression\": \"55494/27/1\",\n",
    "            \"gene_expression_dataset\": \"\"\n",
    "        }]\n",
    "    }"
   ]
  },
  {
   "cell_type": "code",
   "execution_count": 30,
   "metadata": {},
   "outputs": [
    {
     "name": "stdout",
     "output_type": "stream",
     "text": [
      "{'map_id': 'custom', 'user_map_id': '55494/68/2', 'model_id': '55494/17/15', 'model_compartment_id': 'c0', 'model_alias': 'modelAlias', 'object_ids': '55494/40/12', 'cpd_abundance': '55494/31/2', 'cpd_abundance_dataset': 'Glucose - Exponential', 'gene_expression': '55494/27/1', 'gene_expression_dataset': ''}\n",
      "rxn01270_c0 [{'CCESR16_IDBA.bin.001.genome.CDS.3368@modelAlias'}]\n",
      "rxn01268_c0 [{'CCESR16_IDBA.bin.001.genome.CDS.5725@modelAlias'}]\n",
      "rxn02508_c0 [{'CCESR16_IDBA.bin.001.genome.CDS.3414@modelAlias'}]\n",
      "rxn01256_c0 [{'CCESR16_IDBA.bin.001.genome.CDS.4457@modelAlias'}, {'CCESR16_IDBA.bin.001.genome.CDS.5726@modelAlias'}]\n",
      "rxn02212_c0 [{'CCESR16_IDBA.bin.001.genome.CDS.4804@modelAlias'}]\n",
      "rxn02213_c0 [{'CCESR16_IDBA.bin.001.genome.CDS.5811@modelAlias', 'CCESR16_IDBA.bin.001.genome.CDS.2267@modelAlias'}]\n",
      "rxn02476_c0 [{'CCESR16_IDBA.bin.001.genome.CDS.5724@modelAlias'}]\n",
      "rxn01332_c0 [{'CCESR16_IDBA.bin.001.genome.CDS.625@modelAlias', 'CCESR16_IDBA.bin.001.genome.CDS.340@modelAlias'}]\n",
      "rxn01740_c0 [{'CCESR16_IDBA.bin.001.genome.CDS.616@modelAlias', 'CCESR16_IDBA.bin.001.genome.CDS.2452@modelAlias', 'CCESR16_IDBA.bin.001.genome.CDS.2451@modelAlias'}]\n",
      "rxn00726_c0 [{'CCESR16_IDBA.bin.001.genome.CDS.2328@modelAlias', 'CCESR16_IDBA.bin.001.genome.CDS.2330@modelAlias'}]\n",
      "rxn00527_c0 [{'CCESR16_IDBA.bin.001.genome.CDS.4408@modelAlias', 'CCESR16_IDBA.bin.001.genome.CDS.3617@modelAlias', 'CCESR16_IDBA.bin.001.genome.CDS.4556@modelAlias', 'CCESR16_IDBA.bin.001.genome.CDS.6440@modelAlias', 'CCESR16_IDBA.bin.001.genome.CDS.5631@modelAlias', 'CCESR16_IDBA.bin.001.genome.CDS.1898@modelAlias', 'CCESR16_IDBA.bin.001.genome.CDS.5958@modelAlias', 'CCESR16_IDBA.bin.001.genome.CDS.1391@modelAlias', 'CCESR16_IDBA.bin.001.genome.CDS.5207@modelAlias', 'CCESR16_IDBA.bin.001.genome.CDS.4113@modelAlias', 'CCESR16_IDBA.bin.001.genome.CDS.3728@modelAlias', 'CCESR16_IDBA.bin.001.genome.CDS.6260@modelAlias', 'CCESR16_IDBA.bin.001.genome.CDS.6164@modelAlias', 'CCESR16_IDBA.bin.001.genome.CDS.5091@modelAlias', 'CCESR16_IDBA.bin.001.genome.CDS.2336@modelAlias'}, {'CCESR16_IDBA.bin.001.genome.CDS.3368@modelAlias', 'CCESR16_IDBA.bin.001.genome.CDS.4828@modelAlias', 'CCESR16_IDBA.bin.001.genome.CDS.5579@modelAlias'}, {'CCESR16_IDBA.bin.001.genome.CDS.308@modelAlias'}]\n",
      "rxn01739_c0 [{'CCESR16_IDBA.bin.001.genome.CDS.4803@modelAlias'}]\n",
      "rxn01255_c0 [{'CCESR16_IDBA.bin.001.genome.CDS.2471@modelAlias'}]\n",
      "rxn00791_c0 [{'CCESR16_IDBA.bin.001.genome.CDS.2325@modelAlias'}]\n",
      "rxn01000_c0 [{'CCESR16_IDBA.bin.001.genome.CDS.5726@modelAlias'}, {'CCESR16_IDBA.bin.001.genome.CDS.3158@modelAlias'}]\n",
      "rxn00493_c0 [{'CCESR16_IDBA.bin.001.genome.CDS.3368@modelAlias', 'CCESR16_IDBA.bin.001.genome.CDS.4828@modelAlias', 'CCESR16_IDBA.bin.001.genome.CDS.5579@modelAlias'}, {'CCESR16_IDBA.bin.001.genome.CDS.308@modelAlias'}]\n",
      "rxn00727_c0 [{'CCESR16_IDBA.bin.001.genome.CDS.2328@modelAlias', 'CCESR16_IDBA.bin.001.genome.CDS.2330@modelAlias'}]\n",
      "rxn02507_c0 [{'CCESR16_IDBA.bin.001.genome.CDS.2324@modelAlias'}]\n",
      "rxn01964_c0 [{'CCESR16_IDBA.bin.001.genome.CDS.3415@modelAlias', 'CCESR16_IDBA.bin.001.genome.CDS.3416@modelAlias'}]\n"
     ]
    }
   ],
   "source": [
    "kb_escher = KBaseEscher(params, api, escher_seed)\n",
    "kb_escher.build()\n",
    "kb_escher.export('/Users/fliu/workspace/jupyter/python3/kbase/kb_escher/data/html/data/')"
   ]
  },
  {
   "cell_type": "code",
   "execution_count": 31,
   "metadata": {},
   "outputs": [
    {
     "data": {
      "text/plain": [
       "[]"
      ]
     },
     "execution_count": 31,
     "metadata": {},
     "output_type": "execute_result"
    }
   ],
   "source": [
    "kb_escher.warnings"
   ]
  },
  {
   "cell_type": "code",
   "execution_count": null,
   "metadata": {},
   "outputs": [],
   "source": []
  }
 ],
 "metadata": {
  "kernelspec": {
   "display_name": "Python 3",
   "language": "python",
   "name": "python3"
  },
  "language_info": {
   "codemirror_mode": {
    "name": "ipython",
    "version": 3
   },
   "file_extension": ".py",
   "mimetype": "text/x-python",
   "name": "python",
   "nbconvert_exporter": "python",
   "pygments_lexer": "ipython3",
   "version": "3.7.4"
  }
 },
 "nbformat": 4,
 "nbformat_minor": 4
}
