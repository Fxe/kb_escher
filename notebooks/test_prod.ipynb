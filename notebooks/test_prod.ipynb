{
 "cells": [
  {
   "cell_type": "code",
   "execution_count": 1,
   "metadata": {},
   "outputs": [
    {
     "name": "stdout",
     "output_type": "stream",
     "text": [
      "cobrakbase 0.2.7\n"
     ]
    }
   ],
   "source": [
    "import json\n",
    "import math\n",
    "import escher\n",
    "import cobra\n",
    "import cobrakbase\n",
    "import modelseed_escher\n",
    "from cobrakbase.core import KBaseFBAModel\n",
    "from modelseed_escher.core import EscherMap"
   ]
  },
  {
   "cell_type": "code",
   "execution_count": 2,
   "metadata": {},
   "outputs": [],
   "source": [
    "api = cobrakbase.KBaseAPI()"
   ]
  },
  {
   "cell_type": "code",
   "execution_count": 3,
   "metadata": {},
   "outputs": [],
   "source": [
    "escher_seed = modelseed_escher.EscherManager(escher)"
   ]
  },
  {
   "cell_type": "code",
   "execution_count": 4,
   "metadata": {},
   "outputs": [],
   "source": [
    "%run ../lib/kb_escher/kb_escher_app.py"
   ]
  },
  {
   "cell_type": "code",
   "execution_count": 5,
   "metadata": {},
   "outputs": [
    {
     "ename": "NameError",
     "evalue": "name 'kb_escher' is not defined",
     "output_type": "error",
     "traceback": [
      "\u001b[0;31m---------------------------------------------------------------------------\u001b[0m",
      "\u001b[0;31mNameError\u001b[0m                                 Traceback (most recent call last)",
      "\u001b[0;32m<ipython-input-5-03d1ffb731ef>\u001b[0m in \u001b[0;36m<module>\u001b[0;34m\u001b[0m\n\u001b[0;32m----> 1\u001b[0;31m \u001b[0mkb_escher\u001b[0m\u001b[0;34m.\u001b[0m\u001b[0mobject_cache\u001b[0m\u001b[0;34m[\u001b[0m\u001b[0;34m'55494/31/2'\u001b[0m\u001b[0;34m]\u001b[0m\u001b[0;34m.\u001b[0m\u001b[0mkeys\u001b[0m\u001b[0;34m(\u001b[0m\u001b[0;34m)\u001b[0m\u001b[0;34m\u001b[0m\u001b[0;34m\u001b[0m\u001b[0m\n\u001b[0m",
      "\u001b[0;31mNameError\u001b[0m: name 'kb_escher' is not defined"
     ]
    }
   ],
   "source": [
    "kb_escher.object_cache['55494/31/2'].keys()"
   ]
  },
  {
   "cell_type": "code",
   "execution_count": 17,
   "metadata": {},
   "outputs": [],
   "source": []
  },
  {
   "cell_type": "code",
   "execution_count": 22,
   "metadata": {},
   "outputs": [],
   "source": [
    "#kb_escher.get_chemical_abundance_data(kb_escher.object_cache['55494/31/6'], 'Glucose - Exponential')"
   ]
  },
  {
   "cell_type": "code",
   "execution_count": 24,
   "metadata": {},
   "outputs": [],
   "source": [
    "row_attributemapping = kb_escher.get_object_from_ref(o['row_attributemapping_ref'])"
   ]
  },
  {
   "cell_type": "code",
   "execution_count": 27,
   "metadata": {},
   "outputs": [
    {
     "data": {
      "text/plain": [
       "[{'attribute': 'name', 'source': 'upload'},\n",
       " {'attribute': 'modelseed',\n",
       "  'attribute_ont_id': 'Custom:Term',\n",
       "  'attribute_ont_ref': 'KbaseOntologies/Custom',\n",
       "  'source': 'ModelSEED'}]"
      ]
     },
     "execution_count": 27,
     "metadata": {},
     "output_type": "execute_result"
    }
   ],
   "source": [
    "row_attributemapping['attributes']"
   ]
  },
  {
   "cell_type": "code",
   "execution_count": 5,
   "metadata": {},
   "outputs": [],
   "source": [
    "params = {\n",
    "        \"column_size\": 3,\n",
    "        \"report_height\": 800,\n",
    "        \"grid_maps\": [{\n",
    "            \"map_id\": \"custom\",\n",
    "            \"user_map_id\": [\"55494/68/2\"],\n",
    "            \"model_id\": \"55494/17/15\",\n",
    "            \"model_compartment_id\": \"c0\",\n",
    "            \"model_alias\": \"modelAlias\",\n",
    "            \"object_ids\": [\"55494/40/12\"],\n",
    "            \"cpd_abundance\": [\"55494/31/6\"],\n",
    "            \"cpd_abundance_dataset\": \"Glucose - Exponential\",\n",
    "            \"gene_expression\": [\"55494/27/1\"],\n",
    "            \"gene_expression_dataset\": \"\"\n",
    "        }]\n",
    "    }"
   ]
  },
  {
   "cell_type": "code",
   "execution_count": 6,
   "metadata": {},
   "outputs": [
    {
     "name": "stdout",
     "output_type": "stream",
     "text": [
      "{'map_id': 'custom', 'user_map_id': ['55494/68/2'], 'model_id': '55494/17/15', 'model_compartment_id': 'c0', 'model_alias': 'modelAlias', 'object_ids': ['55494/40/12'], 'cpd_abundance': ['55494/31/6'], 'cpd_abundance_dataset': 'Glucose - Exponential', 'gene_expression': ['55494/27/1'], 'gene_expression_dataset': ''}\n",
      "{'map_id': 'custom.AromaticAminoAcidBiosynthesisMap', 'model_id': '55494/17/15', 'cmp': 'c0', 'alias': 'modelAlias', 'rxn_data': '55494/40/12', 'cpd_data': ('55494/31/6', 'Glucose - Exponential'), 'gene_data': None, 'export_full_model': False}\n"
     ]
    },
    {
     "data": {
      "text/plain": [
       "<modelseed_escher.core.escher_map.EscherMap at 0x7fef70e22ad0>"
      ]
     },
     "execution_count": 6,
     "metadata": {},
     "output_type": "execute_result"
    }
   ],
   "source": [
    "kb_escher = KBaseEscher(params, api, escher_seed)\n",
    "kb_escher.build()\n",
    "#kb_escher.export('/Users/fliu/workspace/jupyter/python3/kbase/kb_escher/data/html/data/')"
   ]
  },
  {
   "cell_type": "code",
   "execution_count": 30,
   "metadata": {},
   "outputs": [
    {
     "name": "stdout",
     "output_type": "stream",
     "text": [
      "{'map_id': 'custom', 'user_map_id': ['82295/23/1'], 'model_id': '82295/20/1', 'model_compartment_id': 'c0', 'model_alias': 'ANME', 'export_full_model': 0, 'translate_map': 1, 'object_ids': [], 'cpd_abundance': [], 'cpd_abundance_dataset': '', 'gene_expression': [], 'gene_expression_dataset': ''}\n",
      "{'map_id': 'custom.JCVISyn3map', 'model_id': '82295/20/1', 'cmp': 'c0', 'alias': 'ANME', 'adapt': True, 'rxn_data': None, 'cpd_data': None, 'gene_data': None, 'export_full_model': False}\n",
      "adapt_map_to_model\n",
      "c0\n"
     ]
    },
    {
     "ename": "KeyError",
     "evalue": "'node_uid'",
     "output_type": "error",
     "traceback": [
      "\u001b[0;31m---------------------------------------------------------------------------\u001b[0m",
      "\u001b[0;31mKeyError\u001b[0m                                  Traceback (most recent call last)",
      "\u001b[0;32m<ipython-input-30-c03a825a89d1>\u001b[0m in \u001b[0;36m<module>\u001b[0;34m\u001b[0m\n\u001b[1;32m     20\u001b[0m     }\n\u001b[1;32m     21\u001b[0m \u001b[0mkb_escher\u001b[0m \u001b[0;34m=\u001b[0m \u001b[0mKBaseEscher\u001b[0m\u001b[0;34m(\u001b[0m\u001b[0mparams\u001b[0m\u001b[0;34m,\u001b[0m \u001b[0mapi\u001b[0m\u001b[0;34m,\u001b[0m \u001b[0mescher_seed\u001b[0m\u001b[0;34m)\u001b[0m\u001b[0;34m\u001b[0m\u001b[0;34m\u001b[0m\u001b[0m\n\u001b[0;32m---> 22\u001b[0;31m \u001b[0mem\u001b[0m \u001b[0;34m=\u001b[0m \u001b[0mkb_escher\u001b[0m\u001b[0;34m.\u001b[0m\u001b[0mbuild\u001b[0m\u001b[0;34m(\u001b[0m\u001b[0;34m)\u001b[0m\u001b[0;34m\u001b[0m\u001b[0;34m\u001b[0m\u001b[0m\n\u001b[0m",
      "\u001b[0;32m~/workspace/jupyter/python3/kbase/kb_escher/lib/kb_escher/kb_escher_app.py\u001b[0m in \u001b[0;36mbuild\u001b[0;34m(self)\u001b[0m\n\u001b[1;32m    207\u001b[0m             \u001b[0madapt\u001b[0m \u001b[0;34m=\u001b[0m \u001b[0mgrid_cell\u001b[0m\u001b[0;34m[\u001b[0m\u001b[0;34m'adapt'\u001b[0m\u001b[0;34m]\u001b[0m\u001b[0;34m\u001b[0m\u001b[0;34m\u001b[0m\u001b[0m\n\u001b[1;32m    208\u001b[0m             em_cell = self.build_grid_cell(escher_map, fbamodel, \n\u001b[0;32m--> 209\u001b[0;31m                                                 cmp_id = cmp_id, alias = alias, adapt = adapt)\n\u001b[0m\u001b[1;32m    210\u001b[0m \u001b[0;34m\u001b[0m\u001b[0m\n\u001b[1;32m    211\u001b[0m \u001b[0;34m\u001b[0m\u001b[0m\n",
      "\u001b[0;32m~/workspace/jupyter/python3/kbase/kb_escher/lib/kb_escher/kb_escher_app.py\u001b[0m in \u001b[0;36mbuild_grid_cell\u001b[0;34m(self, escher_map, fbamodel, cmp_id, alias, adapt)\u001b[0m\n\u001b[1;32m    305\u001b[0m \u001b[0;34m\u001b[0m\u001b[0m\n\u001b[1;32m    306\u001b[0m     \u001b[0;32mdef\u001b[0m \u001b[0mbuild_grid_cell\u001b[0m\u001b[0;34m(\u001b[0m\u001b[0mself\u001b[0m\u001b[0;34m,\u001b[0m \u001b[0mescher_map\u001b[0m\u001b[0;34m,\u001b[0m \u001b[0mfbamodel\u001b[0m\u001b[0;34m,\u001b[0m \u001b[0mcmp_id\u001b[0m \u001b[0;34m=\u001b[0m \u001b[0;34m'c0'\u001b[0m\u001b[0;34m,\u001b[0m \u001b[0malias\u001b[0m \u001b[0;34m=\u001b[0m \u001b[0;32mNone\u001b[0m\u001b[0;34m,\u001b[0m \u001b[0madapt\u001b[0m \u001b[0;34m=\u001b[0m \u001b[0;32mTrue\u001b[0m\u001b[0;34m)\u001b[0m\u001b[0;34m:\u001b[0m\u001b[0;34m\u001b[0m\u001b[0;34m\u001b[0m\u001b[0m\n\u001b[0;32m--> 307\u001b[0;31m         \u001b[0mem\u001b[0m \u001b[0;34m=\u001b[0m \u001b[0mself\u001b[0m\u001b[0;34m.\u001b[0m\u001b[0madapt_map_to_model\u001b[0m\u001b[0;34m(\u001b[0m\u001b[0mescher_map\u001b[0m\u001b[0;34m,\u001b[0m \u001b[0mcmp_id\u001b[0m\u001b[0;34m,\u001b[0m \u001b[0mstr\u001b[0m\u001b[0;34m(\u001b[0m\u001b[0malias\u001b[0m\u001b[0;34m)\u001b[0m\u001b[0;34m,\u001b[0m \u001b[0mfbamodel\u001b[0m\u001b[0;34m,\u001b[0m \u001b[0madapt\u001b[0m\u001b[0;34m)\u001b[0m\u001b[0;34m\u001b[0m\u001b[0;34m\u001b[0m\u001b[0m\n\u001b[0m\u001b[1;32m    308\u001b[0m         \u001b[0;32mreturn\u001b[0m \u001b[0mem\u001b[0m\u001b[0;34m\u001b[0m\u001b[0;34m\u001b[0m\u001b[0m\n\u001b[1;32m    309\u001b[0m \u001b[0;34m\u001b[0m\u001b[0m\n",
      "\u001b[0;32m~/workspace/jupyter/python3/kbase/kb_escher/lib/kb_escher/kb_escher_app.py\u001b[0m in \u001b[0;36madapt_map_to_model\u001b[0;34m(self, em, cmp_id, suffix, fbamodel, adapt)\u001b[0m\n\u001b[1;32m    365\u001b[0m         \u001b[0mprint\u001b[0m\u001b[0;34m(\u001b[0m\u001b[0mcmp_id\u001b[0m\u001b[0;34m)\u001b[0m\u001b[0;34m\u001b[0m\u001b[0;34m\u001b[0m\u001b[0m\n\u001b[1;32m    366\u001b[0m         \u001b[0;32mif\u001b[0m \u001b[0madapt\u001b[0m\u001b[0;34m:\u001b[0m\u001b[0;34m\u001b[0m\u001b[0;34m\u001b[0m\u001b[0m\n\u001b[0;32m--> 367\u001b[0;31m             \u001b[0mmove_to_compartment2\u001b[0m\u001b[0;34m(\u001b[0m\u001b[0mcmp_id\u001b[0m\u001b[0;34m,\u001b[0m \u001b[0mem\u001b[0m\u001b[0;34m,\u001b[0m \u001b[0;34m'0'\u001b[0m\u001b[0;34m)\u001b[0m\u001b[0;34m\u001b[0m\u001b[0;34m\u001b[0m\u001b[0m\n\u001b[0m\u001b[1;32m    368\u001b[0m         \u001b[0mprint\u001b[0m\u001b[0;34m(\u001b[0m\u001b[0mcmp_id\u001b[0m\u001b[0;34m)\u001b[0m\u001b[0;34m\u001b[0m\u001b[0;34m\u001b[0m\u001b[0m\n\u001b[1;32m    369\u001b[0m         \u001b[0mmap_cpd_set\u001b[0m \u001b[0;34m=\u001b[0m \u001b[0mset\u001b[0m\u001b[0;34m(\u001b[0m\u001b[0;34m)\u001b[0m\u001b[0;34m\u001b[0m\u001b[0;34m\u001b[0m\u001b[0m\n",
      "\u001b[0;32m~/opt/anaconda3/lib/python3.7/site-packages/modelseed_escher/convert_utils.py\u001b[0m in \u001b[0;36mmove_to_compartment2\u001b[0;34m(cmp_id, em, cmp_index)\u001b[0m\n\u001b[1;32m    228\u001b[0m             \u001b[0mtarget_cmp\u001b[0m \u001b[0;34m=\u001b[0m \u001b[0mnode_cmp\u001b[0m\u001b[0;34m\u001b[0m\u001b[0;34m\u001b[0m\u001b[0m\n\u001b[1;32m    229\u001b[0m         \u001b[0;32mfor\u001b[0m \u001b[0mo\u001b[0m \u001b[0;32min\u001b[0m \u001b[0mrnode\u001b[0m\u001b[0;34m[\u001b[0m\u001b[0;34m'metabolites'\u001b[0m\u001b[0;34m]\u001b[0m\u001b[0;34m:\u001b[0m\u001b[0;34m\u001b[0m\u001b[0;34m\u001b[0m\u001b[0m\n\u001b[0;32m--> 230\u001b[0;31m             \u001b[0mo\u001b[0m\u001b[0;34m[\u001b[0m\u001b[0;34m'bigg_id'\u001b[0m\u001b[0;34m]\u001b[0m \u001b[0;34m=\u001b[0m \u001b[0mnode_uid_id\u001b[0m\u001b[0;34m[\u001b[0m\u001b[0mo\u001b[0m\u001b[0;34m[\u001b[0m\u001b[0;34m'node_uid'\u001b[0m\u001b[0;34m]\u001b[0m\u001b[0;34m]\u001b[0m\u001b[0;34m\u001b[0m\u001b[0;34m\u001b[0m\u001b[0m\n\u001b[0m\u001b[1;32m    231\u001b[0m \u001b[0;34m\u001b[0m\u001b[0m\n\u001b[1;32m    232\u001b[0m         \u001b[0;32mif\u001b[0m \u001b[0;32mnot\u001b[0m \u001b[0mbase\u001b[0m \u001b[0;34m==\u001b[0m \u001b[0;32mNone\u001b[0m\u001b[0;34m:\u001b[0m\u001b[0;34m\u001b[0m\u001b[0;34m\u001b[0m\u001b[0m\n",
      "\u001b[0;31mKeyError\u001b[0m: 'node_uid'"
     ]
    }
   ],
   "source": [
    "%run ../lib/kb_escher/kb_escher_app.py\n",
    "params = {\n",
    "        \"column_size\": 1,\n",
    "        \"gene_mode\": 0,\n",
    "        \"report_height\": 800,\n",
    "        \"grid_maps\": [{\n",
    "            \"map_id\": \"custom\",\n",
    "            \"user_map_id\": [\"82295/23/1\"],\n",
    "            \"model_id\": \"82295/20/1\",\n",
    "            \"model_compartment_id\": \"c0\",\n",
    "            \"model_alias\": \"ANME\",\n",
    "            \"export_full_model\": 0,\n",
    "            \"translate_map\": 1,\n",
    "            \"object_ids\": [],\n",
    "            \"cpd_abundance\": [],\n",
    "            \"cpd_abundance_dataset\": \"\",\n",
    "            \"gene_expression\": [],\n",
    "            \"gene_expression_dataset\": \"\"\n",
    "        }]\n",
    "    }\n",
    "kb_escher = KBaseEscher(params, api, escher_seed)\n",
    "em = kb_escher.build()"
   ]
  },
  {
   "cell_type": "code",
   "execution_count": null,
   "metadata": {},
   "outputs": [],
   "source": [
    "em.display_in_notebook()"
   ]
  },
  {
   "cell_type": "code",
   "execution_count": 34,
   "metadata": {},
   "outputs": [
    {
     "data": {
      "text/plain": [
       "{'cpd00041_c0@modelAlias': 2926,\n",
       " 'cpd00023_c0@modelAlias': 1459,\n",
       " 'cpd00066_c0@modelAlias': 199,\n",
       " 'cpd00143_c0@modelAlias': 546,\n",
       " 'cpd00009_c0@modelAlias': 146564,\n",
       " 'cpd00012_c0@modelAlias': 15166,\n",
       " 'cpd00054_c0@modelAlias': 14415,\n",
       " 'cpd00065_c0@modelAlias': 333,\n",
       " 'cpd00069_c0@modelAlias': 3058}"
      ]
     },
     "execution_count": 34,
     "metadata": {},
     "output_type": "execute_result"
    }
   ],
   "source": [
    "kb_escher.global_cpd_data"
   ]
  },
  {
   "cell_type": "code",
   "execution_count": 16,
   "metadata": {},
   "outputs": [],
   "source": [
    "params = {\n",
    "        \"column_size\": 3,\n",
    "        \"report_height\": 800,\n",
    "        \"grid_maps\": [{\n",
    "            \"map_id\": \"custom\",\n",
    "            \"user_map_id\": [\"55494/68/2\"],\n",
    "            \"model_id\": \"55494/17/15\",\n",
    "            \"model_compartment_id\": \"c0\",\n",
    "            \"model_alias\": \"modelAlias\",\n",
    "            \"object_ids\": [\"55494/40/12\"],\n",
    "            \"cpd_abundance\": [\"55494/31/6\"],\n",
    "            \"cpd_abundance_dataset\": \"Glucose - Exponential\",\n",
    "            \"gene_expression\": [\"55494/27/1\"],\n",
    "            \"gene_expression_dataset\": \"\"\n",
    "        }]\n",
    "    }\n",
    "params =  {\n",
    "        \"column_size\": 1,\n",
    "        \"gene_mode\": 0,\n",
    "        \"grid_maps\": [{\n",
    "            \"cpd_abundance\": [],\n",
    "            \"cpd_abundance_dataset\": \"\",\n",
    "            \"export_full_model\": 1,\n",
    "            \"gene_expression\": [],\n",
    "            \"gene_expression_dataset\": \"\",\n",
    "            \"map_id\": \"custom\",\n",
    "            \"model_alias\": \"\",\n",
    "            \"model_compartment_id\": \"c0\",\n",
    "            \"model_id\": \"60965/7/1\",\n",
    "            \"object_ids\": [],\n",
    "            \"user_map_id\": [\"60965/8/1\"]\n",
    "        }],\n",
    "        \"report_height\": 800\n",
    "    }"
   ]
  },
  {
   "cell_type": "code",
   "execution_count": 17,
   "metadata": {},
   "outputs": [
    {
     "name": "stdout",
     "output_type": "stream",
     "text": [
      "{'cpd_abundance': [], 'cpd_abundance_dataset': '', 'export_full_model': 1, 'gene_expression': [], 'gene_expression_dataset': '', 'map_id': 'custom', 'model_alias': '', 'model_compartment_id': 'c0', 'model_id': '60965/7/1', 'object_ids': [], 'user_map_id': ['60965/8/1']}\n",
      "{'map_id': 'custom.Central_Metabolism', 'model_id': '60965/7/1', 'cmp': 'c0', 'alias': '0', 'rxn_data': None, 'cpd_data': None, 'gene_data': None, 'export_full_model': True}\n",
      "!!! cpd00011_c0\n"
     ]
    },
    {
     "ename": "ValueError",
     "evalue": "not enough values to unpack (expected 2, got 1)",
     "output_type": "error",
     "traceback": [
      "\u001b[0;31m---------------------------------------------------------------------------\u001b[0m",
      "\u001b[0;31mValueError\u001b[0m                                Traceback (most recent call last)",
      "\u001b[0;32m<ipython-input-17-58ee4ca7d806>\u001b[0m in \u001b[0;36m<module>\u001b[0;34m\u001b[0m\n\u001b[1;32m      1\u001b[0m \u001b[0mkb_escher\u001b[0m \u001b[0;34m=\u001b[0m \u001b[0mKBaseEscher\u001b[0m\u001b[0;34m(\u001b[0m\u001b[0mparams\u001b[0m\u001b[0;34m,\u001b[0m \u001b[0mapi\u001b[0m\u001b[0;34m,\u001b[0m \u001b[0mescher_seed\u001b[0m\u001b[0;34m)\u001b[0m\u001b[0;34m\u001b[0m\u001b[0;34m\u001b[0m\u001b[0m\n\u001b[0;32m----> 2\u001b[0;31m \u001b[0mkb_escher\u001b[0m\u001b[0;34m.\u001b[0m\u001b[0mbuild\u001b[0m\u001b[0;34m(\u001b[0m\u001b[0;34m)\u001b[0m\u001b[0;34m\u001b[0m\u001b[0;34m\u001b[0m\u001b[0m\n\u001b[0m",
      "\u001b[0;32m~/workspace/jupyter/python3/kbase/kb_escher/lib/kb_escher/kb_escher_app.py\u001b[0m in \u001b[0;36mbuild\u001b[0;34m(self)\u001b[0m\n\u001b[1;32m    202\u001b[0m             \u001b[0malias\u001b[0m \u001b[0;34m=\u001b[0m \u001b[0mgrid_cell\u001b[0m\u001b[0;34m[\u001b[0m\u001b[0;34m'alias'\u001b[0m\u001b[0;34m]\u001b[0m\u001b[0;34m\u001b[0m\u001b[0;34m\u001b[0m\u001b[0m\n\u001b[1;32m    203\u001b[0m             em_cell = self.build_grid_cell(escher_map, fbamodel, \n\u001b[0;32m--> 204\u001b[0;31m                                                 cmp_id = cmp_id, alias = alias)\n\u001b[0m\u001b[1;32m    205\u001b[0m \u001b[0;34m\u001b[0m\u001b[0m\n\u001b[1;32m    206\u001b[0m \u001b[0;34m\u001b[0m\u001b[0m\n",
      "\u001b[0;32m~/workspace/jupyter/python3/kbase/kb_escher/lib/kb_escher/kb_escher_app.py\u001b[0m in \u001b[0;36mbuild_grid_cell\u001b[0;34m(self, escher_map, fbamodel, cmp_id, alias)\u001b[0m\n\u001b[1;32m    300\u001b[0m \u001b[0;34m\u001b[0m\u001b[0m\n\u001b[1;32m    301\u001b[0m     \u001b[0;32mdef\u001b[0m \u001b[0mbuild_grid_cell\u001b[0m\u001b[0;34m(\u001b[0m\u001b[0mself\u001b[0m\u001b[0;34m,\u001b[0m \u001b[0mescher_map\u001b[0m\u001b[0;34m,\u001b[0m \u001b[0mfbamodel\u001b[0m\u001b[0;34m,\u001b[0m \u001b[0mcmp_id\u001b[0m \u001b[0;34m=\u001b[0m \u001b[0;34m'c0'\u001b[0m\u001b[0;34m,\u001b[0m \u001b[0malias\u001b[0m \u001b[0;34m=\u001b[0m \u001b[0;32mNone\u001b[0m\u001b[0;34m)\u001b[0m\u001b[0;34m:\u001b[0m\u001b[0;34m\u001b[0m\u001b[0;34m\u001b[0m\u001b[0m\n\u001b[0;32m--> 302\u001b[0;31m         \u001b[0mem\u001b[0m \u001b[0;34m=\u001b[0m \u001b[0mself\u001b[0m\u001b[0;34m.\u001b[0m\u001b[0madapt_map_to_model\u001b[0m\u001b[0;34m(\u001b[0m\u001b[0mescher_map\u001b[0m\u001b[0;34m,\u001b[0m \u001b[0mcmp_id\u001b[0m\u001b[0;34m,\u001b[0m \u001b[0mstr\u001b[0m\u001b[0;34m(\u001b[0m\u001b[0malias\u001b[0m\u001b[0;34m)\u001b[0m\u001b[0;34m,\u001b[0m \u001b[0mfbamodel\u001b[0m\u001b[0;34m)\u001b[0m\u001b[0;34m\u001b[0m\u001b[0;34m\u001b[0m\u001b[0m\n\u001b[0m\u001b[1;32m    303\u001b[0m         \u001b[0;32mreturn\u001b[0m \u001b[0mem\u001b[0m\u001b[0;34m\u001b[0m\u001b[0;34m\u001b[0m\u001b[0m\n\u001b[1;32m    304\u001b[0m \u001b[0;34m\u001b[0m\u001b[0m\n",
      "\u001b[0;32m~/workspace/jupyter/python3/kbase/kb_escher/lib/kb_escher/kb_escher_app.py\u001b[0m in \u001b[0;36madapt_map_to_model\u001b[0;34m(self, em, cmp_id, suffix, fbamodel)\u001b[0m\n\u001b[1;32m    306\u001b[0m         \u001b[0mem\u001b[0m \u001b[0;34m=\u001b[0m \u001b[0mem\u001b[0m\u001b[0;34m.\u001b[0m\u001b[0mclone\u001b[0m\u001b[0;34m(\u001b[0m\u001b[0;34m)\u001b[0m\u001b[0;34m\u001b[0m\u001b[0;34m\u001b[0m\u001b[0m\n\u001b[1;32m    307\u001b[0m         \u001b[0;31m#adapt map to compartment\u001b[0m\u001b[0;34m\u001b[0m\u001b[0;34m\u001b[0m\u001b[0;34m\u001b[0m\u001b[0m\n\u001b[0;32m--> 308\u001b[0;31m         \u001b[0mmove_to_compartment2\u001b[0m\u001b[0;34m(\u001b[0m\u001b[0mcmp_id\u001b[0m\u001b[0;34m,\u001b[0m \u001b[0mem\u001b[0m\u001b[0;34m,\u001b[0m \u001b[0;34m'0'\u001b[0m\u001b[0;34m)\u001b[0m\u001b[0;34m\u001b[0m\u001b[0;34m\u001b[0m\u001b[0m\n\u001b[0m\u001b[1;32m    309\u001b[0m \u001b[0;34m\u001b[0m\u001b[0m\n\u001b[1;32m    310\u001b[0m         \u001b[0mmap_cpd_set\u001b[0m \u001b[0;34m=\u001b[0m \u001b[0mset\u001b[0m\u001b[0;34m(\u001b[0m\u001b[0;34m)\u001b[0m\u001b[0;34m\u001b[0m\u001b[0;34m\u001b[0m\u001b[0m\n",
      "\u001b[0;32m~/opt/anaconda3/lib/python3.7/site-packages/modelseed_escher/convert_utils.py\u001b[0m in \u001b[0;36mmove_to_compartment2\u001b[0;34m(cmp_id, em, cmp_index)\u001b[0m\n\u001b[1;32m    203\u001b[0m         \u001b[0;32mif\u001b[0m \u001b[0mn\u001b[0m\u001b[0;34m[\u001b[0m\u001b[0;34m'node_type'\u001b[0m\u001b[0;34m]\u001b[0m \u001b[0;34m==\u001b[0m \u001b[0;34m'metabolite'\u001b[0m\u001b[0;34m:\u001b[0m\u001b[0;34m\u001b[0m\u001b[0;34m\u001b[0m\u001b[0m\n\u001b[1;32m    204\u001b[0m             \u001b[0mtarget_cmp\u001b[0m \u001b[0;34m=\u001b[0m \u001b[0mcmp_id\u001b[0m\u001b[0;34m\u001b[0m\u001b[0;34m\u001b[0m\u001b[0m\n\u001b[0;32m--> 205\u001b[0;31m             \u001b[0mbase\u001b[0m\u001b[0;34m,\u001b[0m \u001b[0mnode_cmp\u001b[0m \u001b[0;34m=\u001b[0m \u001b[0mdetect_current_compartment\u001b[0m\u001b[0;34m(\u001b[0m\u001b[0mn\u001b[0m\u001b[0;34m)\u001b[0m\u001b[0;34m\u001b[0m\u001b[0;34m\u001b[0m\u001b[0m\n\u001b[0m\u001b[1;32m    206\u001b[0m             \u001b[0;32mif\u001b[0m \u001b[0;32mnot\u001b[0m \u001b[0mnode_cmp\u001b[0m \u001b[0;34m==\u001b[0m \u001b[0;32mNone\u001b[0m\u001b[0;34m:\u001b[0m\u001b[0;34m\u001b[0m\u001b[0;34m\u001b[0m\u001b[0m\n\u001b[1;32m    207\u001b[0m                 \u001b[0mnode_cmp_index\u001b[0m \u001b[0;34m=\u001b[0m \u001b[0mdetect_compartment_index\u001b[0m\u001b[0;34m(\u001b[0m\u001b[0mnode_cmp\u001b[0m\u001b[0;34m)\u001b[0m\u001b[0;34m\u001b[0m\u001b[0;34m\u001b[0m\u001b[0m\n",
      "\u001b[0;31mValueError\u001b[0m: not enough values to unpack (expected 2, got 1)"
     ]
    }
   ],
   "source": [
    "kb_escher = KBaseEscher(params, api, escher_seed)\n",
    "kb_escher.build()"
   ]
  },
  {
   "cell_type": "code",
   "execution_count": null,
   "metadata": {},
   "outputs": [],
   "source": []
  }
 ],
 "metadata": {
  "kernelspec": {
   "display_name": "Python 3",
   "language": "python",
   "name": "python3"
  },
  "language_info": {
   "codemirror_mode": {
    "name": "ipython",
    "version": 3
   },
   "file_extension": ".py",
   "mimetype": "text/x-python",
   "name": "python",
   "nbconvert_exporter": "python",
   "pygments_lexer": "ipython3",
   "version": "3.7.4"
  }
 },
 "nbformat": 4,
 "nbformat_minor": 4
}
