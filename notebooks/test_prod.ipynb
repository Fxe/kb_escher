{
 "cells": [
  {
   "cell_type": "code",
   "execution_count": 13,
   "metadata": {},
   "outputs": [],
   "source": [
    "import json\n",
    "import math\n",
    "import escher\n",
    "import cobra\n",
    "import cobrakbase\n",
    "import modelseedpy_escher\n",
    "from cobrakbase.core import KBaseFBAModel\n",
    "from modelseedpy_escher.core import EscherMap"
   ]
  },
  {
   "cell_type": "code",
   "execution_count": 14,
   "metadata": {},
   "outputs": [],
   "source": [
    "api = cobrakbase.KBaseAPI()"
   ]
  },
  {
   "cell_type": "code",
   "execution_count": 4,
   "metadata": {},
   "outputs": [],
   "source": [
    "escher_seed = modelseedpy_escher.EscherManager(escher)"
   ]
  },
  {
   "cell_type": "code",
   "execution_count": 15,
   "metadata": {},
   "outputs": [],
   "source": [
    "%run ../lib/kb_escher/kb_escher_app.py"
   ]
  },
  {
   "cell_type": "code",
   "execution_count": 9,
   "metadata": {},
   "outputs": [
    {
     "ename": "NameError",
     "evalue": "name 'kb_escher' is not defined",
     "output_type": "error",
     "traceback": [
      "\u001b[0;31m---------------------------------------------------------------------------\u001b[0m",
      "\u001b[0;31mNameError\u001b[0m                                 Traceback (most recent call last)",
      "\u001b[0;32m<ipython-input-9-03d1ffb731ef>\u001b[0m in \u001b[0;36m<module>\u001b[0;34m\u001b[0m\n\u001b[0;32m----> 1\u001b[0;31m \u001b[0mkb_escher\u001b[0m\u001b[0;34m.\u001b[0m\u001b[0mobject_cache\u001b[0m\u001b[0;34m[\u001b[0m\u001b[0;34m'55494/31/2'\u001b[0m\u001b[0;34m]\u001b[0m\u001b[0;34m.\u001b[0m\u001b[0mkeys\u001b[0m\u001b[0;34m(\u001b[0m\u001b[0;34m)\u001b[0m\u001b[0;34m\u001b[0m\u001b[0;34m\u001b[0m\u001b[0m\n\u001b[0m",
      "\u001b[0;31mNameError\u001b[0m: name 'kb_escher' is not defined"
     ]
    }
   ],
   "source": [
    "kb_escher.object_cache['55494/31/2'].keys()"
   ]
  },
  {
   "cell_type": "code",
   "execution_count": 17,
   "metadata": {},
   "outputs": [],
   "source": []
  },
  {
   "cell_type": "code",
   "execution_count": 22,
   "metadata": {},
   "outputs": [],
   "source": [
    "#kb_escher.get_chemical_abundance_data(kb_escher.object_cache['55494/31/6'], 'Glucose - Exponential')"
   ]
  },
  {
   "cell_type": "code",
   "execution_count": 24,
   "metadata": {},
   "outputs": [],
   "source": [
    "row_attributemapping = kb_escher.get_object_from_ref(o['row_attributemapping_ref'])"
   ]
  },
  {
   "cell_type": "code",
   "execution_count": 27,
   "metadata": {},
   "outputs": [
    {
     "data": {
      "text/plain": [
       "[{'attribute': 'name', 'source': 'upload'},\n",
       " {'attribute': 'modelseed',\n",
       "  'attribute_ont_id': 'Custom:Term',\n",
       "  'attribute_ont_ref': 'KbaseOntologies/Custom',\n",
       "  'source': 'ModelSEED'}]"
      ]
     },
     "execution_count": 27,
     "metadata": {},
     "output_type": "execute_result"
    }
   ],
   "source": [
    "row_attributemapping['attributes']"
   ]
  },
  {
   "cell_type": "code",
   "execution_count": 11,
   "metadata": {},
   "outputs": [],
   "source": [
    "params = {\n",
    "        \"column_size\": 3,\n",
    "        \"report_height\": 800,\n",
    "        \"grid_maps\": [{\n",
    "            \"map_id\": \"custom\",\n",
    "            \"user_map_id\": [\"55494/68/2\"],\n",
    "            \"model_id\": \"55494/17/15\",\n",
    "            \"model_compartment_id\": \"c0\",\n",
    "            \"model_alias\": \"modelAlias\",\n",
    "            \"object_ids\": [\"55494/40/12\"],\n",
    "            \"cpd_abundance\": [\"55494/31/6\"],\n",
    "            \"cpd_abundance_dataset\": \"Glucose - Exponential\",\n",
    "            \"gene_expression\": [\"55494/27/1\"],\n",
    "            \"gene_expression_dataset\": \"\"\n",
    "        }]\n",
    "    }"
   ]
  },
  {
   "cell_type": "code",
   "execution_count": 18,
   "metadata": {},
   "outputs": [
    {
     "name": "stdout",
     "output_type": "stream",
     "text": [
      "{'map_id': 'custom', 'user_map_id': ['55494/68/2'], 'model_id': '55494/17/15', 'model_compartment_id': 'c0', 'model_alias': 'modelAlias', 'object_ids': ['55494/40/12'], 'cpd_abundance': ['55494/31/6'], 'cpd_abundance_dataset': 'Glucose - Exponential', 'gene_expression': ['55494/27/1'], 'gene_expression_dataset': ''}\n",
      "grid_cell {'map_id': 'custom.AromaticAminoAcidBiosynthesisMap', 'model_id': '55494/17/15', 'cmp': 'c0', 'alias': 'modelAlias', 'adapt': False, 'rxn_data': '55494/40/12', 'cpd_data': ('55494/31/6', 'Glucose - Exponential'), 'gene_data': None, 'export_full_model': False}\n"
     ]
    }
   ],
   "source": [
    "%run ../lib/kb_escher/kb_escher_app.py\n",
    "kb_escher = KBaseEscher(params, api, escher_seed)\n",
    "em = kb_escher.build()"
   ]
  },
  {
   "cell_type": "code",
   "execution_count": 20,
   "metadata": {},
   "outputs": [
    {
     "data": {
      "text/plain": [
       "{'bigg_id': 'cpd00216',\n",
       " 'label_x': -858.2646744409196,\n",
       " 'label_y': 1195.1824006238257,\n",
       " 'name': 'Chorismate',\n",
       " 'node_is_primary': 1,\n",
       " 'node_type': 'metabolite',\n",
       " 'x': -706.8099958896637,\n",
       " 'y': 1185.572006225586,\n",
       " 'uid': '146'}"
      ]
     },
     "execution_count": 20,
     "metadata": {},
     "output_type": "execute_result"
    }
   ],
   "source": [
    "next(em.nodes)"
   ]
  },
  {
   "cell_type": "code",
   "execution_count": 21,
   "metadata": {},
   "outputs": [
    {
     "name": "stdout",
     "output_type": "stream",
     "text": [
      "{'map_id': 'custom', 'user_map_id': ['55494/68/2'], 'model_id': '55494/17/15', 'model_compartment_id': 'c0', 'model_alias': 'modelAlias', 'object_ids': ['55494/40/12'], 'cpd_abundance': ['55494/31/6'], 'cpd_abundance_dataset': 'Glucose - Exponential', 'gene_expression': ['55494/27/1'], 'gene_expression_dataset': ''}\n",
      "grid_cell {'map_id': 'custom.AromaticAminoAcidBiosynthesisMap', 'model_id': '55494/17/15', 'cmp': 'c0', 'alias': 'modelAlias', 'adapt': False, 'rxn_data': '55494/40/12', 'cpd_data': ('55494/31/6', 'Glucose - Exponential'), 'gene_data': None, 'export_full_model': False}\n",
      "adapt_map_to_model\n",
      "c0\n",
      "c0\n"
     ]
    },
    {
     "data": {
      "text/plain": [
       "<EscherMap custom map at 0x7ff6ca2ac210>"
      ]
     },
     "execution_count": 21,
     "metadata": {},
     "output_type": "execute_result"
    }
   ],
   "source": [
    "%run ../lib/kb_escher/kb_escher_app.py\n",
    "kb_escher = KBaseEscher(params, api, escher_seed)\n",
    "kb_escher.build()\n",
    "#kb_escher.export('/Users/fliu/workspace/jupyter/python3/kbase/kb_escher/data/html/data/')"
   ]
  },
  {
   "cell_type": "code",
   "execution_count": 10,
   "metadata": {
    "collapsed": true,
    "jupyter": {
     "outputs_hidden": true
    }
   },
   "outputs": [
    {
     "name": "stdout",
     "output_type": "stream",
     "text": [
      "{'map_id': 'custom', 'user_map_id': ['82295/23/1'], 'model_id': '82295/20/1', 'model_compartment_id': 'c0', 'model_alias': 'ANME', 'export_full_model': 0, 'translate_map': 1, 'object_ids': [], 'cpd_abundance': [], 'cpd_abundance_dataset': '', 'gene_expression': [], 'gene_expression_dataset': ''}\n"
     ]
    },
    {
     "ename": "ServerError",
     "evalue": "JSONRPCError: -32500. Object 23 (name JCVISyn3map-deleted-1612383453165) in workspace 82295 (name filipeliu:narrative_1612368108584) has been deleted\nus.kbase.workspace.database.exceptions.DeletedObjectException: Object 23 (name JCVISyn3map-deleted-1612383453165) in workspace 82295 (name filipeliu:narrative_1612368108584) has been deleted\n\tat us.kbase.workspace.database.mongo.MongoWorkspaceDB.queryObjects(MongoWorkspaceDB.java:2926)\n\tat us.kbase.workspace.database.mongo.MongoWorkspaceDB.resolveObjectIDs(MongoWorkspaceDB.java:2858)\n\tat us.kbase.workspace.database.mongo.MongoWorkspaceDB.getObjectInformation(MongoWorkspaceDB.java:2811)\n\tat us.kbase.workspace.database.Workspace.getObjectInformation(Workspace.java:1388)\n\tat us.kbase.workspace.kbase.WorkspaceServerMethods.getObjectInformation(WorkspaceServerMethods.java:406)\n\tat us.kbase.workspace.WorkspaceServer.getObjectInfo3(WorkspaceServer.java:1018)\n\tat sun.reflect.GeneratedMethodAccessor87.invoke(Unknown Source)\n\tat sun.reflect.DelegatingMethodAccessorImpl.invoke(DelegatingMethodAccessorImpl.java:43)\n\tat java.lang.reflect.Method.invoke(Method.java:498)\n\tat us.kbase.common.service.JsonServerServlet.processRpcCall(JsonServerServlet.java:681)\n\tat us.kbase.common.service.JsonServerServlet.doPost(JsonServerServlet.java:553)\n\tat javax.servlet.http.HttpServlet.service(HttpServlet.java:660)\n\tat javax.servlet.http.HttpServlet.service(HttpServlet.java:741)\n\tat org.apache.catalina.core.ApplicationFilterChain.internalDoFilter(ApplicationFilterChain.java:231)\n\tat org.apache.catalina.core.ApplicationFilterChain.doFilter(ApplicationFilterChain.java:166)\n\tat org.apache.tomcat.websocket.server.WsFilter.doFilter(WsFilter.java:52)\n\tat org.apache.catalina.core.ApplicationFilterChain.internalDoFilter(ApplicationFilterChain.java:193)\n\tat org.apache.catalina.core.ApplicationFilterChain.doFilter(ApplicationFilterChain.java:166)\n\tat org.apache.catalina.core.StandardWrapperValve.invoke(StandardWrapperValve.java:200)\n\tat org.apache.catalina.core.StandardContextValve.invoke(StandardContextValve.java:96)\n\tat org.apache.catalina.authenticator.AuthenticatorBase.invoke(AuthenticatorBase.java:543)\n\tat org.apache.catalina.core.StandardHostValve.invoke(StandardHostValve.java:139)\n\tat org.apache.catalina.valves.ErrorReportValve.invoke(ErrorReportValve.java:81)\n\tat org.apache.catalina.valves.AbstractAccessLogValve.invoke(AbstractAccessLogValve.java:678)\n\tat org.apache.catalina.core.StandardEngineValve.invoke(StandardEngineValve.java:87)\n\tat org.apache.catalina.connector.CoyoteAdapter.service(CoyoteAdapter.java:343)\n\tat org.apache.coyote.http11.Http11Processor.service(Http11Processor.java:609)\n\tat org.apache.coyote.AbstractProcessorLight.process(AbstractProcessorLight.java:65)\n\tat org.apache.coyote.AbstractProtocol$ConnectionHandler.process(AbstractProtocol.java:810)\n\tat org.apache.tomcat.util.net.Nio2Endpoint$SocketProcessor.doRun(Nio2Endpoint.java:1630)\n\tat org.apache.tomcat.util.net.SocketProcessorBase.run(SocketProcessorBase.java:49)\n\tat org.apache.tomcat.util.net.AbstractEndpoint.processSocket(AbstractEndpoint.java:1082)\n\tat org.apache.tomcat.util.net.Nio2Endpoint$Nio2SocketWrapper$2.completed(Nio2Endpoint.java:566)\n\tat org.apache.tomcat.util.net.Nio2Endpoint$Nio2SocketWrapper$2.completed(Nio2Endpoint.java:544)\n\tat sun.nio.ch.Invoker.invokeUnchecked(Invoker.java:126)\n\tat sun.nio.ch.Invoker$2.run(Invoker.java:218)\n\tat sun.nio.ch.AsynchronousChannelGroupImpl$1.run(AsynchronousChannelGroupImpl.java:112)\n\tat java.util.concurrent.ThreadPoolExecutor.runWorker(ThreadPoolExecutor.java:1149)\n\tat java.util.concurrent.ThreadPoolExecutor$Worker.run(ThreadPoolExecutor.java:624)\n\tat java.lang.Thread.run(Thread.java:748)\n",
     "output_type": "error",
     "traceback": [
      "\u001b[0;31m---------------------------------------------------------------------------\u001b[0m",
      "\u001b[0;31mServerError\u001b[0m                               Traceback (most recent call last)",
      "\u001b[0;32m<ipython-input-10-c03a825a89d1>\u001b[0m in \u001b[0;36m<module>\u001b[0;34m\u001b[0m\n\u001b[1;32m     19\u001b[0m         }]\n\u001b[1;32m     20\u001b[0m     }\n\u001b[0;32m---> 21\u001b[0;31m \u001b[0mkb_escher\u001b[0m \u001b[0;34m=\u001b[0m \u001b[0mKBaseEscher\u001b[0m\u001b[0;34m(\u001b[0m\u001b[0mparams\u001b[0m\u001b[0;34m,\u001b[0m \u001b[0mapi\u001b[0m\u001b[0;34m,\u001b[0m \u001b[0mescher_seed\u001b[0m\u001b[0;34m)\u001b[0m\u001b[0;34m\u001b[0m\u001b[0;34m\u001b[0m\u001b[0m\n\u001b[0m\u001b[1;32m     22\u001b[0m \u001b[0mem\u001b[0m \u001b[0;34m=\u001b[0m \u001b[0mkb_escher\u001b[0m\u001b[0;34m.\u001b[0m\u001b[0mbuild\u001b[0m\u001b[0;34m(\u001b[0m\u001b[0;34m)\u001b[0m\u001b[0;34m\u001b[0m\u001b[0;34m\u001b[0m\u001b[0m\n",
      "\u001b[0;32m~/workspace/jupyter/python3/kbase/kb_escher/lib/kb_escher/kb_escher_app.py\u001b[0m in \u001b[0;36m__init__\u001b[0;34m(self, config, kbase_api, escher_api)\u001b[0m\n\u001b[1;32m     57\u001b[0m \u001b[0;34m\u001b[0m\u001b[0m\n\u001b[1;32m     58\u001b[0m         \u001b[0;32mif\u001b[0m \u001b[0;32mnot\u001b[0m \u001b[0mconfig\u001b[0m \u001b[0;34m==\u001b[0m \u001b[0;32mNone\u001b[0m\u001b[0;34m:\u001b[0m\u001b[0;34m\u001b[0m\u001b[0;34m\u001b[0m\u001b[0m\n\u001b[0;32m---> 59\u001b[0;31m             \u001b[0mself\u001b[0m\u001b[0;34m.\u001b[0m\u001b[0msetup_config\u001b[0m\u001b[0;34m(\u001b[0m\u001b[0mconfig\u001b[0m\u001b[0;34m)\u001b[0m\u001b[0;34m\u001b[0m\u001b[0;34m\u001b[0m\u001b[0m\n\u001b[0m\u001b[1;32m     60\u001b[0m \u001b[0;34m\u001b[0m\u001b[0m\n\u001b[1;32m     61\u001b[0m     \u001b[0;32mdef\u001b[0m \u001b[0mget_chemical_abundance_data\u001b[0m\u001b[0;34m(\u001b[0m\u001b[0mself\u001b[0m\u001b[0;34m,\u001b[0m \u001b[0mdata\u001b[0m\u001b[0;34m,\u001b[0m \u001b[0mdataset\u001b[0m\u001b[0;34m)\u001b[0m\u001b[0;34m:\u001b[0m\u001b[0;34m\u001b[0m\u001b[0;34m\u001b[0m\u001b[0m\n",
      "\u001b[0;32m~/workspace/jupyter/python3/kbase/kb_escher/lib/kb_escher/kb_escher_app.py\u001b[0m in \u001b[0;36msetup_config\u001b[0;34m(self, config)\u001b[0m\n\u001b[1;32m    132\u001b[0m             \u001b[0;32melse\u001b[0m\u001b[0;34m:\u001b[0m\u001b[0;34m\u001b[0m\u001b[0;34m\u001b[0m\u001b[0m\n\u001b[1;32m    133\u001b[0m                 \u001b[0muser_map_ref\u001b[0m \u001b[0;34m=\u001b[0m \u001b[0mgrid_cell\u001b[0m\u001b[0;34m[\u001b[0m\u001b[0;34m'user_map_id'\u001b[0m\u001b[0;34m]\u001b[0m\u001b[0;34m[\u001b[0m\u001b[0;36m0\u001b[0m\u001b[0;34m]\u001b[0m\u001b[0;34m\u001b[0m\u001b[0;34m\u001b[0m\u001b[0m\n\u001b[0;32m--> 134\u001b[0;31m                 \u001b[0mref\u001b[0m \u001b[0;34m=\u001b[0m \u001b[0mself\u001b[0m\u001b[0;34m.\u001b[0m\u001b[0mkbase_api\u001b[0m\u001b[0;34m.\u001b[0m\u001b[0mget_object_info_from_ref\u001b[0m\u001b[0;34m(\u001b[0m\u001b[0muser_map_ref\u001b[0m\u001b[0;34m)\u001b[0m\u001b[0;34m\u001b[0m\u001b[0;34m\u001b[0m\u001b[0m\n\u001b[0m\u001b[1;32m    135\u001b[0m                 \u001b[0mmap_id\u001b[0m \u001b[0;34m=\u001b[0m \u001b[0;34m'custom.'\u001b[0m \u001b[0;34m+\u001b[0m \u001b[0mref\u001b[0m\u001b[0;34m.\u001b[0m\u001b[0mid\u001b[0m\u001b[0;34m\u001b[0m\u001b[0;34m\u001b[0m\u001b[0m\n\u001b[1;32m    136\u001b[0m                 \u001b[0;32mif\u001b[0m \u001b[0;32mnot\u001b[0m \u001b[0mmap_id\u001b[0m \u001b[0;32min\u001b[0m \u001b[0mself\u001b[0m\u001b[0;34m.\u001b[0m\u001b[0mbase_maps\u001b[0m\u001b[0;34m:\u001b[0m\u001b[0;34m\u001b[0m\u001b[0;34m\u001b[0m\u001b[0m\n",
      "\u001b[0;32m~/opt/anaconda3/lib/python3.7/site-packages/cobrakbase/kbaseapi.py\u001b[0m in \u001b[0;36mget_object_info_from_ref\u001b[0;34m(self, ref)\u001b[0m\n\u001b[1;32m    269\u001b[0m         \u001b[0;34m@\u001b[0m\u001b[0mdeprecated\u001b[0m \u001b[0mget_object_info\u001b[0m\u001b[0;34m\u001b[0m\u001b[0;34m\u001b[0m\u001b[0m\n\u001b[1;32m    270\u001b[0m         \"\"\"\n\u001b[0;32m--> 271\u001b[0;31m         \u001b[0;32mreturn\u001b[0m \u001b[0mself\u001b[0m\u001b[0;34m.\u001b[0m\u001b[0mget_object_info\u001b[0m\u001b[0;34m(\u001b[0m\u001b[0mref\u001b[0m\u001b[0;34m)\u001b[0m\u001b[0;34m\u001b[0m\u001b[0;34m\u001b[0m\u001b[0m\n\u001b[0m",
      "\u001b[0;32m~/opt/anaconda3/lib/python3.7/site-packages/cobrakbase/kbaseapi.py\u001b[0m in \u001b[0;36mget_object_info\u001b[0;34m(self, id_or_ref, workspace)\u001b[0m\n\u001b[1;32m    259\u001b[0m         ref_data = self.ws_client.get_object_info3(\n\u001b[1;32m    260\u001b[0m             {\n\u001b[0;32m--> 261\u001b[0;31m                 \u001b[0;34m'objects'\u001b[0m\u001b[0;34m:\u001b[0m \u001b[0;34m[\u001b[0m\u001b[0mself\u001b[0m\u001b[0;34m.\u001b[0m\u001b[0mprocess_workspace_identifiers\u001b[0m\u001b[0;34m(\u001b[0m\u001b[0mid_or_ref\u001b[0m\u001b[0;34m,\u001b[0m \u001b[0mworkspace\u001b[0m\u001b[0;34m)\u001b[0m\u001b[0;34m]\u001b[0m\u001b[0;34m\u001b[0m\u001b[0;34m\u001b[0m\u001b[0m\n\u001b[0m\u001b[1;32m    262\u001b[0m             }\n\u001b[1;32m    263\u001b[0m         )\n",
      "\u001b[0;32m~/opt/anaconda3/lib/python3.7/site-packages/cobrakbase/Workspace/WorkspaceClient.py\u001b[0m in \u001b[0;36mget_object_info3\u001b[0;34m(self, params, context)\u001b[0m\n\u001b[1;32m   3836\u001b[0m         return self._client.call_method(\n\u001b[1;32m   3837\u001b[0m             \u001b[0;34m'Workspace.get_object_info3'\u001b[0m\u001b[0;34m,\u001b[0m\u001b[0;34m\u001b[0m\u001b[0;34m\u001b[0m\u001b[0m\n\u001b[0;32m-> 3838\u001b[0;31m             [params], self._service_ver, context)\n\u001b[0m\u001b[1;32m   3839\u001b[0m \u001b[0;34m\u001b[0m\u001b[0m\n\u001b[1;32m   3840\u001b[0m     \u001b[0;32mdef\u001b[0m \u001b[0mrename_workspace\u001b[0m\u001b[0;34m(\u001b[0m\u001b[0mself\u001b[0m\u001b[0;34m,\u001b[0m \u001b[0mparams\u001b[0m\u001b[0;34m,\u001b[0m \u001b[0mcontext\u001b[0m\u001b[0;34m=\u001b[0m\u001b[0;32mNone\u001b[0m\u001b[0;34m)\u001b[0m\u001b[0;34m:\u001b[0m\u001b[0;34m\u001b[0m\u001b[0;34m\u001b[0m\u001b[0m\n",
      "\u001b[0;32m~/opt/anaconda3/lib/python3.7/site-packages/cobrakbase/Workspace/baseclient.py\u001b[0m in \u001b[0;36mcall_method\u001b[0;34m(self, service_method, args, service_ver, context)\u001b[0m\n\u001b[1;32m    266\u001b[0m         \u001b[0murl\u001b[0m \u001b[0;34m=\u001b[0m \u001b[0mself\u001b[0m\u001b[0;34m.\u001b[0m\u001b[0m_get_service_url\u001b[0m\u001b[0;34m(\u001b[0m\u001b[0mservice_method\u001b[0m\u001b[0;34m,\u001b[0m \u001b[0mservice_ver\u001b[0m\u001b[0;34m)\u001b[0m\u001b[0;34m\u001b[0m\u001b[0;34m\u001b[0m\u001b[0m\n\u001b[1;32m    267\u001b[0m         \u001b[0mcontext\u001b[0m \u001b[0;34m=\u001b[0m \u001b[0mself\u001b[0m\u001b[0;34m.\u001b[0m\u001b[0m_set_up_context\u001b[0m\u001b[0;34m(\u001b[0m\u001b[0mservice_ver\u001b[0m\u001b[0;34m,\u001b[0m \u001b[0mcontext\u001b[0m\u001b[0;34m)\u001b[0m\u001b[0;34m\u001b[0m\u001b[0;34m\u001b[0m\u001b[0m\n\u001b[0;32m--> 268\u001b[0;31m         \u001b[0;32mreturn\u001b[0m \u001b[0mself\u001b[0m\u001b[0;34m.\u001b[0m\u001b[0m_call\u001b[0m\u001b[0;34m(\u001b[0m\u001b[0murl\u001b[0m\u001b[0;34m,\u001b[0m \u001b[0mservice_method\u001b[0m\u001b[0;34m,\u001b[0m \u001b[0margs\u001b[0m\u001b[0;34m,\u001b[0m \u001b[0mcontext\u001b[0m\u001b[0;34m)\u001b[0m\u001b[0;34m\u001b[0m\u001b[0;34m\u001b[0m\u001b[0m\n\u001b[0m",
      "\u001b[0;32m~/opt/anaconda3/lib/python3.7/site-packages/cobrakbase/Workspace/baseclient.py\u001b[0m in \u001b[0;36m_call\u001b[0;34m(self, url, method, params, context)\u001b[0m\n\u001b[1;32m    181\u001b[0m                 \u001b[0merr\u001b[0m \u001b[0;34m=\u001b[0m \u001b[0mret\u001b[0m\u001b[0;34m.\u001b[0m\u001b[0mjson\u001b[0m\u001b[0;34m(\u001b[0m\u001b[0;34m)\u001b[0m\u001b[0;34m\u001b[0m\u001b[0;34m\u001b[0m\u001b[0m\n\u001b[1;32m    182\u001b[0m                 \u001b[0;32mif\u001b[0m \u001b[0;34m'error'\u001b[0m \u001b[0;32min\u001b[0m \u001b[0merr\u001b[0m\u001b[0;34m:\u001b[0m\u001b[0;34m\u001b[0m\u001b[0;34m\u001b[0m\u001b[0m\n\u001b[0;32m--> 183\u001b[0;31m                     \u001b[0;32mraise\u001b[0m \u001b[0mServerError\u001b[0m\u001b[0;34m(\u001b[0m\u001b[0;34m**\u001b[0m\u001b[0merr\u001b[0m\u001b[0;34m[\u001b[0m\u001b[0;34m'error'\u001b[0m\u001b[0;34m]\u001b[0m\u001b[0;34m)\u001b[0m\u001b[0;34m\u001b[0m\u001b[0;34m\u001b[0m\u001b[0m\n\u001b[0m\u001b[1;32m    184\u001b[0m                 \u001b[0;32melse\u001b[0m\u001b[0;34m:\u001b[0m\u001b[0;34m\u001b[0m\u001b[0;34m\u001b[0m\u001b[0m\n\u001b[1;32m    185\u001b[0m                     \u001b[0;32mraise\u001b[0m \u001b[0mServerError\u001b[0m\u001b[0;34m(\u001b[0m\u001b[0;34m'Unknown'\u001b[0m\u001b[0;34m,\u001b[0m \u001b[0;36m0\u001b[0m\u001b[0;34m,\u001b[0m \u001b[0mret\u001b[0m\u001b[0;34m.\u001b[0m\u001b[0mtext\u001b[0m\u001b[0;34m)\u001b[0m\u001b[0;34m\u001b[0m\u001b[0;34m\u001b[0m\u001b[0m\n",
      "\u001b[0;31mServerError\u001b[0m: JSONRPCError: -32500. Object 23 (name JCVISyn3map-deleted-1612383453165) in workspace 82295 (name filipeliu:narrative_1612368108584) has been deleted\nus.kbase.workspace.database.exceptions.DeletedObjectException: Object 23 (name JCVISyn3map-deleted-1612383453165) in workspace 82295 (name filipeliu:narrative_1612368108584) has been deleted\n\tat us.kbase.workspace.database.mongo.MongoWorkspaceDB.queryObjects(MongoWorkspaceDB.java:2926)\n\tat us.kbase.workspace.database.mongo.MongoWorkspaceDB.resolveObjectIDs(MongoWorkspaceDB.java:2858)\n\tat us.kbase.workspace.database.mongo.MongoWorkspaceDB.getObjectInformation(MongoWorkspaceDB.java:2811)\n\tat us.kbase.workspace.database.Workspace.getObjectInformation(Workspace.java:1388)\n\tat us.kbase.workspace.kbase.WorkspaceServerMethods.getObjectInformation(WorkspaceServerMethods.java:406)\n\tat us.kbase.workspace.WorkspaceServer.getObjectInfo3(WorkspaceServer.java:1018)\n\tat sun.reflect.GeneratedMethodAccessor87.invoke(Unknown Source)\n\tat sun.reflect.DelegatingMethodAccessorImpl.invoke(DelegatingMethodAccessorImpl.java:43)\n\tat java.lang.reflect.Method.invoke(Method.java:498)\n\tat us.kbase.common.service.JsonServerServlet.processRpcCall(JsonServerServlet.java:681)\n\tat us.kbase.common.service.JsonServerServlet.doPost(JsonServerServlet.java:553)\n\tat javax.servlet.http.HttpServlet.service(HttpServlet.java:660)\n\tat javax.servlet.http.HttpServlet.service(HttpServlet.java:741)\n\tat org.apache.catalina.core.ApplicationFilterChain.internalDoFilter(ApplicationFilterChain.java:231)\n\tat org.apache.catalina.core.ApplicationFilterChain.doFilter(ApplicationFilterChain.java:166)\n\tat org.apache.tomcat.websocket.server.WsFilter.doFilter(WsFilter.java:52)\n\tat org.apache.catalina.core.ApplicationFilterChain.internalDoFilter(ApplicationFilterChain.java:193)\n\tat org.apache.catalina.core.ApplicationFilterChain.doFilter(ApplicationFilterChain.java:166)\n\tat org.apache.catalina.core.StandardWrapperValve.invoke(StandardWrapperValve.java:200)\n\tat org.apache.catalina.core.StandardContextValve.invoke(StandardContextValve.java:96)\n\tat org.apache.catalina.authenticator.AuthenticatorBase.invoke(AuthenticatorBase.java:543)\n\tat org.apache.catalina.core.StandardHostValve.invoke(StandardHostValve.java:139)\n\tat org.apache.catalina.valves.ErrorReportValve.invoke(ErrorReportValve.java:81)\n\tat org.apache.catalina.valves.AbstractAccessLogValve.invoke(AbstractAccessLogValve.java:678)\n\tat org.apache.catalina.core.StandardEngineValve.invoke(StandardEngineValve.java:87)\n\tat org.apache.catalina.connector.CoyoteAdapter.service(CoyoteAdapter.java:343)\n\tat org.apache.coyote.http11.Http11Processor.service(Http11Processor.java:609)\n\tat org.apache.coyote.AbstractProcessorLight.process(AbstractProcessorLight.java:65)\n\tat org.apache.coyote.AbstractProtocol$ConnectionHandler.process(AbstractProtocol.java:810)\n\tat org.apache.tomcat.util.net.Nio2Endpoint$SocketProcessor.doRun(Nio2Endpoint.java:1630)\n\tat org.apache.tomcat.util.net.SocketProcessorBase.run(SocketProcessorBase.java:49)\n\tat org.apache.tomcat.util.net.AbstractEndpoint.processSocket(AbstractEndpoint.java:1082)\n\tat org.apache.tomcat.util.net.Nio2Endpoint$Nio2SocketWrapper$2.completed(Nio2Endpoint.java:566)\n\tat org.apache.tomcat.util.net.Nio2Endpoint$Nio2SocketWrapper$2.completed(Nio2Endpoint.java:544)\n\tat sun.nio.ch.Invoker.invokeUnchecked(Invoker.java:126)\n\tat sun.nio.ch.Invoker$2.run(Invoker.java:218)\n\tat sun.nio.ch.AsynchronousChannelGroupImpl$1.run(AsynchronousChannelGroupImpl.java:112)\n\tat java.util.concurrent.ThreadPoolExecutor.runWorker(ThreadPoolExecutor.java:1149)\n\tat java.util.concurrent.ThreadPoolExecutor$Worker.run(ThreadPoolExecutor.java:624)\n\tat java.lang.Thread.run(Thread.java:748)\n"
     ]
    }
   ],
   "source": [
    "%run ../lib/kb_escher/kb_escher_app.py\n",
    "params = {\n",
    "        \"column_size\": 1,\n",
    "        \"gene_mode\": 0,\n",
    "        \"report_height\": 800,\n",
    "        \"grid_maps\": [{\n",
    "            \"map_id\": \"custom\",\n",
    "            \"user_map_id\": [\"82295/23/1\"],\n",
    "            \"model_id\": \"82295/20/1\",\n",
    "            \"model_compartment_id\": \"c0\",\n",
    "            \"model_alias\": \"ANME\",\n",
    "            \"export_full_model\": 0,\n",
    "            \"translate_map\": 1,\n",
    "            \"object_ids\": [],\n",
    "            \"cpd_abundance\": [],\n",
    "            \"cpd_abundance_dataset\": \"\",\n",
    "            \"gene_expression\": [],\n",
    "            \"gene_expression_dataset\": \"\"\n",
    "        }]\n",
    "    }\n",
    "kb_escher = KBaseEscher(params, api, escher_seed)\n",
    "em = kb_escher.build()"
   ]
  },
  {
   "cell_type": "code",
   "execution_count": null,
   "metadata": {},
   "outputs": [],
   "source": [
    "em.display_in_notebook()"
   ]
  },
  {
   "cell_type": "code",
   "execution_count": 34,
   "metadata": {},
   "outputs": [
    {
     "data": {
      "text/plain": [
       "{'cpd00041_c0@modelAlias': 2926,\n",
       " 'cpd00023_c0@modelAlias': 1459,\n",
       " 'cpd00066_c0@modelAlias': 199,\n",
       " 'cpd00143_c0@modelAlias': 546,\n",
       " 'cpd00009_c0@modelAlias': 146564,\n",
       " 'cpd00012_c0@modelAlias': 15166,\n",
       " 'cpd00054_c0@modelAlias': 14415,\n",
       " 'cpd00065_c0@modelAlias': 333,\n",
       " 'cpd00069_c0@modelAlias': 3058}"
      ]
     },
     "execution_count": 34,
     "metadata": {},
     "output_type": "execute_result"
    }
   ],
   "source": [
    "kb_escher.global_cpd_data"
   ]
  },
  {
   "cell_type": "code",
   "execution_count": 16,
   "metadata": {},
   "outputs": [],
   "source": [
    "params = {\n",
    "        \"column_size\": 3,\n",
    "        \"report_height\": 800,\n",
    "        \"grid_maps\": [{\n",
    "            \"map_id\": \"custom\",\n",
    "            \"user_map_id\": [\"55494/68/2\"],\n",
    "            \"model_id\": \"55494/17/15\",\n",
    "            \"model_compartment_id\": \"c0\",\n",
    "            \"model_alias\": \"modelAlias\",\n",
    "            \"object_ids\": [\"55494/40/12\"],\n",
    "            \"cpd_abundance\": [\"55494/31/6\"],\n",
    "            \"cpd_abundance_dataset\": \"Glucose - Exponential\",\n",
    "            \"gene_expression\": [\"55494/27/1\"],\n",
    "            \"gene_expression_dataset\": \"\"\n",
    "        }]\n",
    "    }\n",
    "params =  {\n",
    "        \"column_size\": 1,\n",
    "        \"gene_mode\": 0,\n",
    "        \"grid_maps\": [{\n",
    "            \"cpd_abundance\": [],\n",
    "            \"cpd_abundance_dataset\": \"\",\n",
    "            \"export_full_model\": 1,\n",
    "            \"gene_expression\": [],\n",
    "            \"gene_expression_dataset\": \"\",\n",
    "            \"map_id\": \"custom\",\n",
    "            \"model_alias\": \"\",\n",
    "            \"model_compartment_id\": \"c0\",\n",
    "            \"model_id\": \"60965/7/1\",\n",
    "            \"object_ids\": [],\n",
    "            \"user_map_id\": [\"60965/8/1\"]\n",
    "        }],\n",
    "        \"report_height\": 800\n",
    "    }"
   ]
  },
  {
   "cell_type": "code",
   "execution_count": 17,
   "metadata": {},
   "outputs": [
    {
     "name": "stdout",
     "output_type": "stream",
     "text": [
      "{'cpd_abundance': [], 'cpd_abundance_dataset': '', 'export_full_model': 1, 'gene_expression': [], 'gene_expression_dataset': '', 'map_id': 'custom', 'model_alias': '', 'model_compartment_id': 'c0', 'model_id': '60965/7/1', 'object_ids': [], 'user_map_id': ['60965/8/1']}\n",
      "{'map_id': 'custom.Central_Metabolism', 'model_id': '60965/7/1', 'cmp': 'c0', 'alias': '0', 'rxn_data': None, 'cpd_data': None, 'gene_data': None, 'export_full_model': True}\n",
      "!!! cpd00011_c0\n"
     ]
    },
    {
     "ename": "ValueError",
     "evalue": "not enough values to unpack (expected 2, got 1)",
     "output_type": "error",
     "traceback": [
      "\u001b[0;31m---------------------------------------------------------------------------\u001b[0m",
      "\u001b[0;31mValueError\u001b[0m                                Traceback (most recent call last)",
      "\u001b[0;32m<ipython-input-17-58ee4ca7d806>\u001b[0m in \u001b[0;36m<module>\u001b[0;34m\u001b[0m\n\u001b[1;32m      1\u001b[0m \u001b[0mkb_escher\u001b[0m \u001b[0;34m=\u001b[0m \u001b[0mKBaseEscher\u001b[0m\u001b[0;34m(\u001b[0m\u001b[0mparams\u001b[0m\u001b[0;34m,\u001b[0m \u001b[0mapi\u001b[0m\u001b[0;34m,\u001b[0m \u001b[0mescher_seed\u001b[0m\u001b[0;34m)\u001b[0m\u001b[0;34m\u001b[0m\u001b[0;34m\u001b[0m\u001b[0m\n\u001b[0;32m----> 2\u001b[0;31m \u001b[0mkb_escher\u001b[0m\u001b[0;34m.\u001b[0m\u001b[0mbuild\u001b[0m\u001b[0;34m(\u001b[0m\u001b[0;34m)\u001b[0m\u001b[0;34m\u001b[0m\u001b[0;34m\u001b[0m\u001b[0m\n\u001b[0m",
      "\u001b[0;32m~/workspace/jupyter/python3/kbase/kb_escher/lib/kb_escher/kb_escher_app.py\u001b[0m in \u001b[0;36mbuild\u001b[0;34m(self)\u001b[0m\n\u001b[1;32m    202\u001b[0m             \u001b[0malias\u001b[0m \u001b[0;34m=\u001b[0m \u001b[0mgrid_cell\u001b[0m\u001b[0;34m[\u001b[0m\u001b[0;34m'alias'\u001b[0m\u001b[0;34m]\u001b[0m\u001b[0;34m\u001b[0m\u001b[0;34m\u001b[0m\u001b[0m\n\u001b[1;32m    203\u001b[0m             em_cell = self.build_grid_cell(escher_map, fbamodel, \n\u001b[0;32m--> 204\u001b[0;31m                                                 cmp_id = cmp_id, alias = alias)\n\u001b[0m\u001b[1;32m    205\u001b[0m \u001b[0;34m\u001b[0m\u001b[0m\n\u001b[1;32m    206\u001b[0m \u001b[0;34m\u001b[0m\u001b[0m\n",
      "\u001b[0;32m~/workspace/jupyter/python3/kbase/kb_escher/lib/kb_escher/kb_escher_app.py\u001b[0m in \u001b[0;36mbuild_grid_cell\u001b[0;34m(self, escher_map, fbamodel, cmp_id, alias)\u001b[0m\n\u001b[1;32m    300\u001b[0m \u001b[0;34m\u001b[0m\u001b[0m\n\u001b[1;32m    301\u001b[0m     \u001b[0;32mdef\u001b[0m \u001b[0mbuild_grid_cell\u001b[0m\u001b[0;34m(\u001b[0m\u001b[0mself\u001b[0m\u001b[0;34m,\u001b[0m \u001b[0mescher_map\u001b[0m\u001b[0;34m,\u001b[0m \u001b[0mfbamodel\u001b[0m\u001b[0;34m,\u001b[0m \u001b[0mcmp_id\u001b[0m \u001b[0;34m=\u001b[0m \u001b[0;34m'c0'\u001b[0m\u001b[0;34m,\u001b[0m \u001b[0malias\u001b[0m \u001b[0;34m=\u001b[0m \u001b[0;32mNone\u001b[0m\u001b[0;34m)\u001b[0m\u001b[0;34m:\u001b[0m\u001b[0;34m\u001b[0m\u001b[0;34m\u001b[0m\u001b[0m\n\u001b[0;32m--> 302\u001b[0;31m         \u001b[0mem\u001b[0m \u001b[0;34m=\u001b[0m \u001b[0mself\u001b[0m\u001b[0;34m.\u001b[0m\u001b[0madapt_map_to_model\u001b[0m\u001b[0;34m(\u001b[0m\u001b[0mescher_map\u001b[0m\u001b[0;34m,\u001b[0m \u001b[0mcmp_id\u001b[0m\u001b[0;34m,\u001b[0m \u001b[0mstr\u001b[0m\u001b[0;34m(\u001b[0m\u001b[0malias\u001b[0m\u001b[0;34m)\u001b[0m\u001b[0;34m,\u001b[0m \u001b[0mfbamodel\u001b[0m\u001b[0;34m)\u001b[0m\u001b[0;34m\u001b[0m\u001b[0;34m\u001b[0m\u001b[0m\n\u001b[0m\u001b[1;32m    303\u001b[0m         \u001b[0;32mreturn\u001b[0m \u001b[0mem\u001b[0m\u001b[0;34m\u001b[0m\u001b[0;34m\u001b[0m\u001b[0m\n\u001b[1;32m    304\u001b[0m \u001b[0;34m\u001b[0m\u001b[0m\n",
      "\u001b[0;32m~/workspace/jupyter/python3/kbase/kb_escher/lib/kb_escher/kb_escher_app.py\u001b[0m in \u001b[0;36madapt_map_to_model\u001b[0;34m(self, em, cmp_id, suffix, fbamodel)\u001b[0m\n\u001b[1;32m    306\u001b[0m         \u001b[0mem\u001b[0m \u001b[0;34m=\u001b[0m \u001b[0mem\u001b[0m\u001b[0;34m.\u001b[0m\u001b[0mclone\u001b[0m\u001b[0;34m(\u001b[0m\u001b[0;34m)\u001b[0m\u001b[0;34m\u001b[0m\u001b[0;34m\u001b[0m\u001b[0m\n\u001b[1;32m    307\u001b[0m         \u001b[0;31m#adapt map to compartment\u001b[0m\u001b[0;34m\u001b[0m\u001b[0;34m\u001b[0m\u001b[0;34m\u001b[0m\u001b[0m\n\u001b[0;32m--> 308\u001b[0;31m         \u001b[0mmove_to_compartment2\u001b[0m\u001b[0;34m(\u001b[0m\u001b[0mcmp_id\u001b[0m\u001b[0;34m,\u001b[0m \u001b[0mem\u001b[0m\u001b[0;34m,\u001b[0m \u001b[0;34m'0'\u001b[0m\u001b[0;34m)\u001b[0m\u001b[0;34m\u001b[0m\u001b[0;34m\u001b[0m\u001b[0m\n\u001b[0m\u001b[1;32m    309\u001b[0m \u001b[0;34m\u001b[0m\u001b[0m\n\u001b[1;32m    310\u001b[0m         \u001b[0mmap_cpd_set\u001b[0m \u001b[0;34m=\u001b[0m \u001b[0mset\u001b[0m\u001b[0;34m(\u001b[0m\u001b[0;34m)\u001b[0m\u001b[0;34m\u001b[0m\u001b[0;34m\u001b[0m\u001b[0m\n",
      "\u001b[0;32m~/opt/anaconda3/lib/python3.7/site-packages/modelseed_escher/convert_utils.py\u001b[0m in \u001b[0;36mmove_to_compartment2\u001b[0;34m(cmp_id, em, cmp_index)\u001b[0m\n\u001b[1;32m    203\u001b[0m         \u001b[0;32mif\u001b[0m \u001b[0mn\u001b[0m\u001b[0;34m[\u001b[0m\u001b[0;34m'node_type'\u001b[0m\u001b[0;34m]\u001b[0m \u001b[0;34m==\u001b[0m \u001b[0;34m'metabolite'\u001b[0m\u001b[0;34m:\u001b[0m\u001b[0;34m\u001b[0m\u001b[0;34m\u001b[0m\u001b[0m\n\u001b[1;32m    204\u001b[0m             \u001b[0mtarget_cmp\u001b[0m \u001b[0;34m=\u001b[0m \u001b[0mcmp_id\u001b[0m\u001b[0;34m\u001b[0m\u001b[0;34m\u001b[0m\u001b[0m\n\u001b[0;32m--> 205\u001b[0;31m             \u001b[0mbase\u001b[0m\u001b[0;34m,\u001b[0m \u001b[0mnode_cmp\u001b[0m \u001b[0;34m=\u001b[0m \u001b[0mdetect_current_compartment\u001b[0m\u001b[0;34m(\u001b[0m\u001b[0mn\u001b[0m\u001b[0;34m)\u001b[0m\u001b[0;34m\u001b[0m\u001b[0;34m\u001b[0m\u001b[0m\n\u001b[0m\u001b[1;32m    206\u001b[0m             \u001b[0;32mif\u001b[0m \u001b[0;32mnot\u001b[0m \u001b[0mnode_cmp\u001b[0m \u001b[0;34m==\u001b[0m \u001b[0;32mNone\u001b[0m\u001b[0;34m:\u001b[0m\u001b[0;34m\u001b[0m\u001b[0;34m\u001b[0m\u001b[0m\n\u001b[1;32m    207\u001b[0m                 \u001b[0mnode_cmp_index\u001b[0m \u001b[0;34m=\u001b[0m \u001b[0mdetect_compartment_index\u001b[0m\u001b[0;34m(\u001b[0m\u001b[0mnode_cmp\u001b[0m\u001b[0;34m)\u001b[0m\u001b[0;34m\u001b[0m\u001b[0;34m\u001b[0m\u001b[0m\n",
      "\u001b[0;31mValueError\u001b[0m: not enough values to unpack (expected 2, got 1)"
     ]
    }
   ],
   "source": [
    "kb_escher = KBaseEscher(params, api, escher_seed)\n",
    "kb_escher.build()"
   ]
  },
  {
   "cell_type": "code",
   "execution_count": null,
   "metadata": {},
   "outputs": [],
   "source": []
  }
 ],
 "metadata": {
  "kernelspec": {
   "display_name": "Python 3",
   "language": "python",
   "name": "python3"
  },
  "language_info": {
   "codemirror_mode": {
    "name": "ipython",
    "version": 3
   },
   "file_extension": ".py",
   "mimetype": "text/x-python",
   "name": "python",
   "nbconvert_exporter": "python",
   "pygments_lexer": "ipython3",
   "version": "3.7.4"
  }
 },
 "nbformat": 4,
 "nbformat_minor": 4
}
