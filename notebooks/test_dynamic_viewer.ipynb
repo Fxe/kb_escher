{
 "cells": [
  {
   "cell_type": "code",
   "execution_count": 59,
   "metadata": {},
   "outputs": [],
   "source": [
    "import json\n",
    "import cobrakbase\n",
    "import escher\n",
    "import modelseed_escher\n",
    "from cobrakbase.core import KBaseFBAModel\n",
    "from cobrakbase.core import KBaseGenome\n",
    "import pandas as pd"
   ]
  },
  {
   "cell_type": "code",
   "execution_count": 2,
   "metadata": {},
   "outputs": [],
   "source": [
    "token = \"64XQ7SABQILQWSEW3CQKZXJA63DXZBGH\"\n",
    "kbase = cobrakbase.KBaseAPI(token)"
   ]
  },
  {
   "cell_type": "code",
   "execution_count": 6,
   "metadata": {},
   "outputs": [],
   "source": [
    "escher_seed = modelseed_escher.EscherManager(escher)"
   ]
  },
  {
   "cell_type": "code",
   "execution_count": 4,
   "metadata": {},
   "outputs": [],
   "source": [
    "ws = 'filipeliu:narrative_1582914694010'\n",
    "model1 = kbase.get_object('GCF_000005845.2.RAST2.mdl_v3', ws)\n",
    "model2 = kbase.get_object('GCF_000005845.2.RASTtk.mdl', ws)"
   ]
  },
  {
   "cell_type": "code",
   "execution_count": 9,
   "metadata": {},
   "outputs": [],
   "source": [
    "models = {\n",
    "    'curated' : KBaseFBAModel(model1),\n",
    "    'old' : KBaseFBAModel(model2),\n",
    "}"
   ]
  },
  {
   "cell_type": "code",
   "execution_count": 13,
   "metadata": {},
   "outputs": [],
   "source": [
    "%run ../lib/kb_escher/kb_escher_utils.py"
   ]
  },
  {
   "cell_type": "code",
   "execution_count": 14,
   "metadata": {},
   "outputs": [],
   "source": [
    "map_list = {}\n",
    "for m in escher_seed.list_maps('ModelSEED'):\n",
    "    model_id, map_id = m.split('.')\n",
    "    map_data = escher_seed.get_map('ModelSEED', model_id, map_id)\n",
    "    map_list[map_id] = {}\n",
    "    for model_id in models:\n",
    "        map_list[map_id][model_id] = {}\n",
    "        map_list[map_id][model_id] = scan_content(map_data, models[model_id], None)\n",
    "with open('../data/html/data/map_list.json', 'w') as fh:\n",
    "    fh.write(json.dumps(map_list))"
   ]
  },
  {
   "cell_type": "code",
   "execution_count": 15,
   "metadata": {},
   "outputs": [],
   "source": [
    "fbamodel = models['curated']"
   ]
  },
  {
   "cell_type": "code",
   "execution_count": 29,
   "metadata": {},
   "outputs": [],
   "source": [
    "for model_id in models:\n",
    "    fbamodel = models[model_id]\n",
    "    genes = set()\n",
    "    for rxn in fbamodel.reactions:\n",
    "        for and_rule in rxn.get_gpr():\n",
    "            genes |= and_rule\n",
    "    common_set &= genes"
   ]
  },
  {
   "cell_type": "code",
   "execution_count": 27,
   "metadata": {},
   "outputs": [],
   "source": [
    "common_set = set()\n",
    "common_set |= genes"
   ]
  },
  {
   "cell_type": "code",
   "execution_count": 30,
   "metadata": {},
   "outputs": [
    {
     "data": {
      "text/plain": [
       "838"
      ]
     },
     "execution_count": 30,
     "metadata": {},
     "output_type": "execute_result"
    }
   ],
   "source": [
    "len(common_set)"
   ]
  },
  {
   "cell_type": "code",
   "execution_count": 40,
   "metadata": {},
   "outputs": [],
   "source": [
    "model_unique = {}\n",
    "for model_id in models:\n",
    "    unique = set()\n",
    "    fbamodel = models[model_id]\n",
    "    genes = set()\n",
    "    for rxn in fbamodel.reactions:\n",
    "        for and_rule in rxn.get_gpr():\n",
    "            genes |= and_rule\n",
    "    unique = genes - common_set\n",
    "    model_unique[model_id] = unique"
   ]
  },
  {
   "cell_type": "code",
   "execution_count": 39,
   "metadata": {},
   "outputs": [],
   "source": [
    "model_genomes = {}\n",
    "for model_id in models:\n",
    "    fbamodel = models[model_id]\n",
    "    ref = kbase.get_object_info_from_ref(fbamodel.data['genome_ref'])\n",
    "    o = kbase.get_object(ref.id, ref.workspace_id)\n",
    "    model_genomes[model_id] = KBaseGenome(o)"
   ]
  },
  {
   "cell_type": "code",
   "execution_count": 55,
   "metadata": {},
   "outputs": [],
   "source": [
    "data = {\n",
    "    'model_unique' : [],\n",
    "    'gene_id' : [],\n",
    "    'gene_annotation1' : [],\n",
    "    'gene_annotation2' : [],\n",
    "}\n",
    "for model_id in models:\n",
    "    for gene_id in model_unique[model_id]:\n",
    "        data['model_unique'].append(model_id)\n",
    "        data['gene_id'].append(gene_id)\n",
    "        genome1 = model_genomes['curated']\n",
    "        genome2 = model_genomes['old']\n",
    "        f1 = list(filter(lambda x: x['id'] == gene_id, genome1.features))[0]\n",
    "        f2 = list(filter(lambda x: x['id'] == gene_id, genome2.features))[0]\n",
    "        data['gene_annotation1'].append(genome1.get_annotation2f(f1))\n",
    "        data['gene_annotation2'].append(genome2.get_annotation2f(f2))"
   ]
  },
  {
   "cell_type": "code",
   "execution_count": 57,
   "metadata": {},
   "outputs": [],
   "source": [
    "df = pd.DataFrame(data)"
   ]
  },
  {
   "cell_type": "code",
   "execution_count": 60,
   "metadata": {},
   "outputs": [
    {
     "data": {
      "text/plain": [
       "[56739,\n",
       " 'filipeliu:narrative_1582914694010',\n",
       " 'filipeliu',\n",
       " '2020-03-02T19:22:50+0000',\n",
       " 26,\n",
       " 'a',\n",
       " 'n',\n",
       " 'unlocked',\n",
       " {'cell_count': '1',\n",
       "  'narrative_nice_name': 'Updated Template',\n",
       "  'searchtags': 'narrative',\n",
       "  'is_temporary': 'false',\n",
       "  'narrative': '1'}]"
      ]
     },
     "execution_count": 60,
     "metadata": {},
     "output_type": "execute_result"
    }
   ],
   "source": [
    "kbase.ws_client.get_workspace_info({\n",
    "    'id' : '56739'\n",
    "})"
   ]
  },
  {
   "cell_type": "code",
   "execution_count": 58,
   "metadata": {},
   "outputs": [],
   "source": [
    "df.to_csv('/Users/fliu/workspace/jupyter/data/modelseed2/ecoli_rast_comp.tsv', sep='\\t')"
   ]
  },
  {
   "cell_type": "code",
   "execution_count": null,
   "metadata": {},
   "outputs": [],
   "source": []
  },
  {
   "cell_type": "code",
   "execution_count": null,
   "metadata": {},
   "outputs": [],
   "source": []
  }
 ],
 "metadata": {
  "kernelspec": {
   "display_name": "Python 3",
   "language": "python",
   "name": "python3"
  },
  "language_info": {
   "codemirror_mode": {
    "name": "ipython",
    "version": 3
   },
   "file_extension": ".py",
   "mimetype": "text/x-python",
   "name": "python",
   "nbconvert_exporter": "python",
   "pygments_lexer": "ipython3",
   "version": "3.7.4"
  }
 },
 "nbformat": 4,
 "nbformat_minor": 4
}
